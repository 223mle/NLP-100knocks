{
  "cells": [
    {
      "cell_type": "markdown",
      "metadata": {
        "id": "view-in-github",
        "colab_type": "text"
      },
      "source": [
        "<a href=\"https://colab.research.google.com/github/tsutsumi-ozro/NLP-100knocks/blob/main/ch04.ipynb\" target=\"_parent\"><img src=\"https://colab.research.google.com/assets/colab-badge.svg\" alt=\"Open In Colab\"/></a>"
      ]
    },
    {
      "cell_type": "markdown",
      "metadata": {
        "id": "lKSrJy2WTnCr"
      },
      "source": [
        "## 第4章: 形態素解析\n",
        "夏目漱石の小説『吾輩は猫である』の文章（[neko.txt](https://nlp100.github.io/data/neko.txt)）をMeCabを使って形態素解析し，その結果をneko.txt.mecabというファイルに保存せよ．このファイルを用いて，以下の問に対応するプログラムを実装せよ．\n",
        "\n",
        "なお，問題37, 38, 39はmatplotlibもしくはGnuplotを用いるとよい"
      ]
    },
    {
      "cell_type": "code",
      "source": [
        "!wget https://nlp100.github.io/data/neko.txt"
      ],
      "metadata": {
        "colab": {
          "base_uri": "https://localhost:8080/"
        },
        "id": "qCGd8zUFUY5x",
        "outputId": "d2392dd8-c332-4126-c78e-720ccb4729b5"
      },
      "execution_count": 1,
      "outputs": [
        {
          "output_type": "stream",
          "name": "stdout",
          "text": [
            "--2023-01-05 00:26:06--  https://nlp100.github.io/data/neko.txt\n",
            "Resolving nlp100.github.io (nlp100.github.io)... 185.199.108.153, 185.199.111.153, 185.199.109.153, ...\n",
            "Connecting to nlp100.github.io (nlp100.github.io)|185.199.108.153|:443... connected.\n",
            "HTTP request sent, awaiting response... 200 OK\n",
            "Length: 975789 (953K) [text/plain]\n",
            "Saving to: ‘neko.txt’\n",
            "\n",
            "\rneko.txt              0%[                    ]       0  --.-KB/s               \rneko.txt            100%[===================>] 952.92K  --.-KB/s    in 0.05s   \n",
            "\n",
            "2023-01-05 00:26:06 (19.7 MB/s) - ‘neko.txt’ saved [975789/975789]\n",
            "\n"
          ]
        }
      ]
    },
    {
      "cell_type": "code",
      "source": [
        "!apt install mecab libmecab-dev mecab-ipadic-utf8"
      ],
      "metadata": {
        "id": "PY7bMABQUfSI"
      },
      "execution_count": null,
      "outputs": []
    },
    {
      "cell_type": "code",
      "source": [
        "!mecab -o ./neko.txt.mecab /content/neko.txt"
      ],
      "metadata": {
        "id": "RoJYHOeWUwb7"
      },
      "execution_count": 3,
      "outputs": []
    },
    {
      "cell_type": "code",
      "source": [
        "!head -15 ./neko.txt.mecab"
      ],
      "metadata": {
        "colab": {
          "base_uri": "https://localhost:8080/"
        },
        "id": "-G7fkyLdVYzP",
        "outputId": "b1ab26a4-f908-4b83-bb29-dde600e4d62d"
      },
      "execution_count": 4,
      "outputs": [
        {
          "output_type": "stream",
          "name": "stdout",
          "text": [
            "一\t名詞,数,*,*,*,*,一,イチ,イチ\n",
            "\r\t記号,一般,*,*,*,*,*\n",
            "EOS\n",
            "\r\t記号,一般,*,*,*,*,*\n",
            "EOS\n",
            "　\t記号,空白,*,*,*,*,　,　,　\n",
            "吾輩\t名詞,代名詞,一般,*,*,*,吾輩,ワガハイ,ワガハイ\n",
            "は\t助詞,係助詞,*,*,*,*,は,ハ,ワ\n",
            "猫\t名詞,一般,*,*,*,*,猫,ネコ,ネコ\n",
            "で\t助動詞,*,*,*,特殊・ダ,連用形,だ,デ,デ\n",
            "ある\t助動詞,*,*,*,五段・ラ行アル,基本形,ある,アル,アル\n",
            "。\t記号,句点,*,*,*,*,。,。,。\n",
            "\r\t記号,一般,*,*,*,*,*\n",
            "EOS\n",
            "名前\t名詞,一般,*,*,*,*,名前,ナマエ,ナマエ\n"
          ]
        }
      ]
    },
    {
      "cell_type": "markdown",
      "metadata": {
        "id": "tq_QsHeqTnCw"
      },
      "source": [
        "### 30. 形態素解析結果の読み込み\n",
        "形態素解析結果（neko.txt.mecab）を読み込むプログラムを実装せよ．ただし，各形態素は表層形（surface），基本形（base），品詞（pos），品詞細分類1（pos1）をキーとするマッピング型に格納し，1文を形態素（マッピング型）のリストとして表現せよ．第4章の残りの問題では，ここで作ったプログラムを活用せよ．"
      ]
    },
    {
      "cell_type": "code",
      "source": [
        "filename = './neko.txt.mecab'\n",
        "\n",
        "sentences = []\n",
        "morphs = []\n",
        "with open(filename, mode='r') as f:\n",
        "    for line in f:\n",
        "        if line!='EOS\\n':\n",
        "            fields = line.split('\\t')\n",
        "            if len(fields)!=2 or fields[0]=='': continue\n",
        "            else:\n",
        "                attr = fields[1].split(',')\n",
        "                morph = {'surface': fields[0], 'base':attr[6], 'pos':attr[0], 'pos1':attr[1]}\n",
        "                morphs.append(morph)\n",
        "        else:\n",
        "            sentences.append(morphs)\n",
        "            morphs = []\n",
        "for morph in sentences[2]:\n",
        "    print(morph)\n"
      ],
      "metadata": {
        "colab": {
          "base_uri": "https://localhost:8080/"
        },
        "id": "kvJY-0nBUTQv",
        "outputId": "248f7766-a965-4164-961b-fbd9c0162240"
      },
      "execution_count": 5,
      "outputs": [
        {
          "output_type": "stream",
          "name": "stdout",
          "text": [
            "{'surface': '\\u3000', 'base': '\\u3000', 'pos': '記号', 'pos1': '空白'}\n",
            "{'surface': '吾輩', 'base': '吾輩', 'pos': '名詞', 'pos1': '代名詞'}\n",
            "{'surface': 'は', 'base': 'は', 'pos': '助詞', 'pos1': '係助詞'}\n",
            "{'surface': '猫', 'base': '猫', 'pos': '名詞', 'pos1': '一般'}\n",
            "{'surface': 'で', 'base': 'だ', 'pos': '助動詞', 'pos1': '*'}\n",
            "{'surface': 'ある', 'base': 'ある', 'pos': '助動詞', 'pos1': '*'}\n",
            "{'surface': '。', 'base': '。', 'pos': '記号', 'pos1': '句点'}\n"
          ]
        }
      ]
    },
    {
      "cell_type": "markdown",
      "metadata": {
        "id": "D7Re72usTnCw"
      },
      "source": [
        "### 31. 動詞\n",
        "動詞の表層形をすべて抽出せよ．"
      ]
    },
    {
      "cell_type": "code",
      "source": [
        "surface_verb = []\n",
        "for morphs in sentences:\n",
        "    for morph in morphs:\n",
        "        if morph['pos']=='動詞':\n",
        "            surface_verb.append(morph['surface'])\n",
        "\n",
        "print(f'動詞の数: {len(surface_verb)}')\n",
        "print(*surface_verb[:10], sep='\\n')"
      ],
      "metadata": {
        "colab": {
          "base_uri": "https://localhost:8080/"
        },
        "id": "MPCJ7uuVXEMu",
        "outputId": "0fa4ec9a-7251-4c9a-f052-6cf481ebe723"
      },
      "execution_count": 7,
      "outputs": [
        {
          "output_type": "stream",
          "name": "stdout",
          "text": [
            "動詞の数: 28905\n",
            "生れ\n",
            "つか\n",
            "し\n",
            "泣い\n",
            "し\n",
            "いる\n",
            "始め\n",
            "見\n",
            "聞く\n",
            "捕え\n"
          ]
        }
      ]
    },
    {
      "cell_type": "markdown",
      "metadata": {
        "id": "YetKf4euTnCx"
      },
      "source": [
        "### 32. 動詞の基本形\n",
        "動詞の基本形をすべて抽出せよ．"
      ]
    },
    {
      "cell_type": "code",
      "source": [
        "base_verb = []\n",
        "for morphs in sentences:\n",
        "    for morph in morphs:\n",
        "        if morph['pos']=='動詞':\n",
        "            base_verb.append(morph['base'])\n",
        "\n",
        "print(*base_verb[:10], sep='\\n')\n"
      ],
      "metadata": {
        "colab": {
          "base_uri": "https://localhost:8080/"
        },
        "id": "Lm-9Wqz4X2K8",
        "outputId": "397f27da-27bd-4a96-bb2f-c654690fd423"
      },
      "execution_count": 8,
      "outputs": [
        {
          "output_type": "stream",
          "name": "stdout",
          "text": [
            "生れる\n",
            "つく\n",
            "する\n",
            "泣く\n",
            "する\n",
            "いる\n",
            "始める\n",
            "見る\n",
            "聞く\n",
            "捕える\n"
          ]
        }
      ]
    },
    {
      "cell_type": "markdown",
      "metadata": {
        "id": "XVOd8IbLTnCx"
      },
      "source": [
        "### 33. 「AのB」\n",
        "2つの名詞が「の」で連結されている名詞句を抽出せよ"
      ]
    },
    {
      "cell_type": "code",
      "source": [
        "a_of_b = []\n",
        "for morphs in sentences:\n",
        "    for i in range(1, len(morphs)-1):\n",
        "        if morphs[i-1]['pos']=='名詞' and morphs[i]['surface']=='の' and morphs[i+1]['pos']=='名詞':\n",
        "            a_of_b.append((morphs[i-1]['surface'], morphs[i+1]['surface']))\n",
        "            \n",
        "print(f'ので連結されている名詞句の数： {len(a_of_b)}')\n",
        "print(*a_of_b[:10], sep='\\n')\n"
      ],
      "metadata": {
        "colab": {
          "base_uri": "https://localhost:8080/"
        },
        "id": "oooqYiv7bIpq",
        "outputId": "a93e4564-bcd9-4a47-fea6-9815dd9be44b"
      },
      "execution_count": 12,
      "outputs": [
        {
          "output_type": "stream",
          "name": "stdout",
          "text": [
            "ので連結されている名詞句の数： 6044\n",
            "('彼', '掌')\n",
            "('掌', '上')\n",
            "('書生', '顔')\n",
            "('はず', '顔')\n",
            "('顔', '真中')\n",
            "('穴', '中')\n",
            "('書生', '掌')\n",
            "('掌', '裏')\n",
            "('何', '事')\n",
            "('肝心', '母親')\n"
          ]
        }
      ]
    },
    {
      "cell_type": "markdown",
      "metadata": {
        "id": "JuZ4hRnpTnCx"
      },
      "source": [
        "### 34. 名詞の連接\n",
        "名詞の連接（連続して出現する名詞）を最長一致で抽出せよ．"
      ]
    },
    {
      "cell_type": "code",
      "source": [
        "concat_noun = []\n",
        "noun_num = 0\n",
        "nouns = []\n",
        "for morphs in sentences:\n",
        "    for i in range(len(morphs)):\n",
        "        if morphs[i]['pos']!='名詞':\n",
        "            if noun_num>=2:\n",
        "                concat_noun.append(nouns)\n",
        "                noun_num = 0\n",
        "                nouns = []\n",
        "            else:\n",
        "                noun_num = 0\n",
        "                nouns = []\n",
        "        if morphs[i]['pos']=='名詞':\n",
        "            nouns.append(morphs[i]['surface'])\n",
        "            noun_num += 1\n",
        "max_concat_num = 0\n",
        "for i in range(len(concat_noun)):\n",
        "    max_concat_num = max(max_concat_num, len(concat_noun[i]))\n",
        "\n",
        "print(f'連接されている名詞の数： {len(concat_noun)}')\n",
        "print(f'一番長い連接数: {max_concat_num}')\n",
        "print(*concat_noun[:10], sep='\\n')"
      ],
      "metadata": {
        "colab": {
          "base_uri": "https://localhost:8080/"
        },
        "id": "SpJ4tOMAchQM",
        "outputId": "49ddd07a-8891-4638-ea87-d3da402ecb6c"
      },
      "execution_count": 15,
      "outputs": [
        {
          "output_type": "stream",
          "name": "stdout",
          "text": [
            "連接されている名詞の数： 7338\n",
            "一番長い連接数: 10\n",
            "['人間', '中']\n",
            "['一番', '獰悪']\n",
            "['時', '妙']\n",
            "['一', '毛']\n",
            "['その後', '猫']\n",
            "['一', '度']\n",
            "['ぷうぷうと', '煙']\n",
            "['邸', '内']\n",
            "['三', '毛']\n",
            "['書生', '以外']\n"
          ]
        }
      ]
    },
    {
      "cell_type": "markdown",
      "metadata": {
        "id": "VxRCx1HMTnCx"
      },
      "source": [
        "### 35. 単語の出現頻度\n",
        "文章中に出現する単語とその出現頻度を求め，出現頻度の高い順に並べよ．"
      ]
    },
    {
      "cell_type": "markdown",
      "source": [
        "出現頻度をsurfaceで数えるべきか、baseで数えるべきかわからんかった"
      ],
      "metadata": {
        "id": "OVF_yzQZep7o"
      }
    },
    {
      "cell_type": "code",
      "source": [
        "from collections import defaultdict\n",
        "freq_of_apper = defaultdict(int)\n",
        "for morphs in sentences:\n",
        "    for morph in morphs:\n",
        "        if morph['pos']!='記号':\n",
        "            freq_of_apper[morph['base']] += 1\n",
        "freq_of_apper = sorted(freq_of_apper.items(), key=lambda x:x[1], reverse=True)\n",
        "print(*freq_of_apper[:10], sep='\\n')"
      ],
      "metadata": {
        "colab": {
          "base_uri": "https://localhost:8080/"
        },
        "id": "uJ9KhdGWePNw",
        "outputId": "dddd489a-ee7d-4fbd-f9bf-8be2e1bc480a"
      },
      "execution_count": 20,
      "outputs": [
        {
          "output_type": "stream",
          "name": "stdout",
          "text": [
            "('の', 9194)\n",
            "('て', 6848)\n",
            "('は', 6420)\n",
            "('に', 6243)\n",
            "('を', 6071)\n",
            "('だ', 5972)\n",
            "('と', 5508)\n",
            "('が', 5337)\n",
            "('た', 4267)\n",
            "('する', 3657)\n"
          ]
        }
      ]
    },
    {
      "cell_type": "markdown",
      "metadata": {
        "id": "mvgeT5nZTnCy"
      },
      "source": [
        "### 36. 頻度上位10語\n",
        "出現頻度が高い10語とその出現頻度をグラフ（例えば棒グラフなど）で表示せよ．"
      ]
    },
    {
      "cell_type": "code",
      "source": [
        "!pip install japanize_matplotlib\n",
        "import japanize_matplotlib\n",
        "import matplotlib.pyplot as plt"
      ],
      "metadata": {
        "colab": {
          "base_uri": "https://localhost:8080/"
        },
        "id": "zcl6EqTBf0eA",
        "outputId": "ed023470-88ef-422c-fc2c-7ff1e635417c"
      },
      "execution_count": 31,
      "outputs": [
        {
          "output_type": "stream",
          "name": "stdout",
          "text": [
            "Looking in indexes: https://pypi.org/simple, https://us-python.pkg.dev/colab-wheels/public/simple/\n",
            "Collecting japanize_matplotlib\n",
            "  Downloading japanize-matplotlib-1.1.3.tar.gz (4.1 MB)\n",
            "\u001b[2K     \u001b[90m━━━━━━━━━━━━━━━━━━━━━━━━━━━━━━━━━━━━━━━━\u001b[0m \u001b[32m4.1/4.1 MB\u001b[0m \u001b[31m24.1 MB/s\u001b[0m eta \u001b[36m0:00:00\u001b[0m\n",
            "\u001b[?25h  Preparing metadata (setup.py) ... \u001b[?25l\u001b[?25hdone\n",
            "Requirement already satisfied: matplotlib in /usr/local/lib/python3.8/dist-packages (from japanize_matplotlib) (3.2.2)\n",
            "Requirement already satisfied: pyparsing!=2.0.4,!=2.1.2,!=2.1.6,>=2.0.1 in /usr/local/lib/python3.8/dist-packages (from matplotlib->japanize_matplotlib) (3.0.9)\n",
            "Requirement already satisfied: cycler>=0.10 in /usr/local/lib/python3.8/dist-packages (from matplotlib->japanize_matplotlib) (0.11.0)\n",
            "Requirement already satisfied: numpy>=1.11 in /usr/local/lib/python3.8/dist-packages (from matplotlib->japanize_matplotlib) (1.21.6)\n",
            "Requirement already satisfied: kiwisolver>=1.0.1 in /usr/local/lib/python3.8/dist-packages (from matplotlib->japanize_matplotlib) (1.4.4)\n",
            "Requirement already satisfied: python-dateutil>=2.1 in /usr/local/lib/python3.8/dist-packages (from matplotlib->japanize_matplotlib) (2.8.2)\n",
            "Requirement already satisfied: six>=1.5 in /usr/local/lib/python3.8/dist-packages (from python-dateutil>=2.1->matplotlib->japanize_matplotlib) (1.15.0)\n",
            "Building wheels for collected packages: japanize_matplotlib\n",
            "  Building wheel for japanize_matplotlib (setup.py) ... \u001b[?25l\u001b[?25hdone\n",
            "  Created wheel for japanize_matplotlib: filename=japanize_matplotlib-1.1.3-py3-none-any.whl size=4120275 sha256=d03f06ac06af1c95a729058a6eea052b55a1da38b445a2ba096d5867835eafb1\n",
            "  Stored in directory: /root/.cache/pip/wheels/4f/ca/96/4cc5e192421cceb077fbf4ffec533382edd416fd3fa0af0bbd\n",
            "Successfully built japanize_matplotlib\n",
            "Installing collected packages: japanize_matplotlib\n",
            "Successfully installed japanize_matplotlib-1.1.3\n"
          ]
        }
      ]
    },
    {
      "cell_type": "code",
      "source": [
        "freq_word = [word[0] for word in freq_of_apper[:10]]\n",
        "freq_num =  [word[1] for word in freq_of_apper[:10]]\n",
        "plt.figure(figsize=(14, 8))\n",
        "plt.bar(freq_word, freq_num, color='orange')\n",
        "plt.show()"
      ],
      "metadata": {
        "colab": {
          "base_uri": "https://localhost:8080/",
          "height": 482
        },
        "id": "CIutEjUKfQxO",
        "outputId": "43608ea4-4702-4b8f-f5de-5dcf9e21b9a2"
      },
      "execution_count": 34,
      "outputs": [
        {
          "output_type": "display_data",
          "data": {
            "text/plain": [
              "<Figure size 1008x576 with 1 Axes>"
            ],
            "image/png": "[encoded data removed]"
          },
          "metadata": {
            "needs_background": "light"
          }
        }
      ]
    },
    {
      "cell_type": "markdown",
      "metadata": {
        "id": "qHV6WmAQTnCy"
      },
      "source": [
        "### 37. 「猫」と共起頻度の高い上位10語\n",
        "「猫」とよく共起する（共起頻度が高い）10語とその出現頻度をグラフ（例えば棒グラフなど）で表示せよ．"
      ]
    },
    {
      "cell_type": "code",
      "source": [
        "freq_with_cat = defaultdict(int)\n",
        "for morphs in sentences:\n",
        "    if '猫' in [morph['surface'] for morph in morphs]:\n",
        "        for morph in morphs:\n",
        "            if morph['pos']!='記号':\n",
        "                freq_with_cat[morph['base']] += 1\n",
        "del freq_with_cat['猫']\n",
        "freq_with_cat = sorted(freq_with_cat.items(), key=lambda x:x[1], reverse=True)\n",
        "\n",
        "freq_with_cat_word = [word[0] for word in freq_with_cat[:10]]\n",
        "freq_with_cat_num = [word[1] for word in freq_with_cat[:10]]\n",
        "\n",
        "plt.figure(figsize=(14, 8))\n",
        "plt.bar(freq_with_cat_word, freq_with_cat_num)\n",
        "plt.show()"
      ],
      "metadata": {
        "colab": {
          "base_uri": "https://localhost:8080/",
          "height": 482
        },
        "id": "7FLik4XMgV8J",
        "outputId": "aba3c60a-4290-414e-f52e-45b398706bd1"
      },
      "execution_count": 39,
      "outputs": [
        {
          "output_type": "display_data",
          "data": {
            "text/plain": [
              "<Figure size 1008x576 with 1 Axes>"
            ],
            "image/png": "[encoded data removed]"
          },
          "metadata": {
            "needs_background": "light"
          }
        }
      ]
    },
    {
      "cell_type": "markdown",
      "metadata": {
        "id": "RPWg_XB-TnCz"
      },
      "source": [
        "### 38. ヒストグラム\n",
        "単語の出現頻度のヒストグラムを描け．ただし，横軸は出現頻度を表し，1から単語の出現頻度の最大値までの線形目盛とする．縦軸はx軸で示される出現頻度となった単語の異なり数（種類数）である．"
      ]
    },
    {
      "cell_type": "code",
      "source": [
        "freq_of_apper_val = [items[1] for items in freq_of_apper]\n",
        "plt.figure(figsize=(14, 8))\n",
        "plt.hist(freq_of_apper_val, bins=100)\n",
        "plt.title('freq_word')\n",
        "plt.xlabel('出現回数')\n",
        "plt.ylabel('単語の種類数')\n",
        "plt.show()"
      ],
      "metadata": {
        "colab": {
          "base_uri": "https://localhost:8080/",
          "height": 510
        },
        "id": "3CH8vh3kgWLe",
        "outputId": "4afbac83-9140-4477-ec68-c775b4395580"
      },
      "execution_count": 44,
      "outputs": [
        {
          "output_type": "display_data",
          "data": {
            "text/plain": [
              "<Figure size 1008x576 with 1 Axes>"
            ],
            "image/png": "[encoded data removed]"
          },
          "metadata": {
            "needs_background": "light"
          }
        }
      ]
    },
    {
      "cell_type": "markdown",
      "metadata": {
        "id": "M05Bv0oUTnCz"
      },
      "source": [
        "### 39. Zipfの法則\n",
        "単語の出現頻度順位を横軸，その出現頻度を縦軸として，両対数グラフをプロットせよ．"
      ]
    },
    {
      "cell_type": "code",
      "execution_count": 45,
      "metadata": {
        "colab": {
          "base_uri": "https://localhost:8080/",
          "height": 518
        },
        "id": "Tx4hWLedTnCz",
        "outputId": "73aed786-a9e2-45a5-f5b9-3b5e33a3c08f"
      },
      "outputs": [
        {
          "output_type": "display_data",
          "data": {
            "text/plain": [
              "<Figure size 1008x576 with 1 Axes>"
            ],
            "image/png": "[encoded data removed]"
          },
          "metadata": {
            "needs_background": "light"
          }
        }
      ],
      "source": [
        "ranks = [rank+1 for rank in range(len(freq_of_apper))]\n",
        "plt.figure(figsize=(14, 8))\n",
        "plt.scatter(ranks, freq_of_apper_val)\n",
        "plt.xscale('log')\n",
        "plt.yscale('log')\n",
        "plt.xlabel('出現頻度順位(log)')\n",
        "plt.ylabel('出現回数(log)')\n",
        "plt.title('Zipfの法則')\n",
        "plt.show()"
      ]
    },
    {
      "cell_type": "code",
      "source": [],
      "metadata": {
        "id": "Vu2tc8zMkNqG"
      },
      "execution_count": null,
      "outputs": []
    }
  ],
  "metadata": {
    "kernelspec": {
      "display_name": "Python 3",
      "language": "python",
      "name": "python3"
    },
    "language_info": {
      "name": "python",
      "version": "3.9.6 (default, Oct 18 2022, 12:41:40) \n[Clang 14.0.0 (clang-1400.0.29.202)]"
    },
    "orig_nbformat": 4,
    "vscode": {
      "interpreter": {
        "hash": "31f2aee4e71d21fbe5cf8b01ff0e069b9275f58929596ceb00d14d90e3e16cd6"
      }
    },
    "colab": {
      "provenance": [],
      "include_colab_link": true
    }
  },
  "nbformat": 4,
  "nbformat_minor": 0
}