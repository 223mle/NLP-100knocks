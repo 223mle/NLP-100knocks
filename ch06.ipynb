{
  "cells": [
    {
      "cell_type": "markdown",
      "metadata": {
        "id": "view-in-github",
        "colab_type": "text"
      },
      "source": [
        "<a href=\"https://colab.research.google.com/github/tsutsumi-ozro/NLP-100knocks/blob/main/ch06.ipynb\" target=\"_parent\"><img src=\"https://colab.research.google.com/assets/colab-badge.svg\" alt=\"Open In Colab\"/></a>"
      ]
    },
    {
      "cell_type": "markdown",
      "metadata": {
        "id": "U5gRq-cQkgag"
      },
      "source": [
        "## 第6章: 機械学習\n",
        "本章では，Fabio Gasparetti氏が公開している[News Aggregator Data Set](https://archive.ics.uci.edu/ml/datasets/News+Aggregator)を用い，ニュース記事の見出しを「ビジネス」「科学技術」「エンターテイメント」「健康」のカテゴリに分類するタスク（カテゴリ分類）に取り組む．"
      ]
    },
    {
      "cell_type": "markdown",
      "metadata": {
        "id": "QJLaFpy_kgai"
      },
      "source": [
        "### 50. データの入手・整形\n",
        "[News Aggregator Data Set](https://archive.ics.uci.edu/ml/datasets/News+Aggregator)をダウンロードし、以下の要領で学習データ（train.txt），検証データ（valid.txt），評価データ（test.txt）を作成せよ．\n",
        "\n",
        "1. ダウンロードしたzipファイルを解凍し，readme.txtの説明を読む．\n",
        "2. 情報源（publisher）が”Reuters”, “Huffington Post”, “Businessweek”, “Contactmusic.com”, “Daily Mail”の事例（記事）のみを抽出する．\n",
        "3. 抽出された事例をランダムに並び替える．\n",
        "4. 抽出された事例の80%を学習データ，残りの10%ずつを検証データと評価データに分割し，それぞれtrain.txt，valid.txt，test.txtというファイル名で保存する．ファイルには，１行に１事例を書き出すこととし，カテゴリ名と記事見出しのタブ区切り形式とせよ（このファイルは後に問題70で再利用する）．\n",
        "\n",
        "\n",
        "学習データと評価データを作成したら，各カテゴリの事例数を確認せよ．"
      ]
    },
    {
      "cell_type": "markdown",
      "source": [
        "1"
      ],
      "metadata": {
        "id": "uygqX28IpQQO"
      }
    },
    {
      "cell_type": "code",
      "source": [
        "!wget https://archive.ics.uci.edu/ml/machine-learning-databases/00359/NewsAggregatorDataset.zip\n",
        "!unzip /content/NewsAggregatorDataset.zip"
      ],
      "metadata": {
        "colab": {
          "base_uri": "https://localhost:8080/"
        },
        "id": "A3N43xptkpVi",
        "outputId": "59f6092e-1801-4eea-d2d4-38a899a53918"
      },
      "execution_count": 1,
      "outputs": [
        {
          "output_type": "stream",
          "name": "stdout",
          "text": [
            "--2023-01-05 03:05:13--  https://archive.ics.uci.edu/ml/machine-learning-databases/00359/NewsAggregatorDataset.zip\n",
            "Resolving archive.ics.uci.edu (archive.ics.uci.edu)... 128.195.10.252\n",
            "Connecting to archive.ics.uci.edu (archive.ics.uci.edu)|128.195.10.252|:443... connected.\n",
            "HTTP request sent, awaiting response... 200 OK\n",
            "Length: 29224203 (28M) [application/x-httpd-php]\n",
            "Saving to: ‘NewsAggregatorDataset.zip’\n",
            "\n",
            "NewsAggregatorDatas 100%[===================>]  27.87M  24.8MB/s    in 1.1s    \n",
            "\n",
            "2023-01-05 03:05:14 (24.8 MB/s) - ‘NewsAggregatorDataset.zip’ saved [29224203/29224203]\n",
            "\n",
            "Archive:  /content/NewsAggregatorDataset.zip\n",
            "  inflating: 2pageSessions.csv       \n",
            "replace __MACOSX/._2pageSessions.csv? [y]es, [n]o, [A]ll, [N]one, [r]ename: y\n",
            "  inflating: __MACOSX/._2pageSessions.csv  \n",
            "  inflating: newsCorpora.csv         \n",
            "replace __MACOSX/._newsCorpora.csv? [y]es, [n]o, [A]ll, [N]one, [r]ename: y\n",
            "  inflating: __MACOSX/._newsCorpora.csv  \n",
            "  inflating: readme.txt              \n",
            "replace __MACOSX/._readme.txt? [y]es, [n]o, [A]ll, [N]one, [r]ename: y\n",
            "  inflating: __MACOSX/._readme.txt   \n"
          ]
        }
      ]
    },
    {
      "cell_type": "markdown",
      "source": [
        "2, 3"
      ],
      "metadata": {
        "id": "2m5Zfl-rpRbr"
      }
    },
    {
      "cell_type": "code",
      "source": [
        "import pandas as pd\n",
        "from sklearn.model_selection import train_test_split"
      ],
      "metadata": {
        "id": "lWzctLfplexu"
      },
      "execution_count": 2,
      "outputs": []
    },
    {
      "cell_type": "code",
      "source": [
        "columns = ['ID', 'TITLE', 'URL', 'PUBLISHER', 'CATEGORY', 'STORY', 'HOSTNAME', 'TIMESTAMP']\n",
        "df = pd.read_csv('/content/newsCorpora.csv', header=None, sep='\\t', names=columns)\n",
        "\n",
        "df = df[df['PUBLISHER'].isin(['Reuters', 'Huffington Post', 'Businessweek', 'Contactmusic.com', 'Daily Mail'])]\n",
        "# df.query(\"PUBLISHER in ['Reuters', 'Huffington Post', 'Businessweek', 'Contactmusic.com', 'Daily Mail']\")\n",
        "df = df.sample(frac=1, random_state=0)"
      ],
      "metadata": {
        "id": "LLv_Ga3dlp_Z"
      },
      "execution_count": 3,
      "outputs": []
    },
    {
      "cell_type": "markdown",
      "source": [
        "https://note.nkmk.me/python-pandas-random-sort-shuffle/"
      ],
      "metadata": {
        "id": "V7Q1O6p4o94f"
      }
    },
    {
      "cell_type": "markdown",
      "source": [
        "4"
      ],
      "metadata": {
        "id": "ADy9rNlIuy7j"
      }
    },
    {
      "cell_type": "code",
      "source": [
        "#一応u++さんがlabel encodingしているので先にしておく  -> https://upura.hatenablog.com/entry/2020/07/25/235334\n",
        "use_cols = ['TITLE', 'CATEGORY']\n",
        "\n",
        "X = df[['TITLE', 'CATEGORY']].copy()\n",
        "X['CATEGORY'] = X['CATEGORY'].map({'b':0, 'e':1, 't':2, 'm':3})\n",
        "y = df['CATEGORY']\n",
        "\n",
        "X_train, X_test, y_train, y_test = train_test_split(X, y, test_size=0.2, stratify=y, random_state=0)\n",
        "X_valid, X_test, y_valid, y_test = train_test_split(X_test, y_test, test_size=0.5, stratify=y_test, random_state=0)\n",
        "\n",
        "X_train.to_csv('./train.txt', sep='\\t', index=False, header=None)\n",
        "X_valid.to_csv('./valid.txt', sep='\\t', index=False, header=None)\n",
        "X_test.to_csv('./test.txt', sep='\\t', index=False, header=None)"
      ],
      "metadata": {
        "id": "L5dRpwqDqxMX"
      },
      "execution_count": 4,
      "outputs": []
    },
    {
      "cell_type": "markdown",
      "metadata": {
        "id": "rmquXb0rkgai"
      },
      "source": [
        "### 51. 特徴量抽出\n",
        "学習データ，検証データ，評価データから特徴量を抽出し，それぞれtrain.feature.txt，valid.feature.txt，test.feature.txtというファイル名で保存せよ． なお，カテゴリ分類に有用そうな特徴量は各自で自由に設計せよ．記事の見出しを単語列に変換したものが最低限のベースラインとなるであろう．"
      ]
    },
    {
      "cell_type": "markdown",
      "source": [
        "<見た解答>\n",
        "https://upura.hatenablog.com/entry/2020/07/26/000124<br>\n",
        "\n",
        "CountVectorizer<br>\n",
        "https://scikit-learn.org/stable/modules/generated/sklearn.feature_extraction.text.CountVectorizer.html#sklearn.feature_extraction.text.CountVectorizer<br>\n",
        "\n",
        "https://scikit-learn.org/stable/modules/feature_extraction.html#text-feature-extraction<br>\n",
        "\n",
        "joblib.dump<br>\n",
        "https://joblib.readthedocs.io/en/latest/generated/joblib.dump.html"
      ],
      "metadata": {
        "id": "t1NlwA3_xEAP"
      }
    },
    {
      "cell_type": "code",
      "source": [
        "import joblib\n",
        "#CountVectorizer -> token数の行列に変換する\n",
        "from sklearn.feature_extraction.text import CountVectorizer\n",
        "X_train['TMP'] = 'train'\n",
        "X_test['TMP'] = 'test'\n",
        "X_valid['TMP'] = 'valid'\n",
        "\n",
        "data = pd.concat([X_train, X_valid, X_test]).reset_index(drop=True)\n",
        "# このtoken_patternは何？\n",
        "vectorizer = CountVectorizer(token_pattern=u'(?u)\\\\b\\\\w+\\\\b')\n",
        "bag = vectorizer.fit_transform(data['TITLE'])\n",
        "data = pd.concat([data, pd.DataFrame(bag.toarray())], axis=1)\n",
        "\n",
        "joblib.dump(vectorizer.vocabulary_, 'vocabulary_.joblib')\n",
        "\n",
        "X_train_feature = data.query('TMP==\"train\"').drop(use_cols+['TMP'], axis=1)\n",
        "X_valid_feature = data.query('TMP==\"valid\"').drop(use_cols+['TMP'], axis=1)\n",
        "X_test_feature = data.query('TMP==\"test\"').drop(use_cols+['TMP'], axis=1)\n",
        "\n",
        "X_train_feature.to_csv('./train.feature.txt', sep='\\t', index=False, header=None)\n",
        "X_valid_feature.to_csv('./valid.feature.txt', sep='\\t', index=False, header=None)\n",
        "X_test_feature.to_csv('./test.feature.txt', sep='\\t', index=False, header=None)"
      ],
      "metadata": {
        "id": "ZbjBDcbrw5rF"
      },
      "execution_count": 5,
      "outputs": []
    },
    {
      "cell_type": "markdown",
      "metadata": {
        "id": "XVGmQ34-kgaj"
      },
      "source": [
        "### 52. 学習\n",
        "51で構築した学習データを用いて，ロジスティック回帰モデルを学習せよ．"
      ]
    },
    {
      "cell_type": "markdown",
      "source": [
        "https://scikit-learn.org/stable/modules/generated/sklearn.linear_model.LogisticRegression.html"
      ],
      "metadata": {
        "id": "eD35ilNq6kJ8"
      }
    },
    {
      "cell_type": "code",
      "source": [
        "from sklearn.linear_model import LogisticRegression\n",
        "X_train = pd.read_table('/content/train.feature.txt', header=None)\n",
        "y_train = pd.read_table('/content/train.txt', header=None)\n",
        "y_train = y_train[1]\n",
        "\n",
        "#documentで他クラス分類は'sag'が推奨されている\n",
        "clf = LogisticRegression(solver='sag', random_state=0)\n",
        "clf.fit(X_train, y_train)\n",
        "#とりあえず後々使うかもしれないから保存しておこうの精神を身につける\n",
        "joblib.dump(clf, 'model.joblib')"
      ],
      "metadata": {
        "colab": {
          "base_uri": "https://localhost:8080/"
        },
        "id": "o2Tpa9x55Mmm",
        "outputId": "a03ba314-784d-46e4-d728-8e11ecb04b3a"
      },
      "execution_count": 12,
      "outputs": [
        {
          "output_type": "stream",
          "name": "stderr",
          "text": [
            "/usr/local/lib/python3.8/dist-packages/sklearn/linear_model/_sag.py:352: ConvergenceWarning: The max_iter was reached which means the coef_ did not converge\n",
            "  warnings.warn(\n"
          ]
        },
        {
          "output_type": "execute_result",
          "data": {
            "text/plain": [
              "['model.joblib']"
            ]
          },
          "metadata": {},
          "execution_count": 12
        }
      ]
    },
    {
      "cell_type": "markdown",
      "metadata": {
        "id": "eMoloMzGkgaj"
      },
      "source": [
        "### 53. 予測\n",
        "52で学習したロジスティック回帰モデルを用い，与えられた記事見出しからカテゴリとその予測確率を計算するプログラムを実装せよ．"
      ]
    },
    {
      "cell_type": "code",
      "source": [
        "predict_y_train = clf.predict(X_train)"
      ],
      "metadata": {
        "id": "ETb0kSzU7KjC"
      },
      "execution_count": 13,
      "outputs": []
    },
    {
      "cell_type": "code",
      "source": [
        "predict_y_train"
      ],
      "metadata": {
        "colab": {
          "base_uri": "https://localhost:8080/"
        },
        "id": "CVPtam398TQW",
        "outputId": "344d9b3f-c081-40e4-fd68-88642eb7a0e5"
      },
      "execution_count": 14,
      "outputs": [
        {
          "output_type": "execute_result",
          "data": {
            "text/plain": [
              "array([0, 0, 1, ..., 0, 0, 1])"
            ]
          },
          "metadata": {},
          "execution_count": 14
        }
      ]
    },
    {
      "cell_type": "markdown",
      "metadata": {
        "id": "lVzGhabAkgaj"
      },
      "source": [
        "### 54. 正解率の計測\n",
        "52で学習したロジスティック回帰モデルの正解率を，学習データおよび評価データ上で計測せよ．"
      ]
    },
    {
      "cell_type": "code",
      "source": [
        "from sklearn.metrics import accuracy_score\n",
        "X_test = pd.read_table('/content/test.feature.txt', header=None)\n",
        "y_test = pd.read_table('/content/test.txt', header=None)[1]\n",
        "\n",
        "print(f'学習データでの正解率: {accuracy_score(y_train, clf.predict(X_train))}')\n",
        "print(f'評価データでの正解率: {accuracy_score(y_test, clf.predict(X_test))}')"
      ],
      "metadata": {
        "colab": {
          "base_uri": "https://localhost:8080/"
        },
        "id": "3r3SZ-Jc7a29",
        "outputId": "6f49a7c9-f010-4e4a-afb2-c74180e7e9f0"
      },
      "execution_count": 17,
      "outputs": [
        {
          "output_type": "stream",
          "name": "stdout",
          "text": [
            "学習データでの正解率: 0.9641116941529235\n",
            "評価データでの正解率: 0.9055472263868066\n"
          ]
        }
      ]
    },
    {
      "cell_type": "markdown",
      "metadata": {
        "id": "t1K5qVD6kgaj"
      },
      "source": [
        "### 55. 混同行列の作成\n",
        "52で学習したロジスティック回帰モデルの混同行列（confusion matrix）を，学習データおよび評価データ上で作成せよ．"
      ]
    },
    {
      "cell_type": "markdown",
      "source": [
        "https://scikit-learn.org/stable/modules/generated/sklearn.metrics.confusion_matrix.html#sklearn.metrics.confusion_matrix"
      ],
      "metadata": {
        "id": "we5w8zrv9LmU"
      }
    },
    {
      "cell_type": "code",
      "source": [
        "#多分類だと見づらい\n",
        "from sklearn.metrics import confusion_matrix\n",
        "print(f'学習データのconfusion matrix: \\n {confusion_matrix(y_train, clf.predict(X_train))}')\n",
        "print(f'評価データのconfusion matrix: \\n {confusion_matrix(y_test, clf.predict(X_test))}')"
      ],
      "metadata": {
        "colab": {
          "base_uri": "https://localhost:8080/"
        },
        "id": "-5QJI_Xq8tcS",
        "outputId": "d494505e-5127-4272-c3fc-ee129991e40e"
      },
      "execution_count": 19,
      "outputs": [
        {
          "output_type": "stream",
          "name": "stdout",
          "text": [
            "学習データのconfusion matrix: \n",
            " [[4412   37   43   10]\n",
            " [  18 4196    9    0]\n",
            " [ 100   59 1057    3]\n",
            " [  48   47    9  624]]\n",
            "評価データのconfusion matrix: \n",
            " [[527  18  16   2]\n",
            " [ 10 515   2   1]\n",
            " [ 34  16 100   2]\n",
            " [  8  13   4  66]]\n"
          ]
        }
      ]
    },
    {
      "cell_type": "markdown",
      "metadata": {
        "id": "yf7WmM2xkgaj"
      },
      "source": [
        "### 56. 適合率，再現率，F1スコアの計測\n",
        "52で学習したロジスティック回帰モデルの適合率，再現率，F1スコアを，評価データ上で計測せよ．カテゴリごとに適合率，再現率，F1スコアを求め，カテゴリごとの性能をマイクロ平均（micro-average）とマクロ平均（macro-average）で統合せよ．"
      ]
    },
    {
      "cell_type": "markdown",
      "source": [
        "各スコアのdocument参照"
      ],
      "metadata": {
        "id": "jTUVLuGy_bOe"
      }
    },
    {
      "cell_type": "code",
      "source": [
        "from sklearn.metrics import recall_score, precision_score, f1_score\n",
        "y_test_pred = clf.predict(X_test)\n",
        "#defaultだとaverage='binary'なのでNoneにしないと\n",
        "print(f'評価データのrecall　score: {recall_score(y_test, y_test_pred, average=None)}')\n",
        "print(f'評価データのrecall　score micro: {recall_score(y_test, y_test_pred, average=\"micro\")}')\n",
        "print(f'評価データのrecall score macro: {recall_score(y_test, y_test_pred, average=\"macro\")}', \"\\n\")\n",
        "\n",
        "print(f'評価データのprecision_score: {precision_score(y_test, y_test_pred, average=None)}')\n",
        "print(f'評価データのprecision_score micro: {precision_score(y_test, y_test_pred, average=\"micro\")}')\n",
        "print(f'評価データのprecision_score macro: {precision_score(y_test, y_test_pred, average=\"macro\")}', \"\\n\")\n",
        "\n",
        "print(f'評価データのf1_score: {f1_score(y_test, y_test_pred, average=None)}')\n",
        "print(f'評価データのf1_score micro: {f1_score(y_test, y_test_pred, average=\"micro\")}')\n",
        "print(f'評価データのf1_score macro: {f1_score(y_test, y_test_pred, average=\"macro\")}', \"\\n\")"
      ],
      "metadata": {
        "colab": {
          "base_uri": "https://localhost:8080/"
        },
        "id": "vFhDDyV49m8L",
        "outputId": "749b4950-5fac-4310-f4c1-654147734ddd"
      },
      "execution_count": 20,
      "outputs": [
        {
          "output_type": "stream",
          "name": "stdout",
          "text": [
            "評価データのrecall　score: [0.93605684 0.97537879 0.65789474 0.72527473]\n",
            "評価データのrecall　score micro: 0.9055472263868066\n",
            "評価データのrecall score macro: 0.8236512720903788 \n",
            "\n",
            "評価データのprecision_score: [0.91018998 0.91637011 0.81967213 0.92957746]\n",
            "評価データのprecision_score micro: 0.9055472263868066\n",
            "評価データのprecision_score macro: 0.8939524213566705 \n",
            "\n",
            "評価データのf1_score: [0.92294221 0.94495413 0.72992701 0.81481481]\n",
            "評価データのf1_score micro: 0.9055472263868066\n",
            "評価データのf1_score macro: 0.8531595393023608 \n",
            "\n"
          ]
        }
      ]
    },
    {
      "cell_type": "markdown",
      "metadata": {
        "id": "ghud9cJakgaj"
      },
      "source": [
        "### 57. 特徴量の重みの確認\n",
        "52で学習したロジスティック回帰モデルの中で，重みの高い特徴量トップ10と，重みの低い特徴量トップ10を確認せよ．"
      ]
    },
    {
      "cell_type": "markdown",
      "source": [
        "重みとwordを紐づけたかったのでu++さんのコードをお借りします<br>\n",
        "https://upura.hatenablog.com/entry/2020/07/26/002131"
      ],
      "metadata": {
        "id": "HXH6T88LA7dK"
      }
    },
    {
      "cell_type": "code",
      "source": [
        "coefs = clf.coef_\n",
        "vocabulary_ = joblib.load('/content/vocabulary_.joblib')\n",
        "# coefs.shape->(4, 14076)\n",
        "for c in coefs:\n",
        "    d = dict(zip(vocabulary_, c))\n",
        "    d_top = sorted(d.items(), key=lambda x: abs(x[1]), reverse=True)[:10]\n",
        "    print(d_top)\n",
        "    d_bottom = sorted(d.items(), key=lambda x: abs(x[1]), reverse=False)[:10]\n",
        "    print(d_bottom, '\\n')"
      ],
      "metadata": {
        "colab": {
          "base_uri": "https://localhost:8080/"
        },
        "id": "B-gwM6_IAa7s",
        "outputId": "4a09b1ff-21e6-4fef-f5d1-e834d9f8c21d"
      },
      "execution_count": 26,
      "outputs": [
        {
          "output_type": "stream",
          "name": "stdout",
          "text": [
            "[('pull', 1.729145759909519), ('bribery', 1.6634543603584073), ('unacceptable', 1.5425781317521086), ('number', 1.3583162149494201), ('reasserts', 1.3567463307636314), ('continues', 1.3559461527001508), ('subside', 1.3260789401513786), ('northern', 1.2808537315526731), ('wgc', 1.2593669248050798), ('wedge', 1.2092808113084395)]\n",
            "[('airlines', 0.0), ('subdued', 0.0), ('slightly', 0.0), ('cyrus', 0.0), ('solange', 0.0), ('5', 0.0), ('bln', 0.0), ('buy', 0.0), ('alstom', 0.0), ('from', 0.0)] \n",
            "\n",
            "[('experiencing', 1.530284518181774), ('winning', 1.4011413274798528), ('cavemen', -1.3936765138759841), ('affiliate', 1.1970518724511539), ('garth', 1.1769687610891209), ('gamblers', 1.1694855635470447), ('mobility', 1.165992180023414), ('targeted', 1.1590089341988732), ('number', -1.1497960179610358), ('69000', -1.1383569726346183)]\n",
            "[('airlines', 0.0), ('subdued', 0.0), ('slightly', 0.0), ('cyrus', 0.0), ('solange', 0.0), ('5', 0.0), ('bln', 0.0), ('buy', 0.0), ('alstom', 0.0), ('from', 0.0)] \n",
            "\n",
            "[('69000', 2.351912583408358), ('cavemen', 2.3414774137583434), ('calista', 2.0966786613726924), ('greater', 1.9048467801809654), ('beck', 1.896194379269762), ('08', 1.553973925806263), ('colon', 1.4132355052385672), ('slimming', 1.3970771634486683), ('managing', 1.3856420296166543), ('4012', 1.1621292812799369)]\n",
            "[('airlines', 0.0), ('subdued', 0.0), ('slightly', 0.0), ('cyrus', 0.0), ('solange', 0.0), ('5', 0.0), ('bln', 0.0), ('buy', 0.0), ('alstom', 0.0), ('from', 0.0)] \n",
            "\n",
            "[('edgar', 2.3353872172181456), ('woman', 1.9613387449850639), ('recalled', 1.8830735207899911), ('faked', 1.7799193927993286), ('appendix', 1.6473205797944268), ('montage', 1.4508603860468023), ('protests', 1.198467827809976), ('exhaust', 1.1869371861863458), ('kasem', 1.1830298465023585), ('mishap', 1.109320464421579)]\n",
            "[('airlines', 0.0), ('subdued', 0.0), ('slightly', 0.0), ('cyrus', 0.0), ('solange', 0.0), ('5', 0.0), ('bln', 0.0), ('buy', 0.0), ('alstom', 0.0), ('from', 0.0)] \n",
            "\n"
          ]
        }
      ]
    },
    {
      "cell_type": "markdown",
      "metadata": {
        "id": "SYaeF-Jhkgak"
      },
      "source": [
        "### 58. 正則化パラメータの変更\n",
        "ロジスティック回帰モデルを学習するとき，正則化パラメータを調整することで，学習時の過学習（overfitting）の度合いを制御できる．異なる正則化パラメータでロジスティック回帰モデルを学習し，学習データ，検証データ，および評価データ上の正解率を求めよ．実験の結果は，正則化パラメータを横軸，正解率を縦軸としたグラフにまとめよ．"
      ]
    },
    {
      "cell_type": "code",
      "source": [
        "%matplotlib inline\n",
        "import matplotlib.pyplot as plt\n",
        "\n",
        "X_train = pd.read_table('./train.feature.txt', header=None)\n",
        "X_valid = pd.read_table('./valid.feature.txt', header=None)\n",
        "X_test = pd.read_table('./test.feature.txt', header=None)\n",
        "y_train = pd.read_table('./train.txt', header=None)[1]\n",
        "y_valid = pd.read_table('./valid.txt', header=None)[1]\n",
        "y_test = pd.read_table('./test.txt', header=None)[1]"
      ],
      "metadata": {
        "id": "xCUUelISAbXD"
      },
      "execution_count": 28,
      "outputs": []
    },
    {
      "cell_type": "code",
      "source": [
        "C_list = [0.01, 0.1, 1.0, 10]\n",
        "train_acc = []\n",
        "valid_acc = []\n",
        "test_acc = []\n",
        "\n",
        "for c in C_list:\n",
        "    clf = LogisticRegression(solver='sag', random_state=0, C=c)\n",
        "    clf.fit(X_train, y_train)\n",
        "    train_acc.append(accuracy_score(y_train, clf.predict(X_train)))\n",
        "    valid_acc.append(accuracy_score(y_valid, clf.predict(X_valid)))\n",
        "    test_acc.append(accuracy_score(y_test, clf.predict(X_test)))\n",
        "\n",
        "plt.figure(figsize=(14, 8))\n",
        "plt.plot(C_list, train_acc, label='train acc', color='blue')\n",
        "plt.plot(C_list, valid_acc, label='valid acc', color='orange')\n",
        "plt.plot(C_list, test_acc, label='test acc', color='red')\n",
        "plt.legend()\n",
        "plt.show()\n",
        "plt.savefig('./ans58.png')"
      ],
      "metadata": {
        "colab": {
          "base_uri": "https://localhost:8080/",
          "height": 628
        },
        "id": "Qt0mAamzCcXk",
        "outputId": "67e3e494-862b-4d28-a7f2-5cea024e0648"
      },
      "execution_count": 29,
      "outputs": [
        {
          "output_type": "stream",
          "name": "stderr",
          "text": [
            "/usr/local/lib/python3.8/dist-packages/sklearn/linear_model/_sag.py:352: ConvergenceWarning: The max_iter was reached which means the coef_ did not converge\n",
            "  warnings.warn(\n",
            "/usr/local/lib/python3.8/dist-packages/sklearn/linear_model/_sag.py:352: ConvergenceWarning: The max_iter was reached which means the coef_ did not converge\n",
            "  warnings.warn(\n",
            "/usr/local/lib/python3.8/dist-packages/sklearn/linear_model/_sag.py:352: ConvergenceWarning: The max_iter was reached which means the coef_ did not converge\n",
            "  warnings.warn(\n"
          ]
        },
        {
          "output_type": "display_data",
          "data": {
            "text/plain": [
              "<Figure size 1008x576 with 1 Axes>"
            ],
            "image/png": "[encoded data removed]"
          },
          "metadata": {
            "needs_background": "light"
          }
        },
        {
          "output_type": "display_data",
          "data": {
            "text/plain": [
              "<Figure size 432x288 with 0 Axes>"
            ]
          },
          "metadata": {}
        }
      ]
    },
    {
      "cell_type": "markdown",
      "metadata": {
        "id": "LVXCU6makgak"
      },
      "source": [
        "### 59. ハイパーパラメータの探索\n",
        "学習アルゴリズムや学習パラメータを変えながら，カテゴリ分類モデルを学習せよ．検証データ上の正解率が最も高くなる学習アルゴリズム・パラメータを求めよ．また，その学習アルゴリズム・パラメータを用いたときの評価データ上の正解率を求めよ．"
      ]
    },
    {
      "cell_type": "code",
      "execution_count": 30,
      "metadata": {
        "colab": {
          "base_uri": "https://localhost:8080/"
        },
        "id": "Bo4svrx1kgak",
        "outputId": "2ef4a327-d931-42dd-ce8c-14b6f3d9d012"
      },
      "outputs": [
        {
          "output_type": "stream",
          "name": "stdout",
          "text": [
            "ロジスティック回帰でのmax accuracy socre: 0.9092953523238381 \n",
            "\n",
            "その際の正則化パラメータ: 10 \n",
            "\n"
          ]
        }
      ],
      "source": [
        "# ロジスティック回帰\n",
        "print(f'ロジスティック回帰でのmax accuracy socre: {max(test_acc)}', '\\n')\n",
        "print(f'その際の正則化パラメータ: {C_list[test_acc.index(max(test_acc))]}', '\\n')"
      ]
    },
    {
      "cell_type": "code",
      "source": [
        "# ランダムフォレスト\n",
        "from sklearn.ensemble import RandomForestClassifier\n",
        "max_depth_list = [2, 4, 8, 16]\n",
        "test_acc = []\n",
        "for m in max_depth_list:\n",
        "    clf = RandomForestClassifier(max_depth=m, random_state=0)\n",
        "    clf.fit(X_train, y_train)\n",
        "    test_acc.append(accuracy_score(y_test, clf.predict(X_test)))\n",
        "plt.figure(figsize=(14, 8))\n",
        "plt.plot(C_list, test_acc, label='test acc', color='red')\n",
        "plt.legend()\n",
        "plt.show()\n",
        "plt.savefig('./59_RomdomForest.png')\n",
        "\n",
        "print(f'ランダムフォレストでのmax accuracy socre: {max(test_acc)}', '\\n')\n",
        "print(f'その際のmax_depthパラメータ: {max_depth_list[test_acc.index(max(test_acc))]}', '\\n')"
      ],
      "metadata": {
        "colab": {
          "base_uri": "https://localhost:8080/",
          "height": 572
        },
        "id": "Slu3uQvJFAMP",
        "outputId": "8522996e-a476-4319-bafb-ca7f1b03cb24"
      },
      "execution_count": 31,
      "outputs": [
        {
          "output_type": "display_data",
          "data": {
            "text/plain": [
              "<Figure size 1008x576 with 1 Axes>"
            ],
            "image/png": "[encoded data removed]"
          },
          "metadata": {
            "needs_background": "light"
          }
        },
        {
          "output_type": "stream",
          "name": "stdout",
          "text": [
            "ランダムフォレストでのmax accuracy socre: 0.7421289355322339 \n",
            "\n",
            "その際のmax_depthパラメータ: 16 \n",
            "\n"
          ]
        },
        {
          "output_type": "display_data",
          "data": {
            "text/plain": [
              "<Figure size 432x288 with 0 Axes>"
            ]
          },
          "metadata": {}
        }
      ]
    },
    {
      "cell_type": "code",
      "source": [],
      "metadata": {
        "id": "FLkQjJo1Hs4R"
      },
      "execution_count": null,
      "outputs": []
    }
  ],
  "metadata": {
    "language_info": {
      "name": "python"
    },
    "orig_nbformat": 4,
    "colab": {
      "provenance": [],
      "include_colab_link": true
    },
    "kernelspec": {
      "name": "python3",
      "display_name": "Python 3"
    },
    "gpuClass": "standard"
  },
  "nbformat": 4,
  "nbformat_minor": 0
}