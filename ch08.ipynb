{
  "cells": [
    {
      "cell_type": "markdown",
      "metadata": {
        "id": "view-in-github",
        "colab_type": "text"
      },
      "source": [
        "<a href=\"https://colab.research.google.com/github/tsutsumi-ozro/NLP-100knocks/blob/main/ch08.ipynb\" target=\"_parent\"><img src=\"https://colab.research.google.com/assets/colab-badge.svg\" alt=\"Open In Colab\"/></a>"
      ]
    },
    {
      "cell_type": "markdown",
      "metadata": {
        "id": "jKZ4e4BuuJTw"
      },
      "source": [
        "## 第8章: ニューラルネット\n",
        "第6章で取り組んだニュース記事のカテゴリ分類を題材として，ニューラルネットワークでカテゴリ分類モデルを実装する．なお，この章ではPyTorch, TensorFlow, Chainerなどの機械学習プラットフォームを活用せよ．"
      ]
    },
    {
      "cell_type": "markdown",
      "metadata": {
        "id": "xqUPMBWZuJTy"
      },
      "source": [
        "### 70. 単語ベクトルの和による特徴量\n",
        "※問題文に数式が多く含まれているため、記述しない。<br>\n",
        "[問題文](https://nlp100.github.io/ja/ch08.html)"
      ]
    },
    {
      "cell_type": "markdown",
      "source": [
        "問題50と同じことをする(閲覧している解答が変わっているため若干コードにも変化はあるが、やっていることはほとんど同じ)"
      ],
      "metadata": {
        "id": "5IBIS26evtDs"
      }
    },
    {
      "cell_type": "code",
      "source": [
        "!wget https://archive.ics.uci.edu/ml/machine-learning-databases/00359/NewsAggregatorDataset.zip\n",
        "!unzip /content/NewsAggregatorDataset.zip"
      ],
      "metadata": {
        "colab": {
          "base_uri": "https://localhost:8080/"
        },
        "id": "qLHWq5GBu0cX",
        "outputId": "8c285f77-b3e5-42f9-92b1-95ef5bed94a7"
      },
      "execution_count": 1,
      "outputs": [
        {
          "output_type": "stream",
          "name": "stdout",
          "text": [
            "--2023-01-06 00:49:19--  https://archive.ics.uci.edu/ml/machine-learning-databases/00359/NewsAggregatorDataset.zip\n",
            "Resolving archive.ics.uci.edu (archive.ics.uci.edu)... 128.195.10.252\n",
            "Connecting to archive.ics.uci.edu (archive.ics.uci.edu)|128.195.10.252|:443... connected.\n",
            "HTTP request sent, awaiting response... 200 OK\n",
            "Length: 29224203 (28M) [application/x-httpd-php]\n",
            "Saving to: ‘NewsAggregatorDataset.zip’\n",
            "\n",
            "NewsAggregatorDatas 100%[===================>]  27.87M  8.55MB/s    in 3.3s    \n",
            "\n",
            "2023-01-06 00:49:23 (8.55 MB/s) - ‘NewsAggregatorDataset.zip’ saved [29224203/29224203]\n",
            "\n",
            "Archive:  /content/NewsAggregatorDataset.zip\n",
            "  inflating: 2pageSessions.csv       \n",
            "   creating: __MACOSX/\n",
            "  inflating: __MACOSX/._2pageSessions.csv  \n",
            "  inflating: newsCorpora.csv         \n",
            "  inflating: __MACOSX/._newsCorpora.csv  \n",
            "  inflating: readme.txt              \n",
            "  inflating: __MACOSX/._readme.txt   \n"
          ]
        }
      ]
    },
    {
      "cell_type": "code",
      "source": [
        "import pandas as pd\n",
        "from sklearn.model_selection import train_test_split\n",
        "columns = ['ID', 'TITLE', 'URL', 'PUBLISHER', 'CATEGORY', 'STORY', 'HOSTNAME', 'TIMESTAMP']\n",
        "df = pd.read_csv('/content/newsCorpora.csv', header=None, sep='\\t', names=columns)\n",
        "\n",
        "df = df.loc[df['PUBLISHER'].isin(['Reuters', 'Huffington Post', 'Businessweek', 'Contactmusic.com', 'Daily Mail']), ['TITLE', 'CATEGORY']]\n",
        "\n",
        "train, valid_test = train_test_split(df, test_size=0.2, shuffle=True, random_state=123, stratify=df['CATEGORY'])\n",
        "valid, test = train_test_split(valid_test, test_size=0.5, shuffle=True, random_state=123, stratify=valid_test['CATEGORY'])"
      ],
      "metadata": {
        "id": "N8SLb1u-vaqL"
      },
      "execution_count": 2,
      "outputs": []
    },
    {
      "cell_type": "markdown",
      "source": [
        "問題60で使用した学習済み単語ベクトルをダウンロード"
      ],
      "metadata": {
        "id": "7OWVQGAav3mQ"
      }
    },
    {
      "cell_type": "code",
      "source": [
        "FILE_ID = \"0B7XkCwpI5KDYNlNUTTlSS21pQmM\"\n",
        "FILE_NAME = \"GoogleNews-vectors-negative300.bin.gz\"\n",
        "!wget --load-cookies /tmp/cookies.txt \"https://docs.google.com/uc?export=download&confirm=$(wget --quiet --save-cookies /tmp/cookies.txt --keep-session-cookies --no-check-certificate 'https://docs.google.com/uc?export=download&id=$FILE_ID' -O- | sed -rn 's/.*confirm=([0-9A-Za-z_]+).*/\\1\\n/p')&id=$FILE_ID\" -O $FILE_NAME && rm -rf /tmp/cookies.txt"
      ],
      "metadata": {
        "colab": {
          "base_uri": "https://localhost:8080/"
        },
        "id": "QdmUclVhv3H6",
        "outputId": "394fb403-4b3e-437d-b59b-1b6574715788"
      },
      "execution_count": 3,
      "outputs": [
        {
          "output_type": "stream",
          "name": "stdout",
          "text": [
            "--2023-01-06 00:49:29--  https://docs.google.com/uc?export=download&confirm=&id=0B7XkCwpI5KDYNlNUTTlSS21pQmM\n",
            "Resolving docs.google.com (docs.google.com)... 172.253.118.100, 172.253.118.138, 172.253.118.113, ...\n",
            "Connecting to docs.google.com (docs.google.com)|172.253.118.100|:443... connected.\n",
            "HTTP request sent, awaiting response... 303 See Other\n",
            "Location: https://doc-0g-8s-docs.googleusercontent.com/docs/securesc/ha0ro937gcuc7l7deffksulhg5h7mbp1/7r2i97p4fbc04eff8t3suqpdhepoaplm/1672966125000/06848720943842814915/*/0B7XkCwpI5KDYNlNUTTlSS21pQmM?e=download&uuid=86b68c1f-48c7-438a-bc99-df1e9cafa123 [following]\n",
            "Warning: wildcards not supported in HTTP.\n",
            "--2023-01-06 00:49:29--  https://doc-0g-8s-docs.googleusercontent.com/docs/securesc/ha0ro937gcuc7l7deffksulhg5h7mbp1/7r2i97p4fbc04eff8t3suqpdhepoaplm/1672966125000/06848720943842814915/*/0B7XkCwpI5KDYNlNUTTlSS21pQmM?e=download&uuid=86b68c1f-48c7-438a-bc99-df1e9cafa123\n",
            "Resolving doc-0g-8s-docs.googleusercontent.com (doc-0g-8s-docs.googleusercontent.com)... 142.251.10.132, 2404:6800:4003:c0f::84\n",
            "Connecting to doc-0g-8s-docs.googleusercontent.com (doc-0g-8s-docs.googleusercontent.com)|142.251.10.132|:443... connected.\n",
            "HTTP request sent, awaiting response... 200 OK\n",
            "Length: 1647046227 (1.5G) [application/x-gzip]\n",
            "Saving to: ‘GoogleNews-vectors-negative300.bin.gz’\n",
            "\n",
            "GoogleNews-vectors- 100%[===================>]   1.53G  84.1MB/s    in 23s     \n",
            "\n",
            "2023-01-06 00:49:53 (69.6 MB/s) - ‘GoogleNews-vectors-negative300.bin.gz’ saved [1647046227/1647046227]\n",
            "\n"
          ]
        }
      ]
    },
    {
      "cell_type": "code",
      "source": [
        "from gensim.models import KeyedVectors\n",
        "\n",
        "model = KeyedVectors.load_word2vec_format('/content/GoogleNews-vectors-negative300.bin.gz', binary=True)"
      ],
      "metadata": {
        "id": "8gdNdSDowudO"
      },
      "execution_count": 4,
      "outputs": []
    },
    {
      "cell_type": "markdown",
      "source": [
        "maketransはマッピングするのか<br>\n",
        "https://www.w3big.com/ja/python/att-string-maketrans.html<br>\n",
        "こちらstring<br>\n",
        "https://docs.python.org/ja/3/library/string.html<br>\n",
        "返り値はこれをしてる<br>\n",
        "\n",
        "$\\boldsymbol{x}_i = \\frac{1}{T_i} \\sum_{t=1}^{T_i} \\mathrm{emb}(w_{i,t})$\n"
      ],
      "metadata": {
        "id": "dx56Gxc3SU9M"
      }
    },
    {
      "cell_type": "code",
      "source": [
        "import string\n",
        "import torch\n",
        "\n",
        "def transform_w2v(text):\n",
        "    #!\"#$%&'()*+,-./:;<=>?@[\\]^_`{|}~を空白に置換しようとしてるわけ\n",
        "    table = str.maketrans(string.punctuation, ' '*len(string.punctuation))\n",
        "    words = text.translate(table).split()\n",
        "    #ここでベクトル変換してる\n",
        "    vec = [model[word] for word in words if word in model]\n",
        "\n",
        "    return torch.tensor(sum(vec)/len(vec))"
      ],
      "metadata": {
        "id": "VxcaAy1lxgwA"
      },
      "execution_count": 5,
      "outputs": []
    },
    {
      "cell_type": "code",
      "source": [
        "X_train = torch.stack([transform_w2v(text) for text in train['TITLE']])\n",
        "X_valid = torch.stack([transform_w2v(text) for text in valid['TITLE']])\n",
        "X_test = torch.stack([transform_w2v(text) for text in test['TITLE']])"
      ],
      "metadata": {
        "id": "VJmMCly9UUB0"
      },
      "execution_count": 6,
      "outputs": []
    },
    {
      "cell_type": "code",
      "source": [
        "category_dict = {'b':0, 't':1, 'e':2, 'm':3}\n",
        "y_train = torch.tensor(train['CATEGORY'].map(lambda x: category_dict[x]).values)\n",
        "y_valid = torch.tensor(valid['CATEGORY'].map(lambda x: category_dict[x]).values)\n",
        "y_test = torch.tensor(test['CATEGORY'].map(lambda x: category_dict[x]).values)"
      ],
      "metadata": {
        "id": "QN98GdulUvrx"
      },
      "execution_count": 7,
      "outputs": []
    },
    {
      "cell_type": "code",
      "source": [
        "torch.save(X_train, 'X_train.pt')\n",
        "torch.save(X_valid, 'X_valid.pt')\n",
        "torch.save(X_test, 'X_test.pt')\n",
        "torch.save(y_train, 'y_train.pt')\n",
        "torch.save(y_valid, 'y_valid.pt')\n",
        "torch.save(y_test, 'y_test.pt')"
      ],
      "metadata": {
        "id": "a6SEPYKbVPjE"
      },
      "execution_count": 8,
      "outputs": []
    },
    {
      "cell_type": "markdown",
      "metadata": {
        "id": "Q3bnpbQjuJTy"
      },
      "source": [
        "### 71. 単層ニューラルネットワークによる予測\n",
        "※問題文に数式が含まれているため、記述しない。<br>\n",
        "[問題文](https://nlp100.github.io/ja/ch08.html)"
      ]
    },
    {
      "cell_type": "markdown",
      "source": [
        "https://pytorch.org/docs/stable/generated/torch.nn.Linear.html?highlight=torch+nn+linear#torch.nn.Linear<br>\n",
        "https://pytorch.org/docs/stable/nn.init.html?highlight=nn+init+normal_#torch.nn.init.normal_<br>\n"
      ],
      "metadata": {
        "id": "T81tN57IvAlY"
      }
    },
    {
      "cell_type": "code",
      "source": [
        "from torch import nn\n",
        "\n",
        "class SLPNet(nn.Module):\n",
        "    def __init__(self, input_size, output_size):\n",
        "        super().__init__()\n",
        "        self.fc = nn.Linear(input_size, output_size, bias=False)\n",
        "        nn.init.normal_(self.fc.weight, 0.0, 1.0)\n",
        "    \n",
        "    def forward(self, x):\n",
        "        x = self.fc(x)\n",
        "        return x\n",
        "\n",
        "model = SLPNet(300, 4)\n",
        "y_hat_1 = torch.softmax(model(X_train[:1]), dim=-1)\n",
        "print(y_hat_1)"
      ],
      "metadata": {
        "colab": {
          "base_uri": "https://localhost:8080/"
        },
        "id": "IAfvgeybu0wI",
        "outputId": "03de99db-09e4-4200-b9fb-e8e2339e24e0"
      },
      "execution_count": 9,
      "outputs": [
        {
          "output_type": "stream",
          "name": "stdout",
          "text": [
            "tensor([[0.0519, 0.1082, 0.4951, 0.3448]], grad_fn=<SoftmaxBackward0>)\n"
          ]
        }
      ]
    },
    {
      "cell_type": "code",
      "source": [
        "y_hat = torch.softmax(model(X_train[:4]), dim=-1)\n",
        "print(y_hat)"
      ],
      "metadata": {
        "colab": {
          "base_uri": "https://localhost:8080/"
        },
        "id": "Dg9MS8vluPiR",
        "outputId": "e16e7d45-8bd0-4195-ef89-b9fceb827f7f"
      },
      "execution_count": 10,
      "outputs": [
        {
          "output_type": "stream",
          "name": "stdout",
          "text": [
            "tensor([[0.0519, 0.1082, 0.4951, 0.3448],\n",
            "        [0.3120, 0.2216, 0.2360, 0.2304],\n",
            "        [0.0363, 0.1407, 0.6645, 0.1585],\n",
            "        [0.7013, 0.0281, 0.1155, 0.1551]], grad_fn=<SoftmaxBackward0>)\n"
          ]
        }
      ]
    },
    {
      "cell_type": "markdown",
      "metadata": {
        "id": "dld_kiFquJTy"
      },
      "source": [
        "### 72. 損失と勾配の計算\n",
        "※問題文に数式が含まれているため、記述しない。<br>\n",
        "[問題文](https://nlp100.github.io/ja/ch08.html)"
      ]
    },
    {
      "cell_type": "code",
      "source": [
        "loss_fn = nn.CrossEntropyLoss()\n",
        "loss_x1 = loss_fn(model(X_train[:1]), y_train[:1])\n",
        "model.zero_grad()\n",
        "loss_x1.backward()\n",
        "print(f'損失: {loss_x1:.4f}')\n",
        "print(f'勾配: \\n{model.fc.weight.grad}')"
      ],
      "metadata": {
        "colab": {
          "base_uri": "https://localhost:8080/"
        },
        "id": "4fMmUMgfvW5i",
        "outputId": "0166c47b-86b8-4892-8b9d-54b7b0536372"
      },
      "execution_count": 11,
      "outputs": [
        {
          "output_type": "stream",
          "name": "stdout",
          "text": [
            "損失: 2.9576\n",
            "勾配: \n",
            "tensor([[ 0.0161, -0.1249,  0.0690,  ..., -0.0374, -0.0211, -0.0174],\n",
            "        [-0.0018,  0.0143, -0.0079,  ...,  0.0043,  0.0024,  0.0020],\n",
            "        [-0.0084,  0.0652, -0.0360,  ...,  0.0196,  0.0110,  0.0091],\n",
            "        [-0.0058,  0.0454, -0.0251,  ...,  0.0136,  0.0077,  0.0063]])\n"
          ]
        }
      ]
    },
    {
      "cell_type": "code",
      "source": [
        "loss_x1_to_x4 = loss_fn(model(X_train[:4]), y_train[:4])\n",
        "model.zero_grad()\n",
        "loss_x1_to_x4.backward()\n",
        "print(f'損失: {loss_x1_to_x4:.4f}')\n",
        "print(f'勾配: \\n{model.fc.weight.grad}')"
      ],
      "metadata": {
        "colab": {
          "base_uri": "https://localhost:8080/"
        },
        "id": "7XRxSYc8wN5t",
        "outputId": "d2c0eff4-65f5-4a0f-d8c4-0617b7d8070f"
      },
      "execution_count": 12,
      "outputs": [
        {
          "output_type": "stream",
          "name": "stdout",
          "text": [
            "損失: 1.9482\n",
            "勾配: \n",
            "tensor([[ 0.0407, -0.0279,  0.0351,  ..., -0.0083, -0.0259, -0.0069],\n",
            "        [-0.0091,  0.0009, -0.0076,  ...,  0.0019,  0.0029, -0.0004],\n",
            "        [-0.0201,  0.0137, -0.0152,  ...,  0.0022,  0.0186,  0.0065],\n",
            "        [-0.0115,  0.0132, -0.0123,  ...,  0.0042,  0.0043,  0.0009]])\n"
          ]
        }
      ]
    },
    {
      "cell_type": "markdown",
      "metadata": {
        "id": "l3omp-e_uJTy"
      },
      "source": [
        "### 73.  確率的勾配降下法による学習\n",
        "確率的勾配降下法（SGD: Stochastic Gradient Descent）を用いて，行列Wを学習せよ．なお，学習は適当な基準で終了させればよい（例えば「100エポックで終了」など）．\n",
        "\n"
      ]
    },
    {
      "cell_type": "code",
      "source": [
        "from torch.utils.data import Dataset\n",
        "from torch.utils.data import DataLoader\n",
        "\n",
        "class NewsDataset(Dataset):\n",
        "    def __init__(self, X, y):\n",
        "        self.X = X\n",
        "        self.y = y\n",
        "    \n",
        "    def __len__(self):\n",
        "        return len(self.y)\n",
        "\n",
        "    def __getitem__(self, index):\n",
        "        return [self.X[index], self.y[index]]\n",
        "\n",
        "dataset_train = NewsDataset(X_train, y_train)\n",
        "dataset_valid = NewsDataset(X_valid, y_valid)\n",
        "dataset_test = NewsDataset(X_test, y_test)\n",
        "\n",
        "dataloader_train = DataLoader(dataset_train, batch_size=64, shuffle=True)\n",
        "dataloader_valid = DataLoader(dataset_valid, batch_size=32, shuffle=False)\n",
        "dataloader_test = DataLoader(dataset_test, batch_size=32, shuffle=False)"
      ],
      "metadata": {
        "id": "To0XP7N8wh38"
      },
      "execution_count": 13,
      "outputs": []
    },
    {
      "cell_type": "code",
      "source": [
        "from torch.nn.modules.loss import CrossEntropyLoss\n",
        "\n",
        "model = SLPNet(300, 4)\n",
        "loss_fn = nn.CrossEntropyLoss()\n",
        "optimizer = torch.optim.SGD(model.parameters(), lr=1e-1)\n",
        "\n",
        "num_epochs = 100\n",
        "for epoch in range(num_epochs):\n",
        "    model.train()\n",
        "    loss_train = 0.0\n",
        "    for i, (inputs, labels) in enumerate(dataloader_train):\n",
        "        optimizer.zero_grad()\n",
        "\n",
        "        outputs = model(inputs)\n",
        "        loss = loss_fn(outputs, labels)\n",
        "        loss.backward()\n",
        "        optimizer.step()\n",
        "\n",
        "        loss_train += loss.item()\n",
        "    \n",
        "    loss_train = loss_train / i\n",
        "\n",
        "    model.eval()\n",
        "    with torch.no_grad():\n",
        "        inputs, labels = next(iter(dataloader_valid))\n",
        "        outputs = model(inputs)\n",
        "        loss_valid = loss_fn(outputs, labels)\n",
        "    if (epoch+1)%10==0:\n",
        "        print(f'epoch: {epoch + 1}, loss_train: {loss_train:.4f}, loss_valid: {loss_valid:.4f}')  "
      ],
      "metadata": {
        "colab": {
          "base_uri": "https://localhost:8080/"
        },
        "id": "4fDtM2naxdYf",
        "outputId": "aca29225-e223-4625-9e9a-2f9e5dd42ea3"
      },
      "execution_count": 14,
      "outputs": [
        {
          "output_type": "stream",
          "name": "stdout",
          "text": [
            "epoch: 10, loss_train: 0.5744, loss_valid: 0.5919\n",
            "epoch: 20, loss_train: 0.4572, loss_valid: 0.4878\n",
            "epoch: 30, loss_train: 0.4055, loss_valid: 0.4454\n",
            "epoch: 40, loss_train: 0.3752, loss_valid: 0.4178\n",
            "epoch: 50, loss_train: 0.3545, loss_valid: 0.4022\n",
            "epoch: 60, loss_train: 0.3397, loss_valid: 0.3917\n",
            "epoch: 70, loss_train: 0.3281, loss_valid: 0.3840\n",
            "epoch: 80, loss_train: 0.3187, loss_valid: 0.3790\n",
            "epoch: 90, loss_train: 0.3110, loss_valid: 0.3740\n",
            "epoch: 100, loss_train: 0.3043, loss_valid: 0.3702\n"
          ]
        }
      ]
    },
    {
      "cell_type": "markdown",
      "metadata": {
        "id": "I_G_7T__uJTz"
      },
      "source": [
        "### 74. 正解率の計測\n",
        "問題73で求めた行列を用いて学習データおよび評価データの事例を分類したとき，その正解率をそれぞれ求めよ．"
      ]
    },
    {
      "cell_type": "code",
      "source": [
        "def calculate_accuracy(model, loader):\n",
        "    model.eval()\n",
        "    total = 0\n",
        "    correct = 0\n",
        "    with torch.no_grad():\n",
        "        for inputs, labels in loader:\n",
        "            outputs = model(inputs)\n",
        "            pred = torch.argmax(outputs, dim=-1)\n",
        "            total += len(inputs)\n",
        "            #sum? 0 or 1の出力だと思ってたけども.\n",
        "            # argmaxのdocumentを読んで理解\n",
        "            # https://pytorch.org/docs/stable/generated/torch.argmax.html?highlight=torch+argmax#torch.argmax\n",
        "            correct += (pred==labels).sum().item()\n",
        "    return correct / total\n",
        "\n",
        "acc_train = calculate_accuracy(model, dataloader_train)\n",
        "acc_test = calculate_accuracy(model, dataloader_test)\n",
        "print(f'train accuracy score: {acc_train:.3f}')\n",
        "print(f'test accuracy score：{acc_test:.3f}')"
      ],
      "metadata": {
        "colab": {
          "base_uri": "https://localhost:8080/"
        },
        "id": "yX5v3iiZ1syt",
        "outputId": "01ede81c-e37d-4948-de48-20e03ed73b7b"
      },
      "execution_count": 15,
      "outputs": [
        {
          "output_type": "stream",
          "name": "stdout",
          "text": [
            "train accuracy score: 0.894\n",
            "test accuracy score：0.889\n"
          ]
        }
      ]
    },
    {
      "cell_type": "markdown",
      "metadata": {
        "id": "pKfMCvqAuJTz"
      },
      "source": [
        "### 75. 損失と正解率のプロット\n",
        "問題73のコードを改変し，各エポックのパラメータ更新が完了するたびに，訓練データでの損失，正解率，検証データでの損失，正解率をグラフにプロットし，学習の進捗状況を確認できるようにせよ．"
      ]
    },
    {
      "cell_type": "code",
      "source": [
        "def calculate_loss_and_accuracy(model, loss_fn, loader):\n",
        "    model.eval()\n",
        "    loss = 0.0\n",
        "    total = 0\n",
        "    correct = 0\n",
        "    with torch.no_grad():\n",
        "        for inputs, labels in loader:\n",
        "            outputs = model(inputs)\n",
        "            loss += loss_fn(outputs, labels)\n",
        "            pred = torch.argmax(outputs, dim=-1)\n",
        "            total += len(inputs)\n",
        "            correct += (pred==labels).sum().item()\n",
        "    return loss/len(loader), correct/total"
      ],
      "metadata": {
        "id": "umJaHDBf3po6"
      },
      "execution_count": 16,
      "outputs": []
    },
    {
      "cell_type": "code",
      "source": [
        "model = SLPNet(300, 4)\n",
        "loss_fn = nn.CrossEntropyLoss()\n",
        "optimizer = torch.optim.SGD(model.parameters(), lr=1e-1)\n",
        "\n",
        "num_epochs = 100\n",
        "log_train = []\n",
        "log_valid = []\n",
        "\n",
        "for epoch in range(num_epochs):\n",
        "    model.train()\n",
        "    for inputs, labels in dataloader_train:\n",
        "        optimizer.zero_grad()\n",
        "        outputs = model(inputs)\n",
        "        loss = loss_fn(outputs, labels)\n",
        "        loss.backward()\n",
        "        optimizer.step()\n",
        "    \n",
        "    loss_train, acc_train = calculate_loss_and_accuracy(model, loss_fn, dataloader_train)\n",
        "    loss_valid, acc_valid = calculate_loss_and_accuracy(model, loss_fn, dataloader_valid)\n",
        "    log_train.append([loss_train, acc_train])\n",
        "    log_valid.append([loss_valid, acc_valid])\n",
        "\n",
        "    if (epoch+1)%10==0:\n",
        "        print(f'epoch: {epoch + 1}, loss_train: {loss_train:.4f}, accuracy_train: {acc_train:.4f}, loss_valid: {loss_valid:.4f}, accuracy_valid: {acc_valid:.4f}')"
      ],
      "metadata": {
        "colab": {
          "base_uri": "https://localhost:8080/"
        },
        "id": "LTm5VYXW4XH-",
        "outputId": "df099d67-a4ca-4954-dba6-c034f881782d"
      },
      "execution_count": 17,
      "outputs": [
        {
          "output_type": "stream",
          "name": "stdout",
          "text": [
            "epoch: 10, loss_train: 0.5698, accuracy_train: 0.7939, loss_valid: 0.6075, accuracy_valid: 0.7729\n",
            "epoch: 20, loss_train: 0.4556, accuracy_train: 0.8369, loss_valid: 0.4891, accuracy_valid: 0.8328\n",
            "epoch: 30, loss_train: 0.4042, accuracy_train: 0.8559, loss_valid: 0.4353, accuracy_valid: 0.8546\n",
            "epoch: 40, loss_train: 0.3738, accuracy_train: 0.8663, loss_valid: 0.4039, accuracy_valid: 0.8621\n",
            "epoch: 50, loss_train: 0.3539, accuracy_train: 0.8748, loss_valid: 0.3828, accuracy_valid: 0.8673\n",
            "epoch: 60, loss_train: 0.3390, accuracy_train: 0.8808, loss_valid: 0.3675, accuracy_valid: 0.8733\n",
            "epoch: 70, loss_train: 0.3278, accuracy_train: 0.8853, loss_valid: 0.3558, accuracy_valid: 0.8778\n",
            "epoch: 80, loss_train: 0.3183, accuracy_train: 0.8884, loss_valid: 0.3464, accuracy_valid: 0.8831\n",
            "epoch: 90, loss_train: 0.3110, accuracy_train: 0.8923, loss_valid: 0.3387, accuracy_valid: 0.8846\n",
            "epoch: 100, loss_train: 0.3047, accuracy_train: 0.8943, loss_valid: 0.3321, accuracy_valid: 0.8876\n"
          ]
        }
      ]
    },
    {
      "cell_type": "code",
      "source": [
        "import matplotlib.pyplot as plt\n",
        "import numpy as np\n",
        "\n",
        "fig, ax = plt.subplots(1, 2, figsize=(16, 6))\n",
        "\n",
        "ax[0].plot(np.array(log_train).T[0], label='train', color='blue')\n",
        "ax[0].plot(np.array(log_valid).T[0], label='valid', color='red')\n",
        "ax[0].set_xlabel('epoch')\n",
        "ax[0].set_ylabel('loss')\n",
        "ax[0].legend()\n",
        "\n",
        "ax[1].plot(np.array(log_train).T[1], label='train', color='blue')\n",
        "ax[1].plot(np.array(log_valid).T[1], label='valid', color='red')\n",
        "ax[1].set_xlabel('epoch')\n",
        "ax[1].set_ylabel('accuracy')\n",
        "ax[1].legend()\n",
        "\n",
        "plt.show()"
      ],
      "metadata": {
        "colab": {
          "base_uri": "https://localhost:8080/",
          "height": 359
        },
        "id": "UIAWmYlZ5t5L",
        "outputId": "6d281a9c-1cee-46fa-9f39-72891ede9f95"
      },
      "execution_count": 18,
      "outputs": [
        {
          "output_type": "display_data",
          "data": {
            "text/plain": [
              "<Figure size 1152x432 with 2 Axes>"
            ],
            "image/png": "[encoded data removed]"
          },
          "metadata": {
            "needs_background": "light"
          }
        }
      ]
    },
    {
      "cell_type": "markdown",
      "metadata": {
        "id": "EZuFBUmDuJTz"
      },
      "source": [
        "### 76. チェックポイント\n",
        "問題75のコードを改変し，各エポックのパラメータ更新が完了するたびに，チェックポイント（学習途中のパラメータ（重み行列など）の値や最適化アルゴリズムの内部状態）をファイルに書き出せ．"
      ]
    },
    {
      "cell_type": "code",
      "source": [
        "model = SLPNet(300, 4)\n",
        "loss_fn = nn.CrossEntropyLoss()\n",
        "optimizer = torch.optim.SGD(model.parameters(), lr=1e-1)\n",
        "\n",
        "num_epochs = 100\n",
        "log_train = []\n",
        "log_valid = []\n",
        "\n",
        "for epoch in range(num_epochs):\n",
        "    model.train()\n",
        "    for inputs, labels in dataloader_train:\n",
        "        optimizer.zero_grad()\n",
        "        outputs = model(inputs)\n",
        "        loss = loss_fn(outputs, labels)\n",
        "        loss.backward()\n",
        "        optimizer.step()\n",
        "    \n",
        "    loss_train, acc_train = calculate_loss_and_accuracy(model, loss_fn, dataloader_train)\n",
        "    loss_valid, acc_valid = calculate_loss_and_accuracy(model, loss_fn, dataloader_valid)\n",
        "    log_train.append([loss_train, acc_train])\n",
        "    log_valid.append([loss_valid, acc_valid])\n",
        "\n",
        "    torch.save({'epoch': epoch, 'model_state_dict': model.state_dict(), 'optimizer_state_dict': optimizer.state_dict()}, f'checkpoint{epoch+1}.pt')\n",
        "    if (epoch+1)%10==0:\n",
        "        print(f'epoch: {epoch + 1}, loss_train: {loss_train:.4f}, accuracy_train: {acc_train:.4f}, loss_valid: {loss_valid:.4f}, accuracy_valid: {acc_valid:.4f}')"
      ],
      "metadata": {
        "colab": {
          "base_uri": "https://localhost:8080/"
        },
        "id": "qV8VJ1ckfQGA",
        "outputId": "eb0b4e8d-c83d-45a8-c9db-3dcd7151eabf"
      },
      "execution_count": 19,
      "outputs": [
        {
          "output_type": "stream",
          "name": "stdout",
          "text": [
            "epoch: 10, loss_train: 0.5665, accuracy_train: 0.7927, loss_valid: 0.5958, accuracy_valid: 0.8013\n",
            "epoch: 20, loss_train: 0.4559, accuracy_train: 0.8323, loss_valid: 0.4877, accuracy_valid: 0.8313\n",
            "epoch: 30, loss_train: 0.4056, accuracy_train: 0.8541, loss_valid: 0.4382, accuracy_valid: 0.8508\n",
            "epoch: 40, loss_train: 0.3754, accuracy_train: 0.8665, loss_valid: 0.4087, accuracy_valid: 0.8583\n",
            "epoch: 50, loss_train: 0.3552, accuracy_train: 0.8743, loss_valid: 0.3887, accuracy_valid: 0.8673\n",
            "epoch: 60, loss_train: 0.3404, accuracy_train: 0.8796, loss_valid: 0.3741, accuracy_valid: 0.8688\n",
            "epoch: 70, loss_train: 0.3293, accuracy_train: 0.8845, loss_valid: 0.3628, accuracy_valid: 0.8718\n",
            "epoch: 80, loss_train: 0.3201, accuracy_train: 0.8878, loss_valid: 0.3538, accuracy_valid: 0.8748\n",
            "epoch: 90, loss_train: 0.3124, accuracy_train: 0.8912, loss_valid: 0.3463, accuracy_valid: 0.8778\n",
            "epoch: 100, loss_train: 0.3060, accuracy_train: 0.8937, loss_valid: 0.3400, accuracy_valid: 0.8786\n"
          ]
        }
      ]
    },
    {
      "cell_type": "markdown",
      "metadata": {
        "id": "fZoIIlTHuJTz"
      },
      "source": [
        "### 77. ミニバッチ化\n",
        "問題76のコードを改変し，B事例ごとに損失・勾配を計算し，行列Wの値を更新せよ（ミニバッチ化）．Bの値を1,2,4,8,…と変化させながら，1エポックの学習に要する時間を比較せよ．"
      ]
    },
    {
      "cell_type": "code",
      "source": [
        "import time\n",
        "def train_model(datset_train, datset_valid, batch_size, model, loss_fn, optimizer, num_epochs):\n",
        "    dataloader_train = DataLoader(dataset_train, batch_size=batch_size, shuffle=True)\n",
        "    dataloader_valid = DataLoader(dataset_valid, batch_size=batch_size, shuffle=True)\n",
        "\n",
        "    log_train = []\n",
        "    log_valid = []\n",
        "\n",
        "    for epoch in range(num_epochs):\n",
        "        s_time = time.time()\n",
        "        model.train()\n",
        "        for inputs, labels in dataloader_train:\n",
        "            optimizer.zero_grad()\n",
        "            outputs = model(inputs)\n",
        "            loss = loss_fn(outputs, labels)\n",
        "            loss.backward()\n",
        "            optimizer.step()\n",
        "\n",
        "        loss_trian, acc_train = calculate_loss_and_accuracy(model, loss_fn, dataloader_train)\n",
        "        loss_valid, acc_valid = calculate_loss_and_accuracy(model, loss_fn, dataloader_valid)\n",
        "        log_train.append([loss_train, acc_train])\n",
        "        log_valid.append([loss_valid, acc_valid])\n",
        "\n",
        "        torch.save({'epoch': epoch, 'model_state_dict': model.state_dict(), 'optimizer_state_dict': optimizer.state_dict()}, f'checkpoint{epoch+1}.pt')\n",
        "\n",
        "        e_time = time.time()\n",
        "        #if (epoch+1)%10==0:\n",
        "        print(f'epoch: {epoch + 1}, loss_train: {loss_train:.4f}, accuracy_train: {acc_train:.4f}, loss_valid: {loss_valid:.4f}, accuracy_valid: {acc_valid:.4f}, {(e_time - s_time):.4f}sec') \n",
        "\n",
        "    return {'train': log_train, 'valid': log_valid}"
      ],
      "metadata": {
        "id": "9DlV0pyJfylk"
      },
      "execution_count": 20,
      "outputs": []
    },
    {
      "cell_type": "code",
      "source": [
        "b = [2**n for n in range(1, 6)]\n",
        "\n",
        "dataset_train = NewsDataset(X_train, y_train)\n",
        "dataset_valid = NewsDataset(X_valid, y_valid)\n",
        "\n",
        "for batch_size in b:\n",
        "    num_epoch = 1\n",
        "    print(f'バッチサイズ: {batch_size}')\n",
        "    log = train_model(dataset_train, dataset_valid, batch_size, model, loss_fn, optimizer, num_epoch)"
      ],
      "metadata": {
        "colab": {
          "base_uri": "https://localhost:8080/"
        },
        "id": "B9EBkHkMhOCW",
        "outputId": "965f108e-e159-4f47-d393-8b4b16b0d567"
      },
      "execution_count": 21,
      "outputs": [
        {
          "output_type": "stream",
          "name": "stdout",
          "text": [
            "バッチサイズ: 2\n",
            "epoch: 1, loss_train: 0.3060, accuracy_train: 0.8990, loss_valid: 0.3271, accuracy_valid: 0.8846, 2.1223sec\n",
            "バッチサイズ: 4\n",
            "epoch: 1, loss_train: 0.3060, accuracy_train: 0.9017, loss_valid: 0.3219, accuracy_valid: 0.8891, 1.1606sec\n",
            "バッチサイズ: 8\n",
            "epoch: 1, loss_train: 0.3060, accuracy_train: 0.9014, loss_valid: 0.3173, accuracy_valid: 0.8883, 0.6154sec\n",
            "バッチサイズ: 16\n",
            "epoch: 1, loss_train: 0.3060, accuracy_train: 0.9023, loss_valid: 0.3159, accuracy_valid: 0.8913, 0.3772sec\n",
            "バッチサイズ: 32\n",
            "epoch: 1, loss_train: 0.3060, accuracy_train: 0.9022, loss_valid: 0.3194, accuracy_valid: 0.8891, 0.2404sec\n"
          ]
        }
      ]
    },
    {
      "cell_type": "markdown",
      "metadata": {
        "id": "P3Q5LSgvuJTz"
      },
      "source": [
        "### 78. GPU上での学習\n",
        "問題77のコードを改変し，GPU上で学習を実行せよ．"
      ]
    },
    {
      "cell_type": "code",
      "source": [
        "#以前作成した関数にdeviceを追加\n",
        "\n",
        "def calculate_loss_and_accuracy(model, loss_fn, loader, device):\n",
        "  model.eval()\n",
        "  loss = 0.0\n",
        "  total = 0\n",
        "  correct = 0\n",
        "  with torch.no_grad():\n",
        "    for inputs, labels in loader:\n",
        "      inputs = inputs.to(device)\n",
        "      labels = labels.to(device)\n",
        "      outputs = model(inputs)\n",
        "      loss += loss_fn(outputs, labels).item()\n",
        "      pred = torch.argmax(outputs, dim=-1)\n",
        "      total += len(inputs)\n",
        "      correct += (pred == labels).sum().item()\n",
        "      \n",
        "  return loss / len(loader), correct / total\n",
        "\n",
        "def train_model(datset_train, datset_valid, batch_size, model, loss_fn, optimizer, num_epochs, device=None):\n",
        "    model.to(device)\n",
        "    \n",
        "    dataloader_train = DataLoader(dataset_train, batch_size=batch_size, shuffle=True)\n",
        "    dataloader_valid = DataLoader(dataset_valid, batch_size=batch_size, shuffle=True)\n",
        "\n",
        "    log_train = []\n",
        "    log_valid = []\n",
        "\n",
        "    for epoch in range(num_epochs):\n",
        "        s_time = time.time()\n",
        "\n",
        "        model.train()\n",
        "\n",
        "        for inputs, labels in dataloader_train:\n",
        "            optimizer.zero_grad()\n",
        "\n",
        "            inputs = inputs.to(device)\n",
        "            labels = labels.to(device)\n",
        "\n",
        "            outputs = model.forward(inputs)\n",
        "            loss = loss_fn(outputs, labels)\n",
        "            loss.backward()\n",
        "            optimizer.step()\n",
        "\n",
        "        loss_trian, acc_train = calculate_loss_and_accuracy(model, loss_fn, dataloader_train, device)\n",
        "        loss_valid, acc_valid = calculate_loss_and_accuracy(model, loss_fn, dataloader_valid, device)\n",
        "        log_train.append([loss_train, acc_train])\n",
        "        log_valid.append([loss_valid, acc_valid])\n",
        "\n",
        "        torch.save({'epoch': epoch, 'model_state_dict': model.state_dict(), 'optimizer_state_dict': optimizer.state_dict()}, f'checkpoint{epoch+1}.pt')\n",
        "\n",
        "        e_time = time.time()\n",
        "        #if (epoch+1)%10==0:\n",
        "        print(f'epoch: {epoch + 1}, loss_train: {loss_train:.4f}, accuracy_train: {acc_train:.4f}, loss_valid: {loss_valid:.4f}, accuracy_valid: {acc_valid:.4f}, {(e_time - s_time):.4f}sec') \n",
        "\n",
        "    return {'train': log_train, 'valid': log_valid}"
      ],
      "metadata": {
        "id": "zlM9p33_jUvf"
      },
      "execution_count": 32,
      "outputs": []
    },
    {
      "cell_type": "code",
      "source": [
        "device = 'cuda' if torch.cuda.is_available() else 'cpu'\n",
        "model = SLPNet(300, 4)\n",
        "for batch_size in b:\n",
        "    num_epoch = 1\n",
        "    print(f'バッチサイズ: {batch_size}')\n",
        "    log = train_model(dataset_train, dataset_valid, batch_size, model, loss_fn, optimizer, num_epoch, device)"
      ],
      "metadata": {
        "colab": {
          "base_uri": "https://localhost:8080/"
        },
        "id": "yjJQSrqdj-S5",
        "outputId": "feb37452-bc72-4153-cd4f-a19ced6f899e"
      },
      "execution_count": 33,
      "outputs": [
        {
          "output_type": "stream",
          "name": "stdout",
          "text": [
            "バッチサイズ: 2\n",
            "epoch: 1, loss_train: 0.3060, accuracy_train: 0.2013, loss_valid: 2.6435, accuracy_valid: 0.2009, 5.0048sec\n",
            "バッチサイズ: 4\n",
            "epoch: 1, loss_train: 0.3060, accuracy_train: 0.2013, loss_valid: 2.6442, accuracy_valid: 0.2009, 2.5115sec\n",
            "バッチサイズ: 8\n",
            "epoch: 1, loss_train: 0.3060, accuracy_train: 0.2013, loss_valid: 2.6431, accuracy_valid: 0.2009, 1.3639sec\n",
            "バッチサイズ: 16\n",
            "epoch: 1, loss_train: 0.3060, accuracy_train: 0.2013, loss_valid: 2.6444, accuracy_valid: 0.2009, 0.7108sec\n",
            "バッチサイズ: 32\n",
            "epoch: 1, loss_train: 0.3060, accuracy_train: 0.2013, loss_valid: 2.6451, accuracy_valid: 0.2009, 0.4320sec\n"
          ]
        }
      ]
    },
    {
      "cell_type": "markdown",
      "metadata": {
        "id": "TbKEeSC-uJTz"
      },
      "source": [
        "### 79. 多層ニューラルネットワーク\n",
        "問題78のコードを改変し，バイアス項の導入や多層化など，ニューラルネットワークの形状を変更しながら，高性能なカテゴリ分類器を構築せよ．"
      ]
    },
    {
      "cell_type": "markdown",
      "source": [
        "https://pytorch.org/docs/stable/generated/torch.nn.BatchNorm1d.html<br>\n",
        "https://smile-jsp.hateblo.jp/entry/2020/06/23/001147"
      ],
      "metadata": {
        "id": "vMjuRKq-n85t"
      }
    },
    {
      "cell_type": "code",
      "execution_count": 51,
      "metadata": {
        "id": "S33FMzNZuJTz"
      },
      "outputs": [],
      "source": [
        "from torch.nn import functional as F\n",
        "\n",
        "class MLPNet(nn.Module):\n",
        "    def __init__(self, input_size, mid_size, output_size, mid_layers):\n",
        "        super().__init__()\n",
        "        self.mid_layers = mid_layers\n",
        "        self.fc = nn.Linear(input_size, mid_size)\n",
        "        self.fc_mid = nn.Linear(mid_size, mid_size)\n",
        "        self.fc_out = nn.Linear(mid_size, output_size)\n",
        "        self.bn = nn.BatchNorm1d(mid_size)\n",
        "    \n",
        "    def forward(self, x):\n",
        "        x = F.relu(self.fc(x))\n",
        "        for _ in range(self.mid_layers):\n",
        "            x = F.relu(self.bn(self.fc_mid(x)))\n",
        "        x = F.relu(self.fc_out(x))\n",
        "\n",
        "        return x"
      ]
    },
    {
      "cell_type": "code",
      "source": [
        "from torch import optim\n",
        "\n",
        "def train_model(datset_train, datset_valid, batch_size, model, loss_fn, optimizer, num_epochs, device=None):\n",
        "    model.to(device)\n",
        "    \n",
        "    dataloader_train = DataLoader(dataset_train, batch_size=batch_size, shuffle=True)\n",
        "    dataloader_valid = DataLoader(dataset_valid, batch_size=batch_size, shuffle=True)\n",
        "\n",
        "    #スケジューラの設定を行う\n",
        "    #https://pytorch.org/docs/stable/generated/torch.optim.lr_scheduler.CosineAnnealingLR.html\n",
        "    scheduler = optim.lr_scheduler.CosineAnnealingLR(optimizer, num_epochs, eta_min=1e-5, last_epoch=-1)\n",
        "\n",
        "    log_train = []\n",
        "    log_valid = []\n",
        "\n",
        "    for epoch in range(num_epochs):\n",
        "        s_time = time.time()\n",
        "\n",
        "        model.train()\n",
        "\n",
        "        for inputs, labels in dataloader_train:\n",
        "            optimizer.zero_grad()\n",
        "\n",
        "            inputs = inputs.to(device)\n",
        "            labels = labels.to(device)\n",
        "\n",
        "            outputs = model.forward(inputs)\n",
        "            loss = loss_fn(outputs, labels)\n",
        "            loss.backward()\n",
        "            optimizer.step()\n",
        "\n",
        "        loss_trian, acc_train = calculate_loss_and_accuracy(model, loss_fn, dataloader_train, device)\n",
        "        loss_valid, acc_valid = calculate_loss_and_accuracy(model, loss_fn, dataloader_valid, device)\n",
        "        log_train.append([loss_train, acc_train])\n",
        "        log_valid.append([loss_valid, acc_valid])\n",
        "\n",
        "        torch.save({'epoch': epoch, 'model_state_dict': model.state_dict(), 'optimizer_state_dict': optimizer.state_dict()}, f'checkpoint{epoch+1}.pt')\n",
        "\n",
        "        e_time = time.time()\n",
        "        #if (epoch+1)%10==0:\n",
        "        print(f'epoch: {epoch + 1}, loss_train: {loss_train:.4f}, accuracy_train: {acc_train:.4f}, loss_valid: {loss_valid:.4f}, accuracy_valid: {acc_valid:.4f}, {(e_time - s_time):.4f}sec') \n",
        "\n",
        "        if epoch > 3 and log_valid[epoch-3][0]  <= log_valid[epoch-2][0] <= log_valid[epoch-1][0]<= log_valid[epoch][0]:\n",
        "            break\n",
        "        \n",
        "        scheduler.step()\n",
        "    return {'train': log_train, 'valid': log_valid}"
      ],
      "metadata": {
        "id": "0ehQKcAQo612"
      },
      "execution_count": 52,
      "outputs": []
    },
    {
      "cell_type": "code",
      "source": [
        "dataset_train = NewsDataset(X_train, y_train)\n",
        "dataset_valid = NewsDataset(X_valid, y_valid)\n",
        "\n",
        "model = MLPNet(300, 200, 4, 1)\n",
        "loss_fn = nn.CrossEntropyLoss()\n",
        "optimizer = torch.optim.SGD(model.parameters(), lr=1e-3)\n",
        "device = 'cuda' if torch.cuda.is_available() else 'cpu'\n",
        "\n",
        "log = train_model(dataset_train, dataset_valid, 64, model, loss_fn, optimizer, 1000, device)"
      ],
      "metadata": {
        "colab": {
          "base_uri": "https://localhost:8080/"
        },
        "id": "LmbCdAsSqQfp",
        "outputId": "6ec4c955-5791-48f5-a978-f57887ba2009"
      },
      "execution_count": 53,
      "outputs": [
        {
          "output_type": "stream",
          "name": "stdout",
          "text": [
            "epoch: 1, loss_train: 0.3060, accuracy_train: 0.7463, loss_valid: 0.9865, accuracy_valid: 0.7361, 0.4264sec\n",
            "epoch: 2, loss_train: 0.3060, accuracy_train: 0.7759, loss_valid: 0.7490, accuracy_valid: 0.7751, 0.4365sec\n",
            "epoch: 3, loss_train: 0.3060, accuracy_train: 0.7824, loss_valid: 0.6688, accuracy_valid: 0.7804, 0.4342sec\n",
            "epoch: 4, loss_train: 0.3060, accuracy_train: 0.7884, loss_valid: 0.6257, accuracy_valid: 0.7849, 0.4435sec\n",
            "epoch: 5, loss_train: 0.3060, accuracy_train: 0.7987, loss_valid: 0.5905, accuracy_valid: 0.7991, 0.4263sec\n",
            "epoch: 6, loss_train: 0.3060, accuracy_train: 0.8112, loss_valid: 0.5587, accuracy_valid: 0.8088, 0.4502sec\n",
            "epoch: 7, loss_train: 0.3060, accuracy_train: 0.8195, loss_valid: 0.5301, accuracy_valid: 0.8178, 0.4498sec\n",
            "epoch: 8, loss_train: 0.3060, accuracy_train: 0.8337, loss_valid: 0.5028, accuracy_valid: 0.8328, 0.4398sec\n",
            "epoch: 9, loss_train: 0.3060, accuracy_train: 0.8428, loss_valid: 0.4813, accuracy_valid: 0.8448, 0.4401sec\n",
            "epoch: 10, loss_train: 0.3060, accuracy_train: 0.8579, loss_valid: 0.4628, accuracy_valid: 0.8606, 0.4329sec\n",
            "epoch: 11, loss_train: 0.3060, accuracy_train: 0.8646, loss_valid: 0.4468, accuracy_valid: 0.8636, 0.4438sec\n",
            "epoch: 12, loss_train: 0.3060, accuracy_train: 0.8685, loss_valid: 0.4300, accuracy_valid: 0.8643, 0.4331sec\n",
            "epoch: 13, loss_train: 0.3060, accuracy_train: 0.8772, loss_valid: 0.4184, accuracy_valid: 0.8681, 0.4427sec\n",
            "epoch: 14, loss_train: 0.3060, accuracy_train: 0.8780, loss_valid: 0.4059, accuracy_valid: 0.8696, 0.6203sec\n",
            "epoch: 15, loss_train: 0.3060, accuracy_train: 0.8835, loss_valid: 0.3958, accuracy_valid: 0.8718, 0.4972sec\n",
            "epoch: 16, loss_train: 0.3060, accuracy_train: 0.8846, loss_valid: 0.3848, accuracy_valid: 0.8718, 0.4395sec\n",
            "epoch: 17, loss_train: 0.3060, accuracy_train: 0.8876, loss_valid: 0.3770, accuracy_valid: 0.8741, 0.4616sec\n",
            "epoch: 18, loss_train: 0.3060, accuracy_train: 0.8891, loss_valid: 0.3677, accuracy_valid: 0.8771, 0.4330sec\n",
            "epoch: 19, loss_train: 0.3060, accuracy_train: 0.8916, loss_valid: 0.3613, accuracy_valid: 0.8771, 0.4345sec\n",
            "epoch: 20, loss_train: 0.3060, accuracy_train: 0.8931, loss_valid: 0.3565, accuracy_valid: 0.8816, 0.4417sec\n",
            "epoch: 21, loss_train: 0.3060, accuracy_train: 0.8953, loss_valid: 0.3504, accuracy_valid: 0.8838, 0.4741sec\n",
            "epoch: 22, loss_train: 0.3060, accuracy_train: 0.8959, loss_valid: 0.3445, accuracy_valid: 0.8853, 0.4455sec\n",
            "epoch: 23, loss_train: 0.3060, accuracy_train: 0.8972, loss_valid: 0.3407, accuracy_valid: 0.8906, 0.4269sec\n",
            "epoch: 24, loss_train: 0.3060, accuracy_train: 0.8996, loss_valid: 0.3363, accuracy_valid: 0.8928, 0.4442sec\n",
            "epoch: 25, loss_train: 0.3060, accuracy_train: 0.9009, loss_valid: 0.3311, accuracy_valid: 0.8928, 0.4289sec\n",
            "epoch: 26, loss_train: 0.3060, accuracy_train: 0.9016, loss_valid: 0.3276, accuracy_valid: 0.8928, 0.4463sec\n",
            "epoch: 27, loss_train: 0.3060, accuracy_train: 0.9020, loss_valid: 0.3267, accuracy_valid: 0.8906, 0.4351sec\n",
            "epoch: 28, loss_train: 0.3060, accuracy_train: 0.9041, loss_valid: 0.3236, accuracy_valid: 0.8936, 0.4362sec\n",
            "epoch: 29, loss_train: 0.3060, accuracy_train: 0.9053, loss_valid: 0.3188, accuracy_valid: 0.9010, 0.4398sec\n",
            "epoch: 30, loss_train: 0.3060, accuracy_train: 0.9064, loss_valid: 0.3173, accuracy_valid: 0.8958, 0.4264sec\n",
            "epoch: 31, loss_train: 0.3060, accuracy_train: 0.9073, loss_valid: 0.3124, accuracy_valid: 0.9003, 0.4453sec\n",
            "epoch: 32, loss_train: 0.3060, accuracy_train: 0.9089, loss_valid: 0.3113, accuracy_valid: 0.8981, 0.4493sec\n",
            "epoch: 33, loss_train: 0.3060, accuracy_train: 0.9109, loss_valid: 0.3081, accuracy_valid: 0.8988, 0.4405sec\n",
            "epoch: 34, loss_train: 0.3060, accuracy_train: 0.9102, loss_valid: 0.3058, accuracy_valid: 0.8966, 0.4528sec\n",
            "epoch: 35, loss_train: 0.3060, accuracy_train: 0.9120, loss_valid: 0.3026, accuracy_valid: 0.9025, 0.4447sec\n",
            "epoch: 36, loss_train: 0.3060, accuracy_train: 0.9136, loss_valid: 0.3005, accuracy_valid: 0.9025, 0.4336sec\n",
            "epoch: 37, loss_train: 0.3060, accuracy_train: 0.9131, loss_valid: 0.3010, accuracy_valid: 0.8973, 0.4385sec\n",
            "epoch: 38, loss_train: 0.3060, accuracy_train: 0.9148, loss_valid: 0.2972, accuracy_valid: 0.9025, 0.4663sec\n",
            "epoch: 39, loss_train: 0.3060, accuracy_train: 0.9133, loss_valid: 0.2948, accuracy_valid: 0.9018, 0.4395sec\n",
            "epoch: 40, loss_train: 0.3060, accuracy_train: 0.9157, loss_valid: 0.2947, accuracy_valid: 0.9003, 0.4416sec\n",
            "epoch: 41, loss_train: 0.3060, accuracy_train: 0.9171, loss_valid: 0.2930, accuracy_valid: 0.9033, 0.4324sec\n",
            "epoch: 42, loss_train: 0.3060, accuracy_train: 0.9176, loss_valid: 0.2913, accuracy_valid: 0.9078, 0.4378sec\n",
            "epoch: 43, loss_train: 0.3060, accuracy_train: 0.9182, loss_valid: 0.2890, accuracy_valid: 0.9070, 0.4345sec\n",
            "epoch: 44, loss_train: 0.3060, accuracy_train: 0.9192, loss_valid: 0.2873, accuracy_valid: 0.9063, 0.4454sec\n",
            "epoch: 45, loss_train: 0.3060, accuracy_train: 0.9204, loss_valid: 0.2880, accuracy_valid: 0.9055, 0.4384sec\n",
            "epoch: 46, loss_train: 0.3060, accuracy_train: 0.9198, loss_valid: 0.2847, accuracy_valid: 0.9055, 0.4413sec\n",
            "epoch: 47, loss_train: 0.3060, accuracy_train: 0.9210, loss_valid: 0.2837, accuracy_valid: 0.9063, 0.4278sec\n",
            "epoch: 48, loss_train: 0.3060, accuracy_train: 0.9217, loss_valid: 0.2823, accuracy_valid: 0.9048, 0.4337sec\n",
            "epoch: 49, loss_train: 0.3060, accuracy_train: 0.9233, loss_valid: 0.2812, accuracy_valid: 0.9070, 0.4354sec\n",
            "epoch: 50, loss_train: 0.3060, accuracy_train: 0.9236, loss_valid: 0.2796, accuracy_valid: 0.9078, 0.4454sec\n",
            "epoch: 51, loss_train: 0.3060, accuracy_train: 0.9223, loss_valid: 0.2783, accuracy_valid: 0.9078, 0.4345sec\n",
            "epoch: 52, loss_train: 0.3060, accuracy_train: 0.9245, loss_valid: 0.2790, accuracy_valid: 0.9048, 0.4322sec\n",
            "epoch: 53, loss_train: 0.3060, accuracy_train: 0.9255, loss_valid: 0.2755, accuracy_valid: 0.9108, 0.4485sec\n",
            "epoch: 54, loss_train: 0.3060, accuracy_train: 0.9268, loss_valid: 0.2761, accuracy_valid: 0.9108, 0.4324sec\n",
            "epoch: 55, loss_train: 0.3060, accuracy_train: 0.9256, loss_valid: 0.2759, accuracy_valid: 0.9055, 0.4358sec\n",
            "epoch: 56, loss_train: 0.3060, accuracy_train: 0.9269, loss_valid: 0.2746, accuracy_valid: 0.9070, 0.4305sec\n",
            "epoch: 57, loss_train: 0.3060, accuracy_train: 0.9280, loss_valid: 0.2722, accuracy_valid: 0.9055, 0.4485sec\n",
            "epoch: 58, loss_train: 0.3060, accuracy_train: 0.9291, loss_valid: 0.2706, accuracy_valid: 0.9063, 0.4431sec\n",
            "epoch: 59, loss_train: 0.3060, accuracy_train: 0.9287, loss_valid: 0.2711, accuracy_valid: 0.9085, 0.4610sec\n",
            "epoch: 60, loss_train: 0.3060, accuracy_train: 0.9293, loss_valid: 0.2697, accuracy_valid: 0.9093, 0.4498sec\n",
            "epoch: 61, loss_train: 0.3060, accuracy_train: 0.9304, loss_valid: 0.2671, accuracy_valid: 0.9100, 0.4547sec\n",
            "epoch: 62, loss_train: 0.3060, accuracy_train: 0.9305, loss_valid: 0.2676, accuracy_valid: 0.9078, 0.4878sec\n",
            "epoch: 63, loss_train: 0.3060, accuracy_train: 0.9313, loss_valid: 0.2669, accuracy_valid: 0.9085, 0.4384sec\n",
            "epoch: 64, loss_train: 0.3060, accuracy_train: 0.9318, loss_valid: 0.2668, accuracy_valid: 0.9085, 0.4522sec\n",
            "epoch: 65, loss_train: 0.3060, accuracy_train: 0.9323, loss_valid: 0.2643, accuracy_valid: 0.9100, 0.4294sec\n",
            "epoch: 66, loss_train: 0.3060, accuracy_train: 0.9332, loss_valid: 0.2643, accuracy_valid: 0.9078, 0.4451sec\n",
            "epoch: 67, loss_train: 0.3060, accuracy_train: 0.9338, loss_valid: 0.2639, accuracy_valid: 0.9093, 0.4318sec\n",
            "epoch: 68, loss_train: 0.3060, accuracy_train: 0.9328, loss_valid: 0.2651, accuracy_valid: 0.9078, 0.4434sec\n",
            "epoch: 69, loss_train: 0.3060, accuracy_train: 0.9345, loss_valid: 0.2643, accuracy_valid: 0.9085, 0.4374sec\n",
            "epoch: 70, loss_train: 0.3060, accuracy_train: 0.9334, loss_valid: 0.2622, accuracy_valid: 0.9108, 0.4477sec\n",
            "epoch: 71, loss_train: 0.3060, accuracy_train: 0.9348, loss_valid: 0.2607, accuracy_valid: 0.9100, 0.4306sec\n",
            "epoch: 72, loss_train: 0.3060, accuracy_train: 0.9355, loss_valid: 0.2604, accuracy_valid: 0.9093, 0.4305sec\n",
            "epoch: 73, loss_train: 0.3060, accuracy_train: 0.9364, loss_valid: 0.2609, accuracy_valid: 0.9070, 0.4469sec\n",
            "epoch: 74, loss_train: 0.3060, accuracy_train: 0.9364, loss_valid: 0.2588, accuracy_valid: 0.9130, 0.4332sec\n",
            "epoch: 75, loss_train: 0.3060, accuracy_train: 0.9368, loss_valid: 0.2578, accuracy_valid: 0.9115, 0.4369sec\n",
            "epoch: 76, loss_train: 0.3060, accuracy_train: 0.9365, loss_valid: 0.2592, accuracy_valid: 0.9123, 0.4407sec\n",
            "epoch: 77, loss_train: 0.3060, accuracy_train: 0.9375, loss_valid: 0.2583, accuracy_valid: 0.9100, 0.4462sec\n",
            "epoch: 78, loss_train: 0.3060, accuracy_train: 0.9378, loss_valid: 0.2572, accuracy_valid: 0.9085, 0.4341sec\n",
            "epoch: 79, loss_train: 0.3060, accuracy_train: 0.9387, loss_valid: 0.2569, accuracy_valid: 0.9093, 0.4332sec\n",
            "epoch: 80, loss_train: 0.3060, accuracy_train: 0.9387, loss_valid: 0.2563, accuracy_valid: 0.9123, 0.4468sec\n",
            "epoch: 81, loss_train: 0.3060, accuracy_train: 0.9394, loss_valid: 0.2564, accuracy_valid: 0.9070, 0.4458sec\n",
            "epoch: 82, loss_train: 0.3060, accuracy_train: 0.9399, loss_valid: 0.2544, accuracy_valid: 0.9115, 0.4414sec\n",
            "epoch: 83, loss_train: 0.3060, accuracy_train: 0.9412, loss_valid: 0.2562, accuracy_valid: 0.9033, 0.4406sec\n",
            "epoch: 84, loss_train: 0.3060, accuracy_train: 0.9412, loss_valid: 0.2550, accuracy_valid: 0.9108, 0.4525sec\n",
            "epoch: 85, loss_train: 0.3060, accuracy_train: 0.9412, loss_valid: 0.2566, accuracy_valid: 0.9040, 0.4691sec\n",
            "epoch: 86, loss_train: 0.3060, accuracy_train: 0.9405, loss_valid: 0.2557, accuracy_valid: 0.9108, 0.4495sec\n",
            "epoch: 87, loss_train: 0.3060, accuracy_train: 0.9436, loss_valid: 0.2541, accuracy_valid: 0.9055, 0.4522sec\n",
            "epoch: 88, loss_train: 0.3060, accuracy_train: 0.9442, loss_valid: 0.2532, accuracy_valid: 0.9093, 0.4335sec\n",
            "epoch: 89, loss_train: 0.3060, accuracy_train: 0.9426, loss_valid: 0.2546, accuracy_valid: 0.9070, 0.4488sec\n",
            "epoch: 90, loss_train: 0.3060, accuracy_train: 0.9435, loss_valid: 0.2551, accuracy_valid: 0.9040, 0.4335sec\n",
            "epoch: 91, loss_train: 0.3060, accuracy_train: 0.9448, loss_valid: 0.2512, accuracy_valid: 0.9115, 0.4440sec\n",
            "epoch: 92, loss_train: 0.3060, accuracy_train: 0.9451, loss_valid: 0.2520, accuracy_valid: 0.9108, 0.4500sec\n",
            "epoch: 93, loss_train: 0.3060, accuracy_train: 0.9458, loss_valid: 0.2518, accuracy_valid: 0.9100, 0.4450sec\n",
            "epoch: 94, loss_train: 0.3060, accuracy_train: 0.9457, loss_valid: 0.2508, accuracy_valid: 0.9115, 0.4324sec\n",
            "epoch: 95, loss_train: 0.3060, accuracy_train: 0.9472, loss_valid: 0.2517, accuracy_valid: 0.9078, 0.4288sec\n",
            "epoch: 96, loss_train: 0.3060, accuracy_train: 0.9455, loss_valid: 0.2499, accuracy_valid: 0.9108, 0.4443sec\n",
            "epoch: 97, loss_train: 0.3060, accuracy_train: 0.9469, loss_valid: 0.2495, accuracy_valid: 0.9115, 0.4339sec\n",
            "epoch: 98, loss_train: 0.3060, accuracy_train: 0.9460, loss_valid: 0.2522, accuracy_valid: 0.9085, 0.4824sec\n",
            "epoch: 99, loss_train: 0.3060, accuracy_train: 0.9457, loss_valid: 0.2548, accuracy_valid: 0.9078, 0.4608sec\n",
            "epoch: 100, loss_train: 0.3060, accuracy_train: 0.9486, loss_valid: 0.2493, accuracy_valid: 0.9093, 0.4309sec\n",
            "epoch: 101, loss_train: 0.3060, accuracy_train: 0.9485, loss_valid: 0.2488, accuracy_valid: 0.9093, 0.4375sec\n",
            "epoch: 102, loss_train: 0.3060, accuracy_train: 0.9481, loss_valid: 0.2481, accuracy_valid: 0.9100, 0.4323sec\n",
            "epoch: 103, loss_train: 0.3060, accuracy_train: 0.9487, loss_valid: 0.2500, accuracy_valid: 0.9093, 0.4415sec\n",
            "epoch: 104, loss_train: 0.3060, accuracy_train: 0.9496, loss_valid: 0.2493, accuracy_valid: 0.9123, 0.4293sec\n",
            "epoch: 105, loss_train: 0.3060, accuracy_train: 0.9494, loss_valid: 0.2488, accuracy_valid: 0.9138, 0.4531sec\n",
            "epoch: 106, loss_train: 0.3060, accuracy_train: 0.9500, loss_valid: 0.2474, accuracy_valid: 0.9145, 0.4366sec\n",
            "epoch: 107, loss_train: 0.3060, accuracy_train: 0.9502, loss_valid: 0.2471, accuracy_valid: 0.9130, 0.4356sec\n",
            "epoch: 108, loss_train: 0.3060, accuracy_train: 0.9506, loss_valid: 0.2465, accuracy_valid: 0.9130, 0.4328sec\n",
            "epoch: 109, loss_train: 0.3060, accuracy_train: 0.9515, loss_valid: 0.2474, accuracy_valid: 0.9130, 0.4271sec\n",
            "epoch: 110, loss_train: 0.3060, accuracy_train: 0.9505, loss_valid: 0.2482, accuracy_valid: 0.9153, 0.4572sec\n",
            "epoch: 111, loss_train: 0.3060, accuracy_train: 0.9520, loss_valid: 0.2476, accuracy_valid: 0.9130, 0.4580sec\n",
            "epoch: 112, loss_train: 0.3060, accuracy_train: 0.9512, loss_valid: 0.2476, accuracy_valid: 0.9145, 0.4576sec\n",
            "epoch: 113, loss_train: 0.3060, accuracy_train: 0.9533, loss_valid: 0.2468, accuracy_valid: 0.9138, 0.4192sec\n",
            "epoch: 114, loss_train: 0.3060, accuracy_train: 0.9525, loss_valid: 0.2473, accuracy_valid: 0.9145, 0.4459sec\n",
            "epoch: 115, loss_train: 0.3060, accuracy_train: 0.9534, loss_valid: 0.2480, accuracy_valid: 0.9160, 0.4258sec\n",
            "epoch: 116, loss_train: 0.3060, accuracy_train: 0.9534, loss_valid: 0.2475, accuracy_valid: 0.9145, 0.4233sec\n",
            "epoch: 117, loss_train: 0.3060, accuracy_train: 0.9540, loss_valid: 0.2466, accuracy_valid: 0.9153, 0.4408sec\n",
            "epoch: 118, loss_train: 0.3060, accuracy_train: 0.9531, loss_valid: 0.2468, accuracy_valid: 0.9153, 0.4354sec\n",
            "epoch: 119, loss_train: 0.3060, accuracy_train: 0.9553, loss_valid: 0.2480, accuracy_valid: 0.9153, 0.4527sec\n",
            "epoch: 120, loss_train: 0.3060, accuracy_train: 0.9545, loss_valid: 0.2481, accuracy_valid: 0.9138, 0.4442sec\n"
          ]
        }
      ]
    },
    {
      "cell_type": "code",
      "source": [
        "def calculate_accuracy(model, loader, device):\n",
        "  model.eval()\n",
        "  total = 0\n",
        "  correct = 0\n",
        "  with torch.no_grad():\n",
        "    for inputs, labels in loader:\n",
        "      inputs = inputs.to(device)\n",
        "      labels = labels.to(device)\n",
        "      outputs = model(inputs)\n",
        "      pred = torch.argmax(outputs, dim=-1)\n",
        "      total += len(inputs)\n",
        "      correct += (pred == labels).sum().item()\n",
        "      \n",
        "  return correct / total"
      ],
      "metadata": {
        "id": "RMP0hWjHqnwB"
      },
      "execution_count": 55,
      "outputs": []
    },
    {
      "cell_type": "code",
      "source": [
        "acc_train = calculate_accuracy(model, dataloader_train, device)\n",
        "acc_test = calculate_accuracy(model, dataloader_test, device)\n",
        "print(f'train accuracy_score：{acc_train:.3f}')\n",
        "print(f'test accuracy_score：{acc_test:.3f}')"
      ],
      "metadata": {
        "colab": {
          "base_uri": "https://localhost:8080/"
        },
        "id": "thbmOZ2-qeQs",
        "outputId": "9e9cce4a-614b-46f7-d3d1-aeabf60e5d7b"
      },
      "execution_count": 57,
      "outputs": [
        {
          "output_type": "stream",
          "name": "stdout",
          "text": [
            "train accuracy_score：0.954\n",
            "test accuracy_score：0.915\n"
          ]
        }
      ]
    },
    {
      "cell_type": "code",
      "source": [],
      "metadata": {
        "id": "03AMabAzqlIT"
      },
      "execution_count": null,
      "outputs": []
    }
  ],
  "metadata": {
    "kernelspec": {
      "display_name": "Python 3",
      "language": "python",
      "name": "python3"
    },
    "language_info": {
      "name": "python",
      "version": "3.10.9 (main, Dec 15 2022, 17:11:09) [Clang 14.0.0 (clang-1400.0.29.202)]"
    },
    "orig_nbformat": 4,
    "vscode": {
      "interpreter": {
        "hash": "b0fa6594d8f4cbf19f97940f81e996739fb7646882a419484c72d19e05852a7e"
      }
    },
    "colab": {
      "provenance": [],
      "include_colab_link": true
    },
    "accelerator": "GPU",
    "gpuClass": "standard"
  },
  "nbformat": 4,
  "nbformat_minor": 0
}