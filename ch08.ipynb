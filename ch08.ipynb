{
  "cells": [
    {
      "cell_type": "markdown",
      "metadata": {
        "id": "view-in-github",
        "colab_type": "text"
      },
      "source": [
        "<a href=\"https://colab.research.google.com/github/tsutsumi-ozro/NLP-100knocks/blob/main/ch08.ipynb\" target=\"_parent\"><img src=\"https://colab.research.google.com/assets/colab-badge.svg\" alt=\"Open In Colab\"/></a>"
      ]
    },
    {
      "cell_type": "markdown",
      "metadata": {
        "id": "jKZ4e4BuuJTw"
      },
      "source": [
        "## 第8章: ニューラルネット\n",
        "第6章で取り組んだニュース記事のカテゴリ分類を題材として，ニューラルネットワークでカテゴリ分類モデルを実装する．なお，この章ではPyTorch, TensorFlow, Chainerなどの機械学習プラットフォームを活用せよ．"
      ]
    },
    {
      "cell_type": "markdown",
      "metadata": {
        "id": "xqUPMBWZuJTy"
      },
      "source": [
        "### 70. 単語ベクトルの和による特徴量\n",
        "※問題文に数式が多く含まれているため、記述しない。<br>\n",
        "[問題文](https://nlp100.github.io/ja/ch08.html)"
      ]
    },
    {
      "cell_type": "markdown",
      "source": [
        "問題50と同じことをする(閲覧している解答が変わっているため若干コードにも変化はあるが、やっていることはほとんど同じ)"
      ],
      "metadata": {
        "id": "5IBIS26evtDs"
      }
    },
    {
      "cell_type": "code",
      "source": [
        "!wget https://archive.ics.uci.edu/ml/machine-learning-databases/00359/NewsAggregatorDataset.zip\n",
        "!unzip /content/NewsAggregatorDataset.zip"
      ],
      "metadata": {
        "colab": {
          "base_uri": "https://localhost:8080/"
        },
        "id": "qLHWq5GBu0cX",
        "outputId": "ac465810-244d-46de-9962-2cdbedbbb570"
      },
      "execution_count": 1,
      "outputs": [
        {
          "output_type": "stream",
          "name": "stdout",
          "text": [
            "--2023-01-05 09:34:03--  https://archive.ics.uci.edu/ml/machine-learning-databases/00359/NewsAggregatorDataset.zip\n",
            "Resolving archive.ics.uci.edu (archive.ics.uci.edu)... 128.195.10.252\n",
            "Connecting to archive.ics.uci.edu (archive.ics.uci.edu)|128.195.10.252|:443... connected.\n",
            "HTTP request sent, awaiting response... 200 OK\n",
            "Length: 29224203 (28M) [application/x-httpd-php]\n",
            "Saving to: ‘NewsAggregatorDataset.zip’\n",
            "\n",
            "NewsAggregatorDatas 100%[===================>]  27.87M  47.1MB/s    in 0.6s    \n",
            "\n",
            "2023-01-05 09:34:04 (47.1 MB/s) - ‘NewsAggregatorDataset.zip’ saved [29224203/29224203]\n",
            "\n",
            "Archive:  /content/NewsAggregatorDataset.zip\n",
            "  inflating: 2pageSessions.csv       \n",
            "   creating: __MACOSX/\n",
            "  inflating: __MACOSX/._2pageSessions.csv  \n",
            "  inflating: newsCorpora.csv         \n",
            "  inflating: __MACOSX/._newsCorpora.csv  \n",
            "  inflating: readme.txt              \n",
            "  inflating: __MACOSX/._readme.txt   \n"
          ]
        }
      ]
    },
    {
      "cell_type": "code",
      "source": [
        "import pandas as pd\n",
        "from sklearn.model_selection import train_test_split\n",
        "columns = ['ID', 'TITLE', 'URL', 'PUBLISHER', 'CATEGORY', 'STORY', 'HOSTNAME', 'TIMESTAMP']\n",
        "df = pd.read_csv('/content/newsCorpora.csv', header=None, sep='\\t', names=columns)\n",
        "\n",
        "df = df.loc[df['PUBLISHER'].isin(['Reuters', 'Huffington Post', 'Businessweek', 'Contactmusic.com', 'Daily Mail']), ['TITLE', 'CATEGORY']]\n",
        "\n",
        "train, valid_test = train_test_split(df, test_size=0.2, shuffle=True, random_state=123, stratify=df['CATEGORY'])\n",
        "valid, test = train_test_split(valid_test, test_size=0.5, shuffle=True, random_state=123, stratify=valid_test['CATEGORY'])"
      ],
      "metadata": {
        "id": "N8SLb1u-vaqL"
      },
      "execution_count": 2,
      "outputs": []
    },
    {
      "cell_type": "markdown",
      "source": [
        "問題60で使用した学習済み単語ベクトルをダウンロード"
      ],
      "metadata": {
        "id": "7OWVQGAav3mQ"
      }
    },
    {
      "cell_type": "code",
      "source": [
        "FILE_ID = \"0B7XkCwpI5KDYNlNUTTlSS21pQmM\"\n",
        "FILE_NAME = \"GoogleNews-vectors-negative300.bin.gz\"\n",
        "!wget --load-cookies /tmp/cookies.txt \"https://docs.google.com/uc?export=download&confirm=$(wget --quiet --save-cookies /tmp/cookies.txt --keep-session-cookies --no-check-certificate 'https://docs.google.com/uc?export=download&id=$FILE_ID' -O- | sed -rn 's/.*confirm=([0-9A-Za-z_]+).*/\\1\\n/p')&id=$FILE_ID\" -O $FILE_NAME && rm -rf /tmp/cookies.txt"
      ],
      "metadata": {
        "colab": {
          "base_uri": "https://localhost:8080/"
        },
        "id": "QdmUclVhv3H6",
        "outputId": "b75e5798-799b-47db-feae-2e2803e72525"
      },
      "execution_count": 3,
      "outputs": [
        {
          "output_type": "stream",
          "name": "stdout",
          "text": [
            "--2023-01-05 09:34:21--  https://docs.google.com/uc?export=download&confirm=&id=0B7XkCwpI5KDYNlNUTTlSS21pQmM\n",
            "Resolving docs.google.com (docs.google.com)... 172.253.117.139, 172.253.117.100, 172.253.117.102, ...\n",
            "Connecting to docs.google.com (docs.google.com)|172.253.117.139|:443... connected.\n",
            "HTTP request sent, awaiting response... 303 See Other\n",
            "Location: https://doc-0g-8s-docs.googleusercontent.com/docs/securesc/ha0ro937gcuc7l7deffksulhg5h7mbp1/vopg7b3h1un25794id3lghsmb3v55uie/1672911225000/06848720943842814915/*/0B7XkCwpI5KDYNlNUTTlSS21pQmM?e=download&uuid=6c5a0e44-a25c-429b-ae5c-9070855a80ac [following]\n",
            "Warning: wildcards not supported in HTTP.\n",
            "--2023-01-05 09:34:21--  https://doc-0g-8s-docs.googleusercontent.com/docs/securesc/ha0ro937gcuc7l7deffksulhg5h7mbp1/vopg7b3h1un25794id3lghsmb3v55uie/1672911225000/06848720943842814915/*/0B7XkCwpI5KDYNlNUTTlSS21pQmM?e=download&uuid=6c5a0e44-a25c-429b-ae5c-9070855a80ac\n",
            "Resolving doc-0g-8s-docs.googleusercontent.com (doc-0g-8s-docs.googleusercontent.com)... 74.125.142.132, 2607:f8b0:400e:c08::84\n",
            "Connecting to doc-0g-8s-docs.googleusercontent.com (doc-0g-8s-docs.googleusercontent.com)|74.125.142.132|:443... connected.\n",
            "HTTP request sent, awaiting response... 200 OK\n",
            "Length: 1647046227 (1.5G) [application/x-gzip]\n",
            "Saving to: ‘GoogleNews-vectors-negative300.bin.gz’\n",
            "\n",
            "GoogleNews-vectors- 100%[===================>]   1.53G   236MB/s    in 7.3s    \n",
            "\n",
            "2023-01-05 09:34:28 (215 MB/s) - ‘GoogleNews-vectors-negative300.bin.gz’ saved [1647046227/1647046227]\n",
            "\n"
          ]
        }
      ]
    },
    {
      "cell_type": "code",
      "source": [
        "from gensim.models import KeyedVectors\n",
        "\n",
        "model = KeyedVectors.load_word2vec_format('/content/GoogleNews-vectors-negative300.bin.gz', binary=True)"
      ],
      "metadata": {
        "id": "8gdNdSDowudO"
      },
      "execution_count": 4,
      "outputs": []
    },
    {
      "cell_type": "markdown",
      "source": [
        "maketransはマッピングするのか<br>\n",
        "https://www.w3big.com/ja/python/att-string-maketrans.html<br>\n",
        "こちらstring<br>\n",
        "https://docs.python.org/ja/3/library/string.html<br>\n",
        "返り値はこれをしてる<br>\n",
        "\n",
        "$\\boldsymbol{x}_i = \\frac{1}{T_i} \\sum_{t=1}^{T_i} \\mathrm{emb}(w_{i,t})$\n"
      ],
      "metadata": {
        "id": "dx56Gxc3SU9M"
      }
    },
    {
      "cell_type": "code",
      "source": [
        "import string\n",
        "import torch\n",
        "\n",
        "def transform_w2v(text):\n",
        "    #!\"#$%&'()*+,-./:;<=>?@[\\]^_`{|}~を空白に置換しようとしてるわけ\n",
        "    table = str.maketrans(string.punctuation, ' '*len(string.punctuation))\n",
        "    words = text.translate(table).split()\n",
        "    #ここでベクトル変換してる\n",
        "    vec = [model[word] for word in words if word in model]\n",
        "\n",
        "    return torch.tensor(sum(vec)/len(vec))"
      ],
      "metadata": {
        "id": "VxcaAy1lxgwA"
      },
      "execution_count": 5,
      "outputs": []
    },
    {
      "cell_type": "code",
      "source": [
        "X_train = torch.stack([transform_w2v(text) for text in train['TITLE']])\n",
        "X_valid = torch.stack([transform_w2v(text) for text in valid['TITLE']])\n",
        "X_test = torch.stack([transform_w2v(text) for text in test['TITLE']])"
      ],
      "metadata": {
        "id": "VJmMCly9UUB0"
      },
      "execution_count": 9,
      "outputs": []
    },
    {
      "cell_type": "code",
      "source": [
        "category_dict = {'b':0, 't':1, 'e':2, 'm':3}\n",
        "y_train = torch.tensor(train['CATEGORY'].map(lambda x: category_dict[x]).values)\n",
        "y_valid = torch.tensor(valid['CATEGORY'].map(lambda x: category_dict[x]).values)\n",
        "y_test = torch.tensor(test['CATEGORY'].map(lambda x: category_dict[x]).values)"
      ],
      "metadata": {
        "id": "QN98GdulUvrx"
      },
      "execution_count": 7,
      "outputs": []
    },
    {
      "cell_type": "code",
      "source": [
        "torch.save(X_train, 'X_train.pt')\n",
        "torch.save(X_valid, 'X_valid.pt')\n",
        "torch.save(X_test, 'X_test.pt')\n",
        "torch.save(y_train, 'y_train.pt')\n",
        "torch.save(y_valid, 'y_valid.pt')\n",
        "torch.save(y_test, 'y_test.pt')"
      ],
      "metadata": {
        "id": "a6SEPYKbVPjE"
      },
      "execution_count": 10,
      "outputs": []
    },
    {
      "cell_type": "markdown",
      "metadata": {
        "id": "Q3bnpbQjuJTy"
      },
      "source": [
        "### 71. 単層ニューラルネットワークによる予測\n",
        "※問題文に数式が含まれているため、記述しない。<br>\n",
        "[問題文](https://nlp100.github.io/ja/ch08.html)"
      ]
    },
    {
      "cell_type": "markdown",
      "source": [
        "https://pytorch.org/docs/stable/generated/torch.nn.Linear.html?highlight=torch+nn+linear#torch.nn.Linear<br>\n",
        "https://pytorch.org/docs/stable/nn.init.html?highlight=nn+init+normal_#torch.nn.init.normal_<br>\n"
      ],
      "metadata": {
        "id": "T81tN57IvAlY"
      }
    },
    {
      "cell_type": "code",
      "source": [
        "from torch import nn\n",
        "\n",
        "class SLPNet(nn.Module):\n",
        "    def __init__(self, input_size, output_size):\n",
        "        super().__init__()\n",
        "        self.fc = nn.Linear(input_size, output_size, bias=False)\n",
        "        nn.init.normal_(self.fc.weight, 0.0, 1.0)\n",
        "    \n",
        "    def forward(self, x):\n",
        "        x = self.fc(x)\n",
        "        return x\n",
        "\n",
        "model = SLPNet(300, 4)\n",
        "y_hat_1 = torch.softmax(model(X_train[:1]), dim=-1)\n",
        "print(y_hat_1)"
      ],
      "metadata": {
        "colab": {
          "base_uri": "https://localhost:8080/"
        },
        "id": "IAfvgeybu0wI",
        "outputId": "64788739-2072-4c1a-f2b3-cc00e46a741f"
      },
      "execution_count": 11,
      "outputs": [
        {
          "output_type": "stream",
          "name": "stdout",
          "text": [
            "tensor([[0.0250, 0.0098, 0.7128, 0.2524]], grad_fn=<SoftmaxBackward0>)\n"
          ]
        }
      ]
    },
    {
      "cell_type": "code",
      "source": [
        "y_hat = torch.softmax(model(X_train[:4]), dim=-1)\n",
        "print(y_hat)"
      ],
      "metadata": {
        "colab": {
          "base_uri": "https://localhost:8080/"
        },
        "id": "Dg9MS8vluPiR",
        "outputId": "e4de3e7a-4cca-4bc4-daf8-dc6c5ed9f0b9"
      },
      "execution_count": 13,
      "outputs": [
        {
          "output_type": "stream",
          "name": "stdout",
          "text": [
            "tensor([[0.0250, 0.0098, 0.7128, 0.2524],\n",
            "        [0.5622, 0.2795, 0.1034, 0.0548],\n",
            "        [0.3535, 0.0579, 0.3531, 0.2355],\n",
            "        [0.1658, 0.0952, 0.3122, 0.4268]], grad_fn=<SoftmaxBackward0>)\n"
          ]
        }
      ]
    },
    {
      "cell_type": "markdown",
      "metadata": {
        "id": "dld_kiFquJTy"
      },
      "source": [
        "### 72. 損失と勾配の計算\n",
        "※問題文に数式が含まれているため、記述しない。<br>\n",
        "[問題文](https://nlp100.github.io/ja/ch08.html)"
      ]
    },
    {
      "cell_type": "code",
      "source": [
        "loss_fn = nn.CrossEntropyLoss()\n",
        "loss_x1 = loss_fn(model(X_train[:1]), y_train[:1])\n",
        "model.zero_grad()\n",
        "loss_x1.backward()\n",
        "print(f'損失: {loss_x1:.4f}')\n",
        "print(f'勾配: \\n{model.fc.weight.grad}')"
      ],
      "metadata": {
        "colab": {
          "base_uri": "https://localhost:8080/"
        },
        "id": "4fMmUMgfvW5i",
        "outputId": "df849dcd-9853-48f3-d1f7-6d47b0b49fb3"
      },
      "execution_count": 15,
      "outputs": [
        {
          "output_type": "stream",
          "name": "stdout",
          "text": [
            "損失: 3.6879\n",
            "勾配: \n",
            "tensor([[ 0.0165, -0.1285,  0.0709,  ..., -0.0385, -0.0217, -0.0179],\n",
            "        [-0.0002,  0.0013, -0.0007,  ...,  0.0004,  0.0002,  0.0002],\n",
            "        [-0.0121,  0.0939, -0.0519,  ...,  0.0281,  0.0159,  0.0131],\n",
            "        [-0.0043,  0.0333, -0.0184,  ...,  0.0100,  0.0056,  0.0046]])\n"
          ]
        }
      ]
    },
    {
      "cell_type": "code",
      "source": [
        "loss_x1_to_x4 = loss_fn(model(X_train[:4]), y_train[:4])\n",
        "model.zero_grad()\n",
        "loss_x1_to_x4.backward()\n",
        "print(f'損失: {loss_x1_to_x4:.4f}')\n",
        "print(f'勾配: \\n{model.fc.weight.grad}')"
      ],
      "metadata": {
        "colab": {
          "base_uri": "https://localhost:8080/"
        },
        "id": "7XRxSYc8wN5t",
        "outputId": "9851833e-a70f-4efa-b2a4-cc1bdd7775fa"
      },
      "execution_count": 16,
      "outputs": [
        {
          "output_type": "stream",
          "name": "stdout",
          "text": [
            "損失: 1.7752\n",
            "勾配: \n",
            "tensor([[ 0.0324, -0.0537,  0.0301,  ..., -0.0091, -0.0178, -0.0071],\n",
            "        [-0.0094, -0.0001, -0.0073,  ...,  0.0020, -0.0003, -0.0022],\n",
            "        [-0.0137,  0.0317, -0.0161,  ...,  0.0056,  0.0119,  0.0060],\n",
            "        [-0.0093,  0.0221, -0.0066,  ...,  0.0016,  0.0062,  0.0034]])\n"
          ]
        }
      ]
    },
    {
      "cell_type": "markdown",
      "metadata": {
        "id": "l3omp-e_uJTy"
      },
      "source": [
        "### 73.  確率的勾配降下法による学習\n",
        "確率的勾配降下法（SGD: Stochastic Gradient Descent）を用いて，行列Wを学習せよ．なお，学習は適当な基準で終了させればよい（例えば「100エポックで終了」など）．\n",
        "\n"
      ]
    },
    {
      "cell_type": "code",
      "source": [
        "from torch.utils.data import Dataset\n",
        "from torch.utils.data import DataLoader\n",
        "\n",
        "class NewsDataset(Dataset):\n",
        "    def __init__(self, X, y):\n",
        "        self.X = X\n",
        "        self.y = y\n",
        "    \n",
        "    def __len__(self):\n",
        "        return len(self.y)\n",
        "\n",
        "    def __getitem__(self, index):\n",
        "        return [self.X[index], self.y[index]]\n",
        "\n",
        "dataset_train = NewsDataset(X_train, y_train)\n",
        "dataset_valid = NewsDataset(X_valid, y_valid)\n",
        "dataset_test = NewsDataset(X_test, y_test)\n",
        "\n",
        "dataloader_train = DataLoader(dataset_train, batch_size=64, shuffle=True)\n",
        "dataloader_valid = DataLoader(dataset_valid, batch_size=32, shuffle=False)\n",
        "dataloader_test = DataLoader(dataset_test, batch_size=32, shuffle=False)"
      ],
      "metadata": {
        "id": "To0XP7N8wh38"
      },
      "execution_count": 34,
      "outputs": []
    },
    {
      "cell_type": "code",
      "source": [
        "from torch.nn.modules.loss import CrossEntropyLoss\n",
        "\n",
        "model = SLPNet(300, 4)\n",
        "loss_fn = nn.CrossEntropyLoss()\n",
        "optimizer = torch.optim.SGD(model.parameters(), lr=1e-1)\n",
        "\n",
        "num_epochs = 100\n",
        "for epoch in range(num_epochs):\n",
        "    model.train()\n",
        "    loss_train = 0.0\n",
        "    for i, (inputs, labels) in enumerate(dataloader_train):\n",
        "        optimizer.zero_grad()\n",
        "\n",
        "        outputs = model(inputs)\n",
        "        loss = loss_fn(outputs, labels)\n",
        "        loss.backward()\n",
        "        optimizer.step()\n",
        "\n",
        "        loss_train += loss.item()\n",
        "    \n",
        "    loss_train = loss_train / i\n",
        "\n",
        "    model.eval()\n",
        "    with torch.no_grad():\n",
        "        inputs, labels = next(iter(dataloader_valid))\n",
        "        outputs = model(inputs)\n",
        "        loss_valid = loss_fn(outputs, labels)\n",
        "    if (epoch+1)%10==0:\n",
        "        print(f'epoch: {epoch + 1}, loss_train: {loss_train:.4f}, loss_valid: {loss_valid:.4f}')  "
      ],
      "metadata": {
        "colab": {
          "base_uri": "https://localhost:8080/"
        },
        "id": "4fDtM2naxdYf",
        "outputId": "ab949816-a337-4a7f-dfd4-dbcd471293b9"
      },
      "execution_count": 36,
      "outputs": [
        {
          "output_type": "stream",
          "name": "stdout",
          "text": [
            "epoch: 10, loss_train: 0.5595, loss_valid: 0.6710\n",
            "epoch: 20, loss_train: 0.4455, loss_valid: 0.5331\n",
            "epoch: 30, loss_train: 0.3959, loss_valid: 0.4725\n",
            "epoch: 40, loss_train: 0.3676, loss_valid: 0.4423\n",
            "epoch: 50, loss_train: 0.3487, loss_valid: 0.4230\n",
            "epoch: 60, loss_train: 0.3350, loss_valid: 0.4104\n",
            "epoch: 70, loss_train: 0.3239, loss_valid: 0.4011\n",
            "epoch: 80, loss_train: 0.3157, loss_valid: 0.3948\n",
            "epoch: 90, loss_train: 0.3084, loss_valid: 0.3895\n",
            "epoch: 100, loss_train: 0.3022, loss_valid: 0.3852\n"
          ]
        }
      ]
    },
    {
      "cell_type": "markdown",
      "metadata": {
        "id": "I_G_7T__uJTz"
      },
      "source": [
        "### 74. 正解率の計測\n",
        "問題73で求めた行列を用いて学習データおよび評価データの事例を分類したとき，その正解率をそれぞれ求めよ．"
      ]
    },
    {
      "cell_type": "code",
      "source": [
        "def calculate_accuracy(model, loader):\n",
        "    model.eval()\n",
        "    total = 0\n",
        "    correct = 0\n",
        "    with torch.no_grad():\n",
        "        for inputs, labels in loader:\n",
        "            outputs = model(inputs)\n",
        "            pred = torch.argmax(outputs, dim=-1)\n",
        "            total += len(inputs)\n",
        "            #sum? 0 or 1の出力だと思ってたけども.\n",
        "            # argmaxのdocumentを読んで理解\n",
        "            # https://pytorch.org/docs/stable/generated/torch.argmax.html?highlight=torch+argmax#torch.argmax\n",
        "            correct += (pred==labels).sum().item()\n",
        "    return correct / total\n",
        "\n",
        "acc_train = calculate_accuracy(model, dataloader_train)\n",
        "acc_test = calculate_accuracy(model, dataloader_test)\n",
        "print(f'train accuracy score: {acc_train:.3f}')\n",
        "print(f'test accuracy score：{acc_test:.3f}')"
      ],
      "metadata": {
        "colab": {
          "base_uri": "https://localhost:8080/"
        },
        "id": "yX5v3iiZ1syt",
        "outputId": "ef0dbfa6-b3a7-4ecb-ce76-410073d232c9"
      },
      "execution_count": 37,
      "outputs": [
        {
          "output_type": "stream",
          "name": "stdout",
          "text": [
            "train accuracy score: 0.896\n",
            "test accuracy score：0.891\n"
          ]
        }
      ]
    },
    {
      "cell_type": "markdown",
      "metadata": {
        "id": "pKfMCvqAuJTz"
      },
      "source": [
        "### 75. 損失と正解率のプロット\n",
        "問題73のコードを改変し，各エポックのパラメータ更新が完了するたびに，訓練データでの損失，正解率，検証データでの損失，正解率をグラフにプロットし，学習の進捗状況を確認できるようにせよ．"
      ]
    },
    {
      "cell_type": "code",
      "source": [
        "def calculate_loss_and_accuracy(model, loss_fn, loader):\n",
        "    model.eval()\n",
        "    loss = 0.0\n",
        "    total = 0\n",
        "    correct = 0\n",
        "    with torch.no_grad():\n",
        "        for inputs, labels in loader:\n",
        "            outputs = model(inputs)\n",
        "            loss += loss_fn(outputs, labels)\n",
        "            pred = torch.argmax(outputs, dim=-1)\n",
        "            total += len(inputs)\n",
        "            correct += (pred==labels).sum().item()\n",
        "    return loss/len(loader), correct/total"
      ],
      "metadata": {
        "id": "umJaHDBf3po6"
      },
      "execution_count": 38,
      "outputs": []
    },
    {
      "cell_type": "code",
      "source": [
        "model = SLPNet(300, 4)\n",
        "loss_fn = nn.CrossEntropyLoss()\n",
        "optimizer = torch.optim.SGD(model.parameters(), lr=1e-1)\n",
        "\n",
        "num_epochs = 100\n",
        "log_train = []\n",
        "log_valid = []\n",
        "\n",
        "for epoch in range(num_epochs):\n",
        "    model.train()\n",
        "    for inputs, labels in dataloader_train:\n",
        "        optimizer.zero_grad()\n",
        "        outputs = model(inputs)\n",
        "        loss = loss_fn(outputs, labels)\n",
        "        loss.backward()\n",
        "        optimizer.step()\n",
        "    \n",
        "    loss_train, acc_train = calculate_loss_and_accuracy(model, loss_fn, dataloader_train)\n",
        "    loss_valid, acc_valid = calculate_loss_and_accuracy(model, loss_fn, dataloader_valid)\n",
        "    log_train.append([loss_train, acc_train])\n",
        "    log_valid.append([loss_valid, acc_valid])\n",
        "\n",
        "    if (epoch+1)%10==0:\n",
        "        print(f'epoch: {epoch + 1}, loss_train: {loss_train:.4f}, accuracy_train: {acc_train:.4f}, loss_valid: {loss_valid:.4f}, accuracy_valid: {acc_valid:.4f}')"
      ],
      "metadata": {
        "colab": {
          "base_uri": "https://localhost:8080/"
        },
        "id": "LTm5VYXW4XH-",
        "outputId": "26fffbdc-2981-4694-eec9-4cdba6254711"
      },
      "execution_count": 40,
      "outputs": [
        {
          "output_type": "stream",
          "name": "stdout",
          "text": [
            "epoch: 10, loss_train: 0.5657, accuracy_train: 0.7938, loss_valid: 0.5734, accuracy_valid: 0.7901\n",
            "epoch: 20, loss_train: 0.4451, accuracy_train: 0.8385, loss_valid: 0.4610, accuracy_valid: 0.8276\n",
            "epoch: 30, loss_train: 0.3936, accuracy_train: 0.8611, loss_valid: 0.4138, accuracy_valid: 0.8508\n",
            "epoch: 40, loss_train: 0.3647, accuracy_train: 0.8717, loss_valid: 0.3875, accuracy_valid: 0.8591\n",
            "epoch: 50, loss_train: 0.3457, accuracy_train: 0.8786, loss_valid: 0.3698, accuracy_valid: 0.8628\n",
            "epoch: 60, loss_train: 0.3317, accuracy_train: 0.8834, loss_valid: 0.3573, accuracy_valid: 0.8636\n",
            "epoch: 70, loss_train: 0.3217, accuracy_train: 0.8874, loss_valid: 0.3478, accuracy_valid: 0.8688\n",
            "epoch: 80, loss_train: 0.3134, accuracy_train: 0.8920, loss_valid: 0.3400, accuracy_valid: 0.8718\n",
            "epoch: 90, loss_train: 0.3063, accuracy_train: 0.8956, loss_valid: 0.3335, accuracy_valid: 0.8748\n",
            "epoch: 100, loss_train: 0.3003, accuracy_train: 0.8980, loss_valid: 0.3281, accuracy_valid: 0.8786\n"
          ]
        }
      ]
    },
    {
      "cell_type": "code",
      "source": [
        "import matplotlib.pyplot as plt\n",
        "import numpy as np\n",
        "\n",
        "fig, ax = plt.subplots(1, 2, figsize=(16, 6))\n",
        "\n",
        "ax[0].plot(np.array(log_train).T[0], label='train', color='blue')\n",
        "ax[0].plot(np.array(log_valid).T[0], label='valid', color='red')\n",
        "ax[0].set_xlabel('epoch')\n",
        "ax[0].set_ylabel('loss')\n",
        "ax[0].legend()\n",
        "\n",
        "ax[1].plot(np.array(log_train).T[1], label='train', color='blue')\n",
        "ax[1].plot(np.array(log_valid).T[1], label='valid', color='red')\n",
        "ax[1].set_xlabel('epoch')\n",
        "ax[1].set_ylabel('accuracy')\n",
        "ax[1].legend()\n",
        "\n",
        "plt.show()"
      ],
      "metadata": {
        "colab": {
          "base_uri": "https://localhost:8080/",
          "height": 359
        },
        "id": "UIAWmYlZ5t5L",
        "outputId": "1e6362cb-02ff-4d30-85d9-b17360fced7d"
      },
      "execution_count": 41,
      "outputs": [
        {
          "output_type": "display_data",
          "data": {
            "text/plain": [
              "<Figure size 1152x432 with 2 Axes>"
            ],
            "image/png": "[encoded data removed]"
          },
          "metadata": {
            "needs_background": "light"
          }
        }
      ]
    },
    {
      "cell_type": "markdown",
      "metadata": {
        "id": "EZuFBUmDuJTz"
      },
      "source": [
        "### 76. チェックポイント\n",
        "問題75のコードを改変し，各エポックのパラメータ更新が完了するたびに，チェックポイント（学習途中のパラメータ（重み行列など）の値や最適化アルゴリズムの内部状態）をファイルに書き出せ．"
      ]
    },
    {
      "cell_type": "markdown",
      "metadata": {
        "id": "fZoIIlTHuJTz"
      },
      "source": [
        "### 77. ミニバッチ化\n",
        "問題76のコードを改変し，B事例ごとに損失・勾配を計算し，行列Wの値を更新せよ（ミニバッチ化）．Bの値を1,2,4,8,…と変化させながら，1エポックの学習に要する時間を比較せよ．"
      ]
    },
    {
      "cell_type": "markdown",
      "metadata": {
        "id": "P3Q5LSgvuJTz"
      },
      "source": [
        "### 78. GPU上での学習\n",
        "問題77のコードを改変し，GPU上で学習を実行せよ．"
      ]
    },
    {
      "cell_type": "markdown",
      "metadata": {
        "id": "TbKEeSC-uJTz"
      },
      "source": [
        "### 79. 多層ニューラルネットワーク\n",
        "問題78のコードを改変し，バイアス項の導入や多層化など，ニューラルネットワークの形状を変更しながら，高性能なカテゴリ分類器を構築せよ．"
      ]
    },
    {
      "cell_type": "code",
      "execution_count": null,
      "metadata": {
        "id": "S33FMzNZuJTz"
      },
      "outputs": [],
      "source": []
    }
  ],
  "metadata": {
    "kernelspec": {
      "display_name": "Python 3",
      "language": "python",
      "name": "python3"
    },
    "language_info": {
      "name": "python",
      "version": "3.10.9 (main, Dec 15 2022, 17:11:09) [Clang 14.0.0 (clang-1400.0.29.202)]"
    },
    "orig_nbformat": 4,
    "vscode": {
      "interpreter": {
        "hash": "b0fa6594d8f4cbf19f97940f81e996739fb7646882a419484c72d19e05852a7e"
      }
    },
    "colab": {
      "provenance": [],
      "include_colab_link": true
    }
  },
  "nbformat": 4,
  "nbformat_minor": 0
}