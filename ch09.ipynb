{
  "cells": [
    {
      "cell_type": "markdown",
      "metadata": {
        "id": "view-in-github",
        "colab_type": "text"
      },
      "source": [
        "<a href=\"https://colab.research.google.com/github/tsutsumi-ozro/NLP-100knocks/blob/main/ch09.ipynb\" target=\"_parent\"><img src=\"https://colab.research.google.com/assets/colab-badge.svg\" alt=\"Open In Colab\"/></a>"
      ]
    },
    {
      "cell_type": "markdown",
      "metadata": {
        "id": "h-eoRb5dsq6n"
      },
      "source": [
        "## 第9章: RNN, CNN\n"
      ]
    },
    {
      "cell_type": "markdown",
      "metadata": {
        "id": "AhjqVbRLsq6p"
      },
      "source": [
        "### 80. ID番号への変換\n",
        "問題51で構築した学習データ中の単語にユニークなID番号を付与したい．学習データ中で最も頻出する単語に1，2番目に頻出する単語に2，……といった方法で，学習データ中で2回以上出現する単語にID番号を付与せよ．そして，与えられた単語列に対して，ID番号の列を返す関数を実装せよ．ただし，出現頻度が2回未満の単語のID番号はすべて0とせよ"
      ]
    },
    {
      "cell_type": "code",
      "source": [
        "!wget https://archive.ics.uci.edu/ml/machine-learning-databases/00359/NewsAggregatorDataset.zip\n",
        "!unzip /content/NewsAggregatorDataset.zip"
      ],
      "metadata": {
        "colab": {
          "base_uri": "https://localhost:8080/"
        },
        "id": "LQR6mxqgvBOy",
        "outputId": "91e3b267-e096-4da0-e538-f04f43d66df9"
      },
      "execution_count": 31,
      "outputs": [
        {
          "output_type": "stream",
          "name": "stdout",
          "text": [
            "--2023-01-13 05:16:13--  https://archive.ics.uci.edu/ml/machine-learning-databases/00359/NewsAggregatorDataset.zip\n",
            "Resolving archive.ics.uci.edu (archive.ics.uci.edu)... 128.195.10.252\n",
            "Connecting to archive.ics.uci.edu (archive.ics.uci.edu)|128.195.10.252|:443... connected.\n",
            "HTTP request sent, awaiting response... 200 OK\n",
            "Length: 29224203 (28M) [application/x-httpd-php]\n",
            "Saving to: ‘NewsAggregatorDataset.zip.1’\n",
            "\n",
            "NewsAggregatorDatas 100%[===================>]  27.87M  10.2MB/s    in 2.7s    \n",
            "\n",
            "2023-01-13 05:16:17 (10.2 MB/s) - ‘NewsAggregatorDataset.zip.1’ saved [29224203/29224203]\n",
            "\n",
            "Archive:  /content/NewsAggregatorDataset.zip\n",
            "replace 2pageSessions.csv? [y]es, [n]o, [A]ll, [N]one, [r]ename: n\n",
            "replace __MACOSX/._2pageSessions.csv? [y]es, [n]o, [A]ll, [N]one, [r]ename: n\n",
            "replace newsCorpora.csv? [y]es, [n]o, [A]ll, [N]one, [r]ename: n\n",
            "replace __MACOSX/._newsCorpora.csv? [y]es, [n]o, [A]ll, [N]one, [r]ename: n\n",
            "replace readme.txt? [y]es, [n]o, [A]ll, [N]one, [r]ename: n\n",
            "replace __MACOSX/._readme.txt? [y]es, [n]o, [A]ll, [N]one, [r]ename: n\n"
          ]
        }
      ]
    },
    {
      "cell_type": "code",
      "source": [
        "#問題50のコードを(基本的に)そのまんま\n",
        "import pandas as pd\n",
        "from sklearn.model_selection import train_test_split\n",
        "\n",
        "columns = ['ID', 'TITLE', 'URL', 'PUBLISHER', 'CATEGORY', 'STORY', 'HOSTNAME', 'TIMESTAMP']\n",
        "df = pd.read_csv('/content/newsCorpora.csv', header=None, sep='\\t', names=columns)\n",
        "\n",
        "df = df[df['PUBLISHER'].isin(['Reuters', 'Huffington Post', 'Businessweek', 'Contactmusic.com', 'Daily Mail'])]\n",
        "# df.query(\"PUBLISHER in ['Reuters', 'Huffington Post', 'Businessweek', 'Contactmusic.com', 'Daily Mail']\")\n",
        "df = df.sample(frac=1, random_state=0)\n",
        "\n",
        "train, valid_test= train_test_split(df, test_size=0.2, stratify=df['CATEGORY'], random_state=0)\n",
        "valid, test = train_test_split(valid_test, test_size=0.5, stratify=valid_test['CATEGORY'], random_state=0)\n",
        "train.reset_index(drop=True, inplace=True)\n",
        "valid.reset_index(drop=True, inplace=True)\n",
        "test.reset_index(drop=True, inplace=True)"
      ],
      "metadata": {
        "id": "3l195NvYvVKd"
      },
      "execution_count": 1,
      "outputs": []
    },
    {
      "cell_type": "code",
      "source": [
        "from collections import defaultdict\n",
        "import string\n",
        "\n",
        "d = defaultdict(int)\n",
        "table = str.maketrans(string.punctuation, ' '*len(string.punctuation))\n",
        "for text in train['TITLE']:\n",
        "    for word in text.translate(table).split():\n",
        "        d[word] += 1\n",
        "d = sorted(d.items(), key=lambda x: x[1], reverse=True)\n",
        "\n",
        "word2id = {word: i+1 for i, (word, count) in enumerate(d) if count>1}\n",
        "print(f'2回以上出てくる単語数： {len(set(word2id.values()))}\\n')\n",
        "print('頻度上位10語')\n",
        "for key in list(word2id)[:10]:\n",
        "    print(f'{key}: {word2id[key]}')"
      ],
      "metadata": {
        "colab": {
          "base_uri": "https://localhost:8080/"
        },
        "id": "4_xBaYJgwGZD",
        "outputId": "174ebed4-ec46-41dd-c8fb-02f218f55180"
      },
      "execution_count": 2,
      "outputs": [
        {
          "output_type": "stream",
          "name": "stdout",
          "text": [
            "2回以上出てくる単語数： 9440\n",
            "\n",
            "頻度上位10語\n",
            "to: 1\n",
            "s: 2\n",
            "in: 3\n",
            "UPDATE: 4\n",
            "on: 5\n",
            "US: 6\n",
            "as: 7\n",
            "of: 8\n",
            "for: 9\n",
            "The: 10\n"
          ]
        }
      ]
    },
    {
      "cell_type": "code",
      "source": [
        "def tokenizer(text, word2id=word2id, unk=0):\n",
        "    table = str.maketrans(string.punctuation, ' '*len(string.punctuation))\n",
        "    return [word2id.get(word, unk) for word in text.translate(table).split()]"
      ],
      "metadata": {
        "id": "dxgDcHHtxiLe"
      },
      "execution_count": 3,
      "outputs": []
    },
    {
      "cell_type": "code",
      "source": [
        "#test\n",
        "text = train.iloc[1, train.columns.get_loc('TITLE')]\n",
        "print(f'text: {text}')\n",
        "print(f'ID: {tokenizer(text)}')"
      ],
      "metadata": {
        "colab": {
          "base_uri": "https://localhost:8080/"
        },
        "id": "Vq3TzH08x-FU",
        "outputId": "e1f0c812-8e7f-4337-9c7c-1f616da028f2"
      },
      "execution_count": 4,
      "outputs": [
        {
          "output_type": "stream",
          "name": "stdout",
          "text": [
            "text: GLOBAL MARKETS-Subdued Ifo takes M&A shine off European stocks\n",
            "ID: [97, 127, 0, 2107, 346, 611, 20, 6660, 80, 223, 184]\n"
          ]
        }
      ]
    },
    {
      "cell_type": "markdown",
      "metadata": {
        "id": "iynyFQpssq6q"
      },
      "source": [
        "### 81. RNNによる予測\n",
        "※問題文に数式が多く含まれているため、記述しない。<br>\n",
        "[問題文](https://nlp100.github.io/ja/ch09.html)"
      ]
    },
    {
      "cell_type": "markdown",
      "source": [
        "読んだdocumentを貼っていく<br>\n",
        "[torch.nn.Embeding](https://pytorch.org/docs/stable/generated/torch.nn.Embedding.html?highlight=embedding#torch.nn.Embedding)<br>\n",
        "[torch.zeros](https://pytorch.org/docs/stable/generated/torch.zeros.html?highlight=torch+zeros#torch.zeros)<br>\n",
        "[torch.nn.RNN](https://pytorch.org/docs/stable/generated/torch.nn.RNN.html?highlight=torch+nn+rnn#torch.nn.RNN)"
      ],
      "metadata": {
        "id": "S7fhoa4H0DNM"
      }
    },
    {
      "cell_type": "code",
      "source": [
        "import torch\n",
        "from torch import nn\n",
        "\n",
        "class RNN(nn.Module):\n",
        "    def __init__(self, vocab_size, emb_size, padding_idx, output_size, hidden_size):\n",
        "        super().__init__()\n",
        "        self.hidden_size = hidden_size\n",
        "        self.emb = nn.Embedding(vocab_size, emb_size, padding_idx=padding_idx)\n",
        "        # batch_first – If True, then the input and output tensors are provided as \n",
        "        # (batch, seq, feature) instead of (seq, batch, feature). \n",
        "        self.rnn = nn.RNN(emb_size, hidden_size, batch_first=True)\n",
        "        self.fc = nn.Linear(hidden_size, output_size)\n",
        "    \n",
        "    def forward(self, x):\n",
        "        # x= (batch_size, seq_len)?\n",
        "        self.batch_size = x.size()[0]\n",
        "        hidden = self.init_hidden(x.device)\n",
        "        emb = self.emb(x)\n",
        "        # emb = (batch_size, seq_len, emb_size)\n",
        "        out, hideen = self.rnn(emb, hidden)\n",
        "        # batch_first=Trueなら(seq_len, batch_size, hidden)じゃないの？\n",
        "        # out = (batch_size, seq_len, hidden_size)\n",
        "        out = self.fc(out[:, -1, :])\n",
        "        # out = (batch_size, output_size)\n",
        "        return out\n",
        "    \n",
        "    def init_hidden(self, device):\n",
        "        # (1, batch_size, hidden_size)\n",
        "        hidden = torch.zeros(1, self.batch_size, self.hidden_size, device=device)\n",
        "        return hidden"
      ],
      "metadata": {
        "id": "x3gOPsjEvB2G"
      },
      "execution_count": 5,
      "outputs": []
    },
    {
      "cell_type": "code",
      "source": [
        "from torch.utils.data import Dataset\n",
        "\n",
        "class CreateDataset(Dataset):\n",
        "    def __init__(self, X, y, tokenizer):\n",
        "        self.X = X\n",
        "        self.y = y\n",
        "        self.tokenizer = tokenizer\n",
        "\n",
        "    def __len__(self):\n",
        "        return len(self.y)\n",
        "    \n",
        "    def __getitem__(self, index):\n",
        "        text = self.X[index]\n",
        "        inputs = self.tokenizer(text)\n",
        "        return {\n",
        "            'inputs': torch.tensor(inputs, dtype=torch.int64), \n",
        "            'labels': torch.tensor(self.y[index], dtype=torch.int64)\n",
        "        }"
      ],
      "metadata": {
        "id": "4iaeZhaX6-51"
      },
      "execution_count": 6,
      "outputs": []
    },
    {
      "cell_type": "code",
      "source": [
        "category_dict = {'b': 0, 't': 1, 'e':2, 'm':3}\n",
        "y_train = train['CATEGORY'].map(lambda x: category_dict[x]).values\n",
        "y_valid = valid['CATEGORY'].map(lambda x: category_dict[x]).values\n",
        "y_test = test['CATEGORY'].map(lambda x: category_dict[x]).values\n",
        "\n",
        "dataset_train = CreateDataset(train['TITLE'], y_train, tokenizer)\n",
        "dataset_valid = CreateDataset(valid['TITLE'], y_valid, tokenizer)\n",
        "dataset_test = CreateDataset(test['TITLE'], y_test, tokenizer)"
      ],
      "metadata": {
        "id": "YAiv5sh972qY"
      },
      "execution_count": 7,
      "outputs": []
    },
    {
      "cell_type": "code",
      "source": [
        "vocab_size = len(set(word2id.values())) + 1 #padding用の1\n",
        "EMB_SIZE = 300\n",
        "PADDING_IDX = len(set(word2id.values()))\n",
        "OUTPUT_SIZE = 4\n",
        "HIDDEN_SIZE = 50\n",
        "\n",
        "model = RNN(vocab_size, EMB_SIZE, PADDING_IDX, OUTPUT_SIZE, HIDDEN_SIZE)\n",
        "\n",
        "for i in range(10):\n",
        "    X = dataset_train[i]['inputs']\n",
        "    print(torch.softmax(model(X.unsqueeze(0)), dim=-1))"
      ],
      "metadata": {
        "colab": {
          "base_uri": "https://localhost:8080/"
        },
        "id": "Kfe6yPJs8Dm-",
        "outputId": "b6c864d9-ec6d-47f2-b02a-e9224f67a2f8"
      },
      "execution_count": 8,
      "outputs": [
        {
          "output_type": "stream",
          "name": "stdout",
          "text": [
            "tensor([[0.3313, 0.2065, 0.2312, 0.2310]], grad_fn=<SoftmaxBackward0>)\n",
            "tensor([[0.3409, 0.2571, 0.1432, 0.2587]], grad_fn=<SoftmaxBackward0>)\n",
            "tensor([[0.2069, 0.2271, 0.1658, 0.4002]], grad_fn=<SoftmaxBackward0>)\n",
            "tensor([[0.1211, 0.5320, 0.2410, 0.1059]], grad_fn=<SoftmaxBackward0>)\n",
            "tensor([[0.2502, 0.2504, 0.3507, 0.1487]], grad_fn=<SoftmaxBackward0>)\n",
            "tensor([[0.1863, 0.2679, 0.3203, 0.2254]], grad_fn=<SoftmaxBackward0>)\n",
            "tensor([[0.3005, 0.2591, 0.1484, 0.2919]], grad_fn=<SoftmaxBackward0>)\n",
            "tensor([[0.1816, 0.3450, 0.1938, 0.2796]], grad_fn=<SoftmaxBackward0>)\n",
            "tensor([[0.2080, 0.2589, 0.2150, 0.3181]], grad_fn=<SoftmaxBackward0>)\n",
            "tensor([[0.4680, 0.2130, 0.2188, 0.1002]], grad_fn=<SoftmaxBackward0>)\n"
          ]
        }
      ]
    },
    {
      "cell_type": "markdown",
      "metadata": {
        "id": "XNdbfXZ9sq6q"
      },
      "source": [
        "### 82. 確率的勾配降下法による学習\n",
        "確率的勾配降下法（SGD: Stochastic Gradient Descent）を用いて，問題81で構築したモデルを学習せよ．訓練データ上の損失と正解率，評価データ上の損失と正解率を表示しながらモデルを学習し，適当な基準（例えば10エポックなど）で終了させよ．"
      ]
    },
    {
      "cell_type": "markdown",
      "source": [
        "https://qiita.com/tomp/items/f220bd6ffec006dabaa5"
      ],
      "metadata": {
        "id": "K2qRuaaUB157"
      }
    },
    {
      "cell_type": "code",
      "source": [
        "from torch.utils.data import DataLoader\n",
        "import time\n",
        "from torch import optim\n",
        "\n",
        "def calculate_loss_and_accuracy(model, dataset, device=None, loss_fn=None, batch_size=1):\n",
        "    dataloader = DataLoader(dataset, batch_size=batch_size, shuffle=True)\n",
        "    loss = 0.0\n",
        "    total = 0\n",
        "    correct = 0\n",
        "    with torch.no_grad():\n",
        "        for data in dataloader:\n",
        "            inputs = data['inputs'].to(device)\n",
        "            labels = data['labels'].to(device)\n",
        "            outputs = model(inputs)\n",
        "            if loss_fn!=None:\n",
        "                loss += loss_fn(outputs, labels).item()\n",
        "            \n",
        "            pred = torch.argmax(outputs, dim=-1)\n",
        "            total += len(inputs)\n",
        "            correct += (pred==labels).sum().item()\n",
        "    return loss/len(dataset), correct/total\n",
        "\n",
        "def train_model(dataset_train, dataset_valid, batch_size, model, loss_fn, optimizer, num_epochs, collate_fn=None, device=None):\n",
        "    model.to(device)\n",
        "\n",
        "    dataloader_train = DataLoader(dataset_train, batch_size=batch_size, shuffle=True, collate_fn=collate_fn)\n",
        "    dataloader_valid = DataLoader(dataset_valid, batch_size=batch_size, shuffle=False)\n",
        "\n",
        "    scheduler = optim.lr_scheduler.CosineAnnealingLR(optimizer, num_epochs, eta_min=1e-5)\n",
        "\n",
        "    log_train = []\n",
        "    log_valid = []\n",
        "    for epoch in range(num_epochs):\n",
        "        s_time = time.time()\n",
        "\n",
        "        model.train()\n",
        "        for data in dataloader_train:\n",
        "            optimizer.zero_grad()\n",
        "            inputs = data['inputs'].to(device)\n",
        "            labels = data['labels'].to(device)\n",
        "            outputs = model(inputs)\n",
        "            loss = loss_fn(outputs, labels)\n",
        "            loss.backward()\n",
        "            optimizer.step()\n",
        "        \n",
        "        model.eval()\n",
        "\n",
        "        loss_train, acc_train = calculate_loss_and_accuracy(model, dataset_train, device, loss_fn=loss_fn)\n",
        "        loss_valid, acc_valid = calculate_loss_and_accuracy(model, dataset_valid, device, loss_fn=loss_fn)\n",
        "        log_train.append([loss_train, acc_train])\n",
        "        log_valid.append([loss_valid, acc_valid])\n",
        "\n",
        "        torch.save({'epoch': epoch, 'model_state_dict': model.state_dict(), 'optimizer_state_dict': optimizer.state_dict()}, f'checkpoint{epoch + 1}.pt')\n",
        "\n",
        "        e_time = time.time()\n",
        "\n",
        "        print(f'epoch: {epoch + 1}, loss_train: {loss_train:.4f}, accuracy_train: {acc_train:.4f}, loss_valid: {loss_valid:.4f}, accuracy_valid: {acc_valid:.4f}, {(e_time - s_time):.4f}sec') \n",
        "\n",
        "        if epoch > 2 and log_valid[epoch - 3][0] <= log_valid[epoch - 2][0] <= log_valid[epoch - 1][0] <= log_valid[epoch][0]:\n",
        "            break\n",
        "\n",
        "        scheduler.step()\n",
        "\n",
        "    return {'train': log_train, 'valid': log_valid}"
      ],
      "metadata": {
        "id": "8Kui_mMc-xx5"
      },
      "execution_count": 9,
      "outputs": []
    },
    {
      "cell_type": "code",
      "source": [
        "import numpy as np\n",
        "from matplotlib import pyplot as plt\n",
        "%matplotlib inline\n",
        "\n",
        "def visualize_logs(log):\n",
        "  fig, ax = plt.subplots(1, 2, figsize=(15, 5))\n",
        "  ax[0].plot(np.array(log['train']).T[0], label='train', color='blue')\n",
        "  ax[0].plot(np.array(log['valid']).T[0], label='valid', color='red')\n",
        "  ax[0].set_xlabel('epoch')\n",
        "  ax[0].set_ylabel('loss')\n",
        "  ax[0].legend()\n",
        "  ax[1].plot(np.array(log['train']).T[1], label='train', color='blue')\n",
        "  ax[1].plot(np.array(log['valid']).T[1], label='valid', color='red')\n",
        "  ax[1].set_xlabel('epoch')\n",
        "  ax[1].set_ylabel('accuracy')\n",
        "  ax[1].legend()\n",
        "  plt.show()"
      ],
      "metadata": {
        "id": "1ocMrQ2iDAas"
      },
      "execution_count": 10,
      "outputs": []
    },
    {
      "cell_type": "code",
      "source": [
        "# batch_size=64だと動かない\n",
        "# batch_size周りのエラーがよくわかってない.\n",
        "# paddingしてないから系列長がバラバラになってエラーが出てる感じか？\n",
        "device = 'cuda' if torch.cuda.is_available() else 'cpu'\n",
        "LEARNING_RATE = 1e-3\n",
        "num_epochs = 10\n",
        "model = RNN(vocab_size, EMB_SIZE, PADDING_IDX, OUTPUT_SIZE, HIDDEN_SIZE)\n",
        "loss_fn = nn.CrossEntropyLoss()\n",
        "optimizer = torch.optim.SGD(model.parameters(), lr=LEARNING_RATE)\n",
        "log = train_model(dataset_train, dataset_valid, 1, model, loss_fn, optimizer, num_epochs, device=device)"
      ],
      "metadata": {
        "colab": {
          "base_uri": "https://localhost:8080/"
        },
        "id": "TU9L94dYDPWH",
        "outputId": "79dad68a-6bbc-4474-b7c5-125c4a044452"
      },
      "execution_count": 11,
      "outputs": [
        {
          "output_type": "stream",
          "name": "stdout",
          "text": [
            "epoch: 1, loss_train: 1.1058, accuracy_train: 0.5243, loss_valid: 1.1294, accuracy_valid: 0.5172, 28.1266sec\n",
            "epoch: 2, loss_train: 1.0228, accuracy_train: 0.5950, loss_valid: 1.0656, accuracy_valid: 0.5637, 23.0782sec\n",
            "epoch: 3, loss_train: 0.8766, accuracy_train: 0.6774, loss_valid: 0.9432, accuracy_valid: 0.6574, 29.5195sec\n",
            "epoch: 4, loss_train: 0.7189, accuracy_train: 0.7442, loss_valid: 0.7970, accuracy_valid: 0.7196, 25.2389sec\n",
            "epoch: 5, loss_train: 0.6263, accuracy_train: 0.7794, loss_valid: 0.7363, accuracy_valid: 0.7354, 25.1724sec\n",
            "epoch: 6, loss_train: 0.5682, accuracy_train: 0.7955, loss_valid: 0.7058, accuracy_valid: 0.7429, 25.8775sec\n",
            "epoch: 7, loss_train: 0.5107, accuracy_train: 0.8132, loss_valid: 0.6659, accuracy_valid: 0.7609, 27.4634sec\n",
            "epoch: 8, loss_train: 0.4886, accuracy_train: 0.8234, loss_valid: 0.6650, accuracy_valid: 0.7661, 22.6208sec\n",
            "epoch: 9, loss_train: 0.4662, accuracy_train: 0.8283, loss_valid: 0.6484, accuracy_valid: 0.7684, 22.4595sec\n",
            "epoch: 10, loss_train: 0.4610, accuracy_train: 0.8300, loss_valid: 0.6458, accuracy_valid: 0.7676, 22.5313sec\n"
          ]
        }
      ]
    },
    {
      "cell_type": "code",
      "source": [
        "visualize_logs(log)\n",
        "\n",
        "# 正解率の算出\n",
        "_, acc_train = calculate_loss_and_accuracy(model, dataset_train, device=device)\n",
        "_, acc_test = calculate_loss_and_accuracy(model, dataset_test, device=device)\n",
        "print(f'acc_train：{acc_train:.3f}')\n",
        "print(f'acc_test：{acc_test:.3f}')"
      ],
      "metadata": {
        "colab": {
          "base_uri": "https://localhost:8080/",
          "height": 364
        },
        "id": "Vz-Vg8zxFhvD",
        "outputId": "b8b71c93-b275-418e-c21b-e9c09cada413"
      },
      "execution_count": 12,
      "outputs": [
        {
          "output_type": "display_data",
          "data": {
            "text/plain": [
              "<Figure size 1080x360 with 2 Axes>"
            ],
            "image/png": "[encoded data removed]"
          },
          "metadata": {
            "needs_background": "light"
          }
        },
        {
          "output_type": "stream",
          "name": "stdout",
          "text": [
            "acc_train：0.830\n",
            "acc_test：0.774\n"
          ]
        }
      ]
    },
    {
      "cell_type": "markdown",
      "metadata": {
        "id": "Gkh4lJs2sq6q"
      },
      "source": [
        "### 83. ミニバッチ化・GPU上での学習\n",
        "問題82のコードを改変し，B事例ごとに損失・勾配を計算して学習を行えるようにせよ（Bの値は適当に選べ）．また，GPU上で学習を実行せよ．"
      ]
    },
    {
      "cell_type": "code",
      "source": [
        "class Padsequence():\n",
        "    def __init__(self, padding_idx):\n",
        "        self.padding_idx = padding_idx\n",
        "    \n",
        "    def __call__(self, batch):\n",
        "        sorted_batch = sorted(batch, key=lambda x: x['inputs'].shape[0], reverse=True)\n",
        "        sequences = [x['inputs'] for x in sorted_batch]\n",
        "        sequences_padded = torch.nn.utils.rnn.pad_sequence(sequences, batch_first=True, \n",
        "                                                           padding_value=self.padding_idx)\n",
        "        labels = torch.LongTensor([x['labels'] for x in sorted_batch])\n",
        "\n",
        "        return {'inputs': sequences_padded, 'labels': labels}\n"
      ],
      "metadata": {
        "id": "kWHbZi5gWHsy"
      },
      "execution_count": 13,
      "outputs": []
    },
    {
      "cell_type": "code",
      "source": [
        "PADDING_IDX = len(set(word2id.values()))\n",
        "batch_size = 32\n",
        "num_epochs = 10\n",
        "lr = 5e-2\n",
        "\n",
        "model = RNN(vocab_size, EMB_SIZE, PADDING_IDX, OUTPUT_SIZE, HIDDEN_SIZE)\n",
        "loss_fn = nn.CrossEntropyLoss()\n",
        "optimizer = torch.optim.SGD(model.parameters(), lr=lr)\n",
        "device = torch.device('cuda')\n",
        "\n",
        "log = train_model(dataset_train, dataset_valid, batch_size, model, loss_fn, optimizer, num_epochs\n",
        "                  , collate_fn=Padsequence(PADDING_IDX), device=device)"
      ],
      "metadata": {
        "colab": {
          "base_uri": "https://localhost:8080/"
        },
        "id": "xIroNhVNXdWV",
        "outputId": "7139c6e7-5185-4af8-ad7a-4db1a07fa52d"
      },
      "execution_count": 14,
      "outputs": [
        {
          "output_type": "stream",
          "name": "stdout",
          "text": [
            "epoch: 1, loss_train: 1.2584, accuracy_train: 0.4083, loss_valid: 1.2586, accuracy_valid: 0.4250, 8.2297sec\n",
            "epoch: 2, loss_train: 1.2452, accuracy_train: 0.4391, loss_valid: 1.2551, accuracy_valid: 0.4475, 8.7617sec\n",
            "epoch: 3, loss_train: 1.1530, accuracy_train: 0.5152, loss_valid: 1.1634, accuracy_valid: 0.5262, 8.4522sec\n",
            "epoch: 4, loss_train: 1.0202, accuracy_train: 0.6419, loss_valid: 1.0397, accuracy_valid: 0.6297, 8.1606sec\n",
            "epoch: 5, loss_train: 0.9308, accuracy_train: 0.6964, loss_valid: 0.9565, accuracy_valid: 0.6777, 8.7476sec\n",
            "epoch: 6, loss_train: 0.8909, accuracy_train: 0.7060, loss_valid: 0.9420, accuracy_valid: 0.6732, 8.1671sec\n",
            "epoch: 7, loss_train: 0.8272, accuracy_train: 0.7300, loss_valid: 0.8727, accuracy_valid: 0.7046, 9.3685sec\n",
            "epoch: 8, loss_train: 0.7762, accuracy_train: 0.7517, loss_valid: 0.8261, accuracy_valid: 0.7316, 8.1430sec\n",
            "epoch: 9, loss_train: 0.7689, accuracy_train: 0.7462, loss_valid: 0.8399, accuracy_valid: 0.7099, 8.2498sec\n",
            "epoch: 10, loss_train: 0.7300, accuracy_train: 0.7664, loss_valid: 0.7941, accuracy_valid: 0.7384, 8.1497sec\n"
          ]
        }
      ]
    },
    {
      "cell_type": "code",
      "source": [
        "visualize_logs(log)\n",
        "\n",
        "# 正解率の算出\n",
        "_, acc_train = calculate_loss_and_accuracy(model, dataset_train, device=device)\n",
        "_, acc_test = calculate_loss_and_accuracy(model, dataset_test, device=device)\n",
        "print(f'acc_train：{acc_train:.3f}')\n",
        "print(f'acc_test：{acc_test:.3f}')"
      ],
      "metadata": {
        "colab": {
          "base_uri": "https://localhost:8080/",
          "height": 364
        },
        "id": "wnE6el_pZcL9",
        "outputId": "46ef4359-8410-4552-dbd9-a3b9bc87d23c"
      },
      "execution_count": 15,
      "outputs": [
        {
          "output_type": "display_data",
          "data": {
            "text/plain": [
              "<Figure size 1080x360 with 2 Axes>"
            ],
            "image/png": "[encoded data removed]"
          },
          "metadata": {
            "needs_background": "light"
          }
        },
        {
          "output_type": "stream",
          "name": "stdout",
          "text": [
            "acc_train：0.766\n",
            "acc_test：0.720\n"
          ]
        }
      ]
    },
    {
      "cell_type": "markdown",
      "metadata": {
        "id": "NJAxB604sq6q"
      },
      "source": [
        "### 84. 単語ベクトルの導入\n",
        "事前学習済みの単語ベクトル（例えば，Google Newsデータセット（約1,000億単語）での[学習済み単語ベクトル](https://drive.google.com/file/d/0B7XkCwpI5KDYNlNUTTlSS21pQmM/edit?usp=sharing)）で単語埋め込みemb(x)を初期化し，学習せよ．"
      ]
    },
    {
      "cell_type": "markdown",
      "source": [
        "colabのRAMがクラッシュするのでスキップ"
      ],
      "metadata": {
        "id": "ndedADRNpZZq"
      }
    },
    {
      "cell_type": "code",
      "source": [
        "'''FILE_ID = \"0B7XkCwpI5KDYNlNUTTlSS21pQmM\"\n",
        "FILE_NAME = \"GoogleNews-vectors-negative300.bin.gz\"\n",
        "!wget --load-cookies /tmp/cookies.txt \"https://docs.google.com/uc?export=download&confirm=$(wget --quiet --save-cookies /tmp/cookies.txt --keep-session-cookies --no-check-certificate 'https://docs.google.com/uc?export=download&id=$FILE_ID' -O- | sed -rn 's/.*confirm=([0-9A-Za-z_]+).*/\\1\\n/p')&id=$FILE_ID\" -O $FILE_NAME && rm -rf /tmp/cookies.txt'''"
      ],
      "metadata": {
        "colab": {
          "base_uri": "https://localhost:8080/"
        },
        "id": "vCmZA0p4ZegA",
        "outputId": "b4725ba7-990a-4ec3-c387-753bf388cb6d"
      },
      "execution_count": 47,
      "outputs": [
        {
          "output_type": "stream",
          "name": "stdout",
          "text": [
            "--2023-01-13 05:30:55--  https://docs.google.com/uc?export=download&confirm=&id=0B7XkCwpI5KDYNlNUTTlSS21pQmM\n",
            "Resolving docs.google.com (docs.google.com)... 172.217.194.138, 172.217.194.101, 172.217.194.100, ...\n",
            "Connecting to docs.google.com (docs.google.com)|172.217.194.138|:443... connected.\n",
            "HTTP request sent, awaiting response... 303 See Other\n",
            "Location: https://doc-0g-8s-docs.googleusercontent.com/docs/securesc/ha0ro937gcuc7l7deffksulhg5h7mbp1/79hc93kgo9ifi4g0nfgfvjtmkpfbc9ba/1673587800000/06848720943842814915/*/0B7XkCwpI5KDYNlNUTTlSS21pQmM?e=download&uuid=329f5a09-b1d3-4c9c-a129-f530a731716e [following]\n",
            "Warning: wildcards not supported in HTTP.\n",
            "--2023-01-13 05:30:57--  https://doc-0g-8s-docs.googleusercontent.com/docs/securesc/ha0ro937gcuc7l7deffksulhg5h7mbp1/79hc93kgo9ifi4g0nfgfvjtmkpfbc9ba/1673587800000/06848720943842814915/*/0B7XkCwpI5KDYNlNUTTlSS21pQmM?e=download&uuid=329f5a09-b1d3-4c9c-a129-f530a731716e\n",
            "Resolving doc-0g-8s-docs.googleusercontent.com (doc-0g-8s-docs.googleusercontent.com)... 142.250.4.132, 2404:6800:4003:c06::84\n",
            "Connecting to doc-0g-8s-docs.googleusercontent.com (doc-0g-8s-docs.googleusercontent.com)|142.250.4.132|:443... connected.\n",
            "HTTP request sent, awaiting response... 200 OK\n",
            "Length: 1647046227 (1.5G) [application/x-gzip]\n",
            "Saving to: ‘GoogleNews-vectors-negative300.bin.gz’\n",
            "\n",
            "GoogleNews-vectors- 100%[===================>]   1.53G  76.2MB/s    in 22s     \n",
            "\n",
            "2023-01-13 05:31:20 (71.0 MB/s) - ‘GoogleNews-vectors-negative300.bin.gz’ saved [1647046227/1647046227]\n",
            "\n"
          ]
        }
      ]
    },
    {
      "cell_type": "code",
      "source": [
        "'''from gensim.models import KeyedVectors\n",
        "model = KeyedVectors.load_word2vec_format('/content/GoogleNews-vectors-negative300.bin.gz', binary=True)\n",
        "weights = np.zeros((vocab_size, EMB_SIZE))\n",
        "words_in_pretrained = 0\n",
        "for i, word in enumerate(word2id.keys()):\n",
        "    try:\n",
        "        weights[i] = model[word]\n",
        "        words_in_pretrained += 1\n",
        "    except KeyError:\n",
        "        weights[i] = np.random.normal(scale=0.4, size=(EMB_SIZE, ))\n",
        "weights = torch.from_numpy(weights.astype((np.float32)))\n",
        "\n",
        "print(f'学習済みベクトル利用単語数: {words_in_pretrained}/{vocab_size}')\n",
        "print('weights.size()')'''"
      ],
      "metadata": {
        "colab": {
          "base_uri": "https://localhost:8080/"
        },
        "id": "FzZbirRZZ_2_",
        "outputId": "b52785d3-cecf-494a-b165-8c91bdd5e6cd"
      },
      "execution_count": 51,
      "outputs": [
        {
          "output_type": "stream",
          "name": "stdout",
          "text": [
            "学習済みベクトル利用単語数: 9196/9441\n",
            "weights.size()\n"
          ]
        }
      ]
    },
    {
      "cell_type": "code",
      "source": [
        "import numpy as np\n",
        "\n",
        "vocab_size = len(set(word2id.values())) + 1\n",
        "emb_size = 300\n",
        "weights = np.zeros((vocab_size , emb_size))\n",
        "wordataset_in_pretrained = 0\n",
        "for idx , word in enumerate(word2id.keys()):\n",
        "    if KeyError:\n",
        "        weights[idx] = np.random.normal(    loc   = 0 , scale = 1 , size=(emb_size ,))#正規化\n",
        "    else:\n",
        "        weights[idx] = model[word]\n",
        "        wordataset_in_pretrained += 1\n",
        "weights = torch.from_numpy(weights.astype((np.float32)))#torch"
      ],
      "metadata": {
        "id": "FG0Y2FDSzjsp"
      },
      "execution_count": 38,
      "outputs": []
    },
    {
      "cell_type": "code",
      "source": [
        "class RNN(nn.Module):\n",
        "    def __init__(self, vocab_size, emb_size, padding_idx, output_size, hidden_size, num_layers, \n",
        "                 emb_weights=None, bidirectional=False):\n",
        "        super().__init__()\n",
        "        self.hidden_size = hidden_size\n",
        "        self.num_layers = num_layers\n",
        "        #単方向：1, 双方向: 2\n",
        "        self.num_directions = bidirectional+1\n",
        "        if emb_weights != None:\n",
        "            self.emb = nn.Embedding.from_pretrained(emb_weights, padding_idx=padding_idx)\n",
        "        else:\n",
        "            self.emb = nn.Embedding(vocab_size, emb_size, padding_idx=padding_idx)\n",
        "        self.rnn = nn.RNN(emb_size, hidden_size, num_layers, bidirectional=bidirectional, \n",
        "                          batch_first=True)\n",
        "        self.fc = nn.Linear(hidden_size*self.num_directions, output_size)\n",
        "    \n",
        "    def forward(self, x):\n",
        "        self.batch_size = x.size()[0]\n",
        "        hidden = self.init_hidden(x.device)\n",
        "        emb = self.emb(x)\n",
        "        out, hideen = self.rnn(emb, hidden)\n",
        "        out = self.fc(out[:, -1, :])\n",
        "        return out\n",
        "\n",
        "    def init_hidden(self, device):\n",
        "        hidden = torch.zeros(self.num_layers*self.num_directions, self.batch_size, \n",
        "                             self.hidden_size, device=device)\n",
        "        return hidden\n",
        "        "
      ],
      "metadata": {
        "id": "0idC_dnljr0h"
      },
      "execution_count": 39,
      "outputs": []
    },
    {
      "cell_type": "code",
      "source": [
        "\n",
        "vocab_size = len(set(word2id.values())) + 1\n",
        "EMB_SIZE = 300\n",
        "PADDING_IDX = len(set(word2id.values()))\n",
        "OUTPUT_SIZE = 4\n",
        "HIDDEN_SIZE = 50\n",
        "NUM_LAYERS = 1\n",
        "LEARNING_RATE = 5e-2\n",
        "BATCH_SIZE = 32\n",
        "NUM_EPOCHS = 10\n",
        "\n",
        "model = RNN(vocab_size, EMB_SIZE, PADDING_IDX, OUTPUT_SIZE, HIDDEN_SIZE, NUM_LAYERS, emb_weights=weights)\n",
        "loss_fn = nn.CrossEntropyLoss()\n",
        "optimizer = torch.optim.SGD(model.parameters(), lr=LEARNING_RATE)\n",
        "device = torch.device('cuda')\n",
        "\n",
        "log = train_model(dataset_train, dataset_valid, BATCH_SIZE, model, \n",
        "                  loss_fn, optimizer, NUM_EPOCHS, collate_fn=Padsequence(PADDING_IDX), device=device)"
      ],
      "metadata": {
        "colab": {
          "base_uri": "https://localhost:8080/",
          "height": 411
        },
        "id": "wKLqh-Hr8gqE",
        "outputId": "4df24a8b-ec6c-4b1a-c562-14b52405a367"
      },
      "execution_count": 53,
      "outputs": [
        {
          "output_type": "stream",
          "name": "stdout",
          "text": [
            "epoch: 1, loss_train: 1.2500, accuracy_train: 0.4221, loss_valid: 1.2692, accuracy_valid: 0.4243, 11.7948sec\n",
            "epoch: 2, loss_train: 1.1726, accuracy_train: 0.5052, loss_valid: 1.1929, accuracy_valid: 0.4880, 10.5940sec\n"
          ]
        },
        {
          "output_type": "error",
          "ename": "KeyboardInterrupt",
          "evalue": "ignored",
          "traceback": [
            "\u001b[0;31m---------------------------------------------------------------------------\u001b[0m",
            "\u001b[0;31mKeyboardInterrupt\u001b[0m                         Traceback (most recent call last)",
            "\u001b[0;32m<ipython-input-53-ac05a6e931d2>\u001b[0m in \u001b[0;36m<module>\u001b[0;34m\u001b[0m\n\u001b[1;32m     23\u001b[0m \u001b[0;34m\u001b[0m\u001b[0m\n\u001b[1;32m     24\u001b[0m \u001b[0;31m# モデルの学習\u001b[0m\u001b[0;34m\u001b[0m\u001b[0;34m\u001b[0m\u001b[0;34m\u001b[0m\u001b[0m\n\u001b[0;32m---> 25\u001b[0;31m \u001b[0mlog\u001b[0m \u001b[0;34m=\u001b[0m \u001b[0mtrain_model\u001b[0m\u001b[0;34m(\u001b[0m\u001b[0mdataset_train\u001b[0m\u001b[0;34m,\u001b[0m \u001b[0mdataset_valid\u001b[0m\u001b[0;34m,\u001b[0m \u001b[0mBATCH_SIZE\u001b[0m\u001b[0;34m,\u001b[0m \u001b[0mmodel\u001b[0m\u001b[0;34m,\u001b[0m \u001b[0mcriterion\u001b[0m\u001b[0;34m,\u001b[0m \u001b[0moptimizer\u001b[0m\u001b[0;34m,\u001b[0m \u001b[0mNUM_EPOCHS\u001b[0m\u001b[0;34m,\u001b[0m \u001b[0mcollate_fn\u001b[0m\u001b[0;34m=\u001b[0m\u001b[0mPadsequence\u001b[0m\u001b[0;34m(\u001b[0m\u001b[0mPADDING_IDX\u001b[0m\u001b[0;34m)\u001b[0m\u001b[0;34m,\u001b[0m \u001b[0mdevice\u001b[0m\u001b[0;34m=\u001b[0m\u001b[0mdevice\u001b[0m\u001b[0;34m)\u001b[0m\u001b[0;34m\u001b[0m\u001b[0;34m\u001b[0m\u001b[0m\n\u001b[0m",
            "\u001b[0;32m<ipython-input-9-455194217bee>\u001b[0m in \u001b[0;36mtrain_model\u001b[0;34m(dataset_train, dataset_valid, batch_size, model, loss_fn, optimizer, num_epochs, collate_fn, device)\u001b[0m\n\u001b[1;32m     46\u001b[0m         \u001b[0mmodel\u001b[0m\u001b[0;34m.\u001b[0m\u001b[0meval\u001b[0m\u001b[0;34m(\u001b[0m\u001b[0;34m)\u001b[0m\u001b[0;34m\u001b[0m\u001b[0;34m\u001b[0m\u001b[0m\n\u001b[1;32m     47\u001b[0m \u001b[0;34m\u001b[0m\u001b[0m\n\u001b[0;32m---> 48\u001b[0;31m         \u001b[0mloss_train\u001b[0m\u001b[0;34m,\u001b[0m \u001b[0macc_train\u001b[0m \u001b[0;34m=\u001b[0m \u001b[0mcalculate_loss_and_accuracy\u001b[0m\u001b[0;34m(\u001b[0m\u001b[0mmodel\u001b[0m\u001b[0;34m,\u001b[0m \u001b[0mdataset_train\u001b[0m\u001b[0;34m,\u001b[0m \u001b[0mdevice\u001b[0m\u001b[0;34m,\u001b[0m \u001b[0mloss_fn\u001b[0m\u001b[0;34m=\u001b[0m\u001b[0mloss_fn\u001b[0m\u001b[0;34m)\u001b[0m\u001b[0;34m\u001b[0m\u001b[0;34m\u001b[0m\u001b[0m\n\u001b[0m\u001b[1;32m     49\u001b[0m         \u001b[0mloss_valid\u001b[0m\u001b[0;34m,\u001b[0m \u001b[0macc_valid\u001b[0m \u001b[0;34m=\u001b[0m \u001b[0mcalculate_loss_and_accuracy\u001b[0m\u001b[0;34m(\u001b[0m\u001b[0mmodel\u001b[0m\u001b[0;34m,\u001b[0m \u001b[0mdataset_valid\u001b[0m\u001b[0;34m,\u001b[0m \u001b[0mdevice\u001b[0m\u001b[0;34m,\u001b[0m \u001b[0mloss_fn\u001b[0m\u001b[0;34m=\u001b[0m\u001b[0mloss_fn\u001b[0m\u001b[0;34m)\u001b[0m\u001b[0;34m\u001b[0m\u001b[0;34m\u001b[0m\u001b[0m\n\u001b[1;32m     50\u001b[0m         \u001b[0mlog_train\u001b[0m\u001b[0;34m.\u001b[0m\u001b[0mappend\u001b[0m\u001b[0;34m(\u001b[0m\u001b[0;34m[\u001b[0m\u001b[0mloss_train\u001b[0m\u001b[0;34m,\u001b[0m \u001b[0macc_train\u001b[0m\u001b[0;34m]\u001b[0m\u001b[0;34m)\u001b[0m\u001b[0;34m\u001b[0m\u001b[0;34m\u001b[0m\u001b[0m\n",
            "\u001b[0;32m<ipython-input-9-455194217bee>\u001b[0m in \u001b[0;36mcalculate_loss_and_accuracy\u001b[0;34m(model, dataset, device, loss_fn, batch_size)\u001b[0m\n\u001b[1;32m     14\u001b[0m             \u001b[0moutputs\u001b[0m \u001b[0;34m=\u001b[0m \u001b[0mmodel\u001b[0m\u001b[0;34m(\u001b[0m\u001b[0minputs\u001b[0m\u001b[0;34m)\u001b[0m\u001b[0;34m\u001b[0m\u001b[0;34m\u001b[0m\u001b[0m\n\u001b[1;32m     15\u001b[0m             \u001b[0;32mif\u001b[0m \u001b[0mloss_fn\u001b[0m\u001b[0;34m!=\u001b[0m\u001b[0;32mNone\u001b[0m\u001b[0;34m:\u001b[0m\u001b[0;34m\u001b[0m\u001b[0;34m\u001b[0m\u001b[0m\n\u001b[0;32m---> 16\u001b[0;31m                 \u001b[0mloss\u001b[0m \u001b[0;34m+=\u001b[0m \u001b[0mloss_fn\u001b[0m\u001b[0;34m(\u001b[0m\u001b[0moutputs\u001b[0m\u001b[0;34m,\u001b[0m \u001b[0mlabels\u001b[0m\u001b[0;34m)\u001b[0m\u001b[0;34m.\u001b[0m\u001b[0mitem\u001b[0m\u001b[0;34m(\u001b[0m\u001b[0;34m)\u001b[0m\u001b[0;34m\u001b[0m\u001b[0;34m\u001b[0m\u001b[0m\n\u001b[0m\u001b[1;32m     17\u001b[0m \u001b[0;34m\u001b[0m\u001b[0m\n\u001b[1;32m     18\u001b[0m             \u001b[0mpred\u001b[0m \u001b[0;34m=\u001b[0m \u001b[0mtorch\u001b[0m\u001b[0;34m.\u001b[0m\u001b[0margmax\u001b[0m\u001b[0;34m(\u001b[0m\u001b[0moutputs\u001b[0m\u001b[0;34m,\u001b[0m \u001b[0mdim\u001b[0m\u001b[0;34m=\u001b[0m\u001b[0;34m-\u001b[0m\u001b[0;36m1\u001b[0m\u001b[0;34m)\u001b[0m\u001b[0;34m\u001b[0m\u001b[0;34m\u001b[0m\u001b[0m\n",
            "\u001b[0;32m/usr/local/lib/python3.8/dist-packages/torch/nn/modules/module.py\u001b[0m in \u001b[0;36m_call_impl\u001b[0;34m(self, *input, **kwargs)\u001b[0m\n\u001b[1;32m   1192\u001b[0m         if not (self._backward_hooks or self._forward_hooks or self._forward_pre_hooks or _global_backward_hooks\n\u001b[1;32m   1193\u001b[0m                 or _global_forward_hooks or _global_forward_pre_hooks):\n\u001b[0;32m-> 1194\u001b[0;31m             \u001b[0;32mreturn\u001b[0m \u001b[0mforward_call\u001b[0m\u001b[0;34m(\u001b[0m\u001b[0;34m*\u001b[0m\u001b[0minput\u001b[0m\u001b[0;34m,\u001b[0m \u001b[0;34m**\u001b[0m\u001b[0mkwargs\u001b[0m\u001b[0;34m)\u001b[0m\u001b[0;34m\u001b[0m\u001b[0;34m\u001b[0m\u001b[0m\n\u001b[0m\u001b[1;32m   1195\u001b[0m         \u001b[0;31m# Do not call functions when jit is used\u001b[0m\u001b[0;34m\u001b[0m\u001b[0;34m\u001b[0m\u001b[0;34m\u001b[0m\u001b[0m\n\u001b[1;32m   1196\u001b[0m         \u001b[0mfull_backward_hooks\u001b[0m\u001b[0;34m,\u001b[0m \u001b[0mnon_full_backward_hooks\u001b[0m \u001b[0;34m=\u001b[0m \u001b[0;34m[\u001b[0m\u001b[0;34m]\u001b[0m\u001b[0;34m,\u001b[0m \u001b[0;34m[\u001b[0m\u001b[0;34m]\u001b[0m\u001b[0;34m\u001b[0m\u001b[0;34m\u001b[0m\u001b[0m\n",
            "\u001b[0;32m/usr/local/lib/python3.8/dist-packages/torch/nn/modules/loss.py\u001b[0m in \u001b[0;36mforward\u001b[0;34m(self, input, target)\u001b[0m\n\u001b[1;32m   1172\u001b[0m \u001b[0;34m\u001b[0m\u001b[0m\n\u001b[1;32m   1173\u001b[0m     \u001b[0;32mdef\u001b[0m \u001b[0mforward\u001b[0m\u001b[0;34m(\u001b[0m\u001b[0mself\u001b[0m\u001b[0;34m,\u001b[0m \u001b[0minput\u001b[0m\u001b[0;34m:\u001b[0m \u001b[0mTensor\u001b[0m\u001b[0;34m,\u001b[0m \u001b[0mtarget\u001b[0m\u001b[0;34m:\u001b[0m \u001b[0mTensor\u001b[0m\u001b[0;34m)\u001b[0m \u001b[0;34m->\u001b[0m \u001b[0mTensor\u001b[0m\u001b[0;34m:\u001b[0m\u001b[0;34m\u001b[0m\u001b[0;34m\u001b[0m\u001b[0m\n\u001b[0;32m-> 1174\u001b[0;31m         return F.cross_entropy(input, target, weight=self.weight,\n\u001b[0m\u001b[1;32m   1175\u001b[0m                                \u001b[0mignore_index\u001b[0m\u001b[0;34m=\u001b[0m\u001b[0mself\u001b[0m\u001b[0;34m.\u001b[0m\u001b[0mignore_index\u001b[0m\u001b[0;34m,\u001b[0m \u001b[0mreduction\u001b[0m\u001b[0;34m=\u001b[0m\u001b[0mself\u001b[0m\u001b[0;34m.\u001b[0m\u001b[0mreduction\u001b[0m\u001b[0;34m,\u001b[0m\u001b[0;34m\u001b[0m\u001b[0;34m\u001b[0m\u001b[0m\n\u001b[1;32m   1176\u001b[0m                                label_smoothing=self.label_smoothing)\n",
            "\u001b[0;32m/usr/local/lib/python3.8/dist-packages/torch/nn/modules/module.py\u001b[0m in \u001b[0;36m__getattr__\u001b[0;34m(self, name)\u001b[0m\n\u001b[1;32m   1257\u001b[0m         \u001b[0;32mif\u001b[0m \u001b[0;34m'_parameters'\u001b[0m \u001b[0;32min\u001b[0m \u001b[0mself\u001b[0m\u001b[0;34m.\u001b[0m\u001b[0m__dict__\u001b[0m\u001b[0;34m:\u001b[0m\u001b[0;34m\u001b[0m\u001b[0;34m\u001b[0m\u001b[0m\n\u001b[1;32m   1258\u001b[0m             \u001b[0m_parameters\u001b[0m \u001b[0;34m=\u001b[0m \u001b[0mself\u001b[0m\u001b[0;34m.\u001b[0m\u001b[0m__dict__\u001b[0m\u001b[0;34m[\u001b[0m\u001b[0;34m'_parameters'\u001b[0m\u001b[0;34m]\u001b[0m\u001b[0;34m\u001b[0m\u001b[0;34m\u001b[0m\u001b[0m\n\u001b[0;32m-> 1259\u001b[0;31m             \u001b[0;32mif\u001b[0m \u001b[0mname\u001b[0m \u001b[0;32min\u001b[0m \u001b[0m_parameters\u001b[0m\u001b[0;34m:\u001b[0m\u001b[0;34m\u001b[0m\u001b[0;34m\u001b[0m\u001b[0m\n\u001b[0m\u001b[1;32m   1260\u001b[0m                 \u001b[0;32mreturn\u001b[0m \u001b[0m_parameters\u001b[0m\u001b[0;34m[\u001b[0m\u001b[0mname\u001b[0m\u001b[0;34m]\u001b[0m\u001b[0;34m\u001b[0m\u001b[0;34m\u001b[0m\u001b[0m\n\u001b[1;32m   1261\u001b[0m         \u001b[0;32mif\u001b[0m \u001b[0;34m'_buffers'\u001b[0m \u001b[0;32min\u001b[0m \u001b[0mself\u001b[0m\u001b[0;34m.\u001b[0m\u001b[0m__dict__\u001b[0m\u001b[0;34m:\u001b[0m\u001b[0;34m\u001b[0m\u001b[0;34m\u001b[0m\u001b[0m\n",
            "\u001b[0;31mKeyboardInterrupt\u001b[0m: "
          ]
        }
      ]
    },
    {
      "cell_type": "code",
      "source": [
        "visualize_logs(log)\n",
        "\n",
        "# 正解率の算出\n",
        "_, acc_train = calculate_loss_and_accuracy(model, dataset_train, device=device)\n",
        "_, acc_test = calculate_loss_and_accuracy(model, dataset_test, device=device)\n",
        "print(f'acc_train：{acc_train:.3f}')\n",
        "print(f'acc_test：{acc_test:.3f}')"
      ],
      "metadata": {
        "colab": {
          "base_uri": "https://localhost:8080/",
          "height": 362
        },
        "id": "0rdh_bnNmZtL",
        "outputId": "f7808d49-546c-41a5-91ea-84ae82880c8d"
      },
      "execution_count": 41,
      "outputs": [
        {
          "output_type": "display_data",
          "data": {
            "text/plain": [
              "<Figure size 1080x360 with 2 Axes>"
            ],
            "image/png": "[encoded data removed]"
          },
          "metadata": {
            "needs_background": "light"
          }
        },
        {
          "output_type": "stream",
          "name": "stdout",
          "text": [
            "acc_train：0.303\n",
            "acc_test：0.289\n"
          ]
        }
      ]
    },
    {
      "cell_type": "markdown",
      "metadata": {
        "id": "swdfMcSXsq6r"
      },
      "source": [
        "### 85. 双方向RNN・多層化\n",
        "※問題文に数式が多く含まれているため、記述しない。<br>\n",
        "[問題文](https://nlp100.github.io/ja/ch09.html)"
      ]
    },
    {
      "cell_type": "code",
      "source": [
        "vocab_size = len(set(word2id.values())) + 1\n",
        "emb_size = 300\n",
        "padding_idx = len(set(word2id.values()))\n",
        "OUTPUT_SIZE = 4\n",
        "HIDDEN_SIZE = 50\n",
        "num_layers = 2\n",
        "lr = 5e-2\n",
        "batch_size = 32\n",
        "num_epochs = 10\n",
        "\n",
        "\n",
        "model = RNN(vocab_size, emb_size, padding_idx, OUTPUT_SIZE, HIDDEN_SIZE, num_layers, \n",
        "            emb_weights=weights, bidirectional=True)\n",
        "\n",
        "loss_fn = nn.CrossEntropyLoss()\n",
        "optimizer = torch.optim.SGD(model.parameters(), lr=lr)\n",
        "device = torch.device('cuda')\n",
        "\n",
        "log = train_model(dataset_train, dataset_valid, batch_size, \n",
        "                  model, loss_fn, optimizer, num_epochs, collate_fn=Padsequence(padding_idx), device=device)"
      ],
      "metadata": {
        "colab": {
          "base_uri": "https://localhost:8080/"
        },
        "id": "Sumcs_kqmdS7",
        "outputId": "63a80438-7b39-4932-9128-558fece73a2a"
      },
      "execution_count": 60,
      "outputs": [
        {
          "output_type": "stream",
          "name": "stdout",
          "text": [
            "epoch: 1, loss_train: 1.2242, accuracy_train: 0.4544, loss_valid: 1.2494, accuracy_valid: 0.4430, 8.5687sec\n",
            "epoch: 2, loss_train: 1.0668, accuracy_train: 0.6176, loss_valid: 1.1016, accuracy_valid: 0.5975, 8.4774sec\n",
            "epoch: 3, loss_train: 0.9827, accuracy_train: 0.6665, loss_valid: 1.0236, accuracy_valid: 0.6529, 8.4763sec\n",
            "epoch: 4, loss_train: 1.0243, accuracy_train: 0.6531, loss_valid: 1.0893, accuracy_valid: 0.6087, 8.5188sec\n",
            "epoch: 5, loss_train: 0.9390, accuracy_train: 0.6909, loss_valid: 0.9771, accuracy_valid: 0.6799, 8.5847sec\n",
            "epoch: 6, loss_train: 0.9047, accuracy_train: 0.7016, loss_valid: 0.9519, accuracy_valid: 0.6874, 8.4938sec\n",
            "epoch: 7, loss_train: 0.8443, accuracy_train: 0.7269, loss_valid: 0.8950, accuracy_valid: 0.7091, 9.2191sec\n",
            "epoch: 8, loss_train: 0.8224, accuracy_train: 0.7336, loss_valid: 0.8897, accuracy_valid: 0.7076, 8.6162sec\n",
            "epoch: 9, loss_train: 0.8228, accuracy_train: 0.7331, loss_valid: 0.8958, accuracy_valid: 0.7061, 8.5906sec\n",
            "epoch: 10, loss_train: 0.8066, accuracy_train: 0.7378, loss_valid: 0.8767, accuracy_valid: 0.7114, 8.5359sec\n"
          ]
        }
      ]
    },
    {
      "cell_type": "code",
      "source": [
        "visualize_logs(log)\n",
        "\n",
        "# 正解率の算出\n",
        "_, acc_train = calculate_loss_and_accuracy(model, dataset_train, device=device)\n",
        "_, acc_test = calculate_loss_and_accuracy(model, dataset_test, device=device)\n",
        "print(f'acc_train：{acc_train:.3f}')\n",
        "print(f'acc_test：{acc_test:.3f}')"
      ],
      "metadata": {
        "colab": {
          "base_uri": "https://localhost:8080/",
          "height": 366
        },
        "id": "B1u9ALlimpj6",
        "outputId": "342b2fe3-030e-47ab-db32-846c9ef19a71"
      },
      "execution_count": 61,
      "outputs": [
        {
          "output_type": "display_data",
          "data": {
            "text/plain": [
              "<Figure size 1080x360 with 2 Axes>"
            ],
            "image/png": "[encoded data removed]"
          },
          "metadata": {
            "needs_background": "light"
          }
        },
        {
          "output_type": "stream",
          "name": "stdout",
          "text": [
            "acc_train：0.738\n",
            "acc_test：0.722\n"
          ]
        }
      ]
    },
    {
      "cell_type": "markdown",
      "metadata": {
        "id": "xItJmheBsq6r"
      },
      "source": [
        "### 86. 畳み込みニューラルネットワーク (CNN)\n",
        "※問題文に数式が多く含まれているため、記述しない。<br>\n",
        "[問題文](https://nlp100.github.io/ja/ch09.html)"
      ]
    },
    {
      "cell_type": "code",
      "source": [
        "from torch.nn import functional as F\n",
        "\n",
        "class CNN(nn.Module):\n",
        "    def __init__(self, vocab_size, emb_size, padding_idx, output_size, \n",
        "                 out_channels, kernel_heights, stride, padding, emb_weights=None):\n",
        "        super().__init__()\n",
        "        if emb_weights != None:\n",
        "            self.emb = nn.Embedding.from_pretrained(emb_weights, padding_idx=padding_idx)\n",
        "        else:\n",
        "            self.emb = nn.Embedding(vocab_size, emb_size, padding_idx=padding_idx)\n",
        "        self.conv = nn.Conv2d(1, out_channels, (kernel_heights, emb_size), stride, \n",
        "                              (padding, 0))\n",
        "        self.drop = nn.Dropout(0.3)\n",
        "        self.fc = nn.Linear(out_channels, output_size)\n",
        "    \n",
        "    def forward(self, x):\n",
        "        emb = self.emb(x).unsqueeze(1)\n",
        "        conv = self.conv(emb)\n",
        "        act = F.relu(conv.squeeze(3))\n",
        "        max_pool = F.max_pool1d(act, act.size()[2])\n",
        "        out = self.fc(self.drop(max_pool.squeeze(2)))\n",
        "        return out"
      ],
      "metadata": {
        "id": "mthOXbOZnkPx"
      },
      "execution_count": 45,
      "outputs": []
    },
    {
      "cell_type": "code",
      "source": [
        "out_channels = 100\n",
        "kernel_heights = 3\n",
        "stride = 1\n",
        "padding = 1\n",
        "\n",
        "model = CNN(vocab_size, emb_size, padding_idx, OUTPUT_SIZE, \n",
        "            out_channels, kernel_heights, stride, padding, emb_weights=weights)\n",
        "\n",
        "# 先頭10件の予測値取得\n",
        "for i in range(10):\n",
        "  X = dataset_train[i]['inputs']\n",
        "  print(torch.softmax(model(X.unsqueeze(0)), dim=-1))"
      ],
      "metadata": {
        "colab": {
          "base_uri": "https://localhost:8080/"
        },
        "id": "RkwnFChHpj4j",
        "outputId": "db042d93-5548-43aa-bbf9-18a28b90ba52"
      },
      "execution_count": 57,
      "outputs": [
        {
          "output_type": "stream",
          "name": "stdout",
          "text": [
            "tensor([[0.3329, 0.2040, 0.1522, 0.3109]], grad_fn=<SoftmaxBackward0>)\n",
            "tensor([[0.1358, 0.3663, 0.2267, 0.2713]], grad_fn=<SoftmaxBackward0>)\n",
            "tensor([[0.2441, 0.4609, 0.1501, 0.1449]], grad_fn=<SoftmaxBackward0>)\n",
            "tensor([[0.1099, 0.2469, 0.1631, 0.4801]], grad_fn=<SoftmaxBackward0>)\n",
            "tensor([[0.1135, 0.2981, 0.2419, 0.3465]], grad_fn=<SoftmaxBackward0>)\n",
            "tensor([[0.1231, 0.2753, 0.3294, 0.2723]], grad_fn=<SoftmaxBackward0>)\n",
            "tensor([[0.2506, 0.1328, 0.2061, 0.4106]], grad_fn=<SoftmaxBackward0>)\n",
            "tensor([[0.2229, 0.3555, 0.1521, 0.2695]], grad_fn=<SoftmaxBackward0>)\n",
            "tensor([[0.0847, 0.2846, 0.2833, 0.3474]], grad_fn=<SoftmaxBackward0>)\n",
            "tensor([[0.1212, 0.3271, 0.1305, 0.4211]], grad_fn=<SoftmaxBackward0>)\n"
          ]
        }
      ]
    },
    {
      "cell_type": "markdown",
      "metadata": {
        "id": "NQbnnZFgsq6r"
      },
      "source": [
        "### 87. 確率的勾配降下法によるCNNの学習\n",
        "確率的勾配降下法（SGD: Stochastic Gradient Descent）を用いて，問題86で構築したモデルを学習せよ．訓練データ上の損失と正解率，評価データ上の損失と正解率を表示しながらモデルを学習し，適当な基準（例えば10エポックなど）で終了させよ．\n",
        "\n"
      ]
    },
    {
      "cell_type": "code",
      "source": [
        "vocab_size = len(set(word2id.values())) + 1\n",
        "emb_size = 300\n",
        "padding_idx = len(set(word2id.values()))\n",
        "OUTPUT_SIZE = 4\n",
        "out_channels = 100\n",
        "kernel_heights = 3\n",
        "stride = 1\n",
        "padding = 1\n",
        "lr = 5e-2\n",
        "batch_size = 64\n",
        "num_epochs = 10\n",
        "\n",
        "model = CNN(vocab_size, emb_size, PADDING_IDX, OUTPUT_SIZE, out_channels, \n",
        "            kernel_heights, stride, padding, emb_weights=weights)\n",
        "\n",
        "# 損失関数の定義\n",
        "criterion = nn.CrossEntropyLoss()\n",
        "\n",
        "# オプティマイザの定義\n",
        "optimizer = torch.optim.SGD(model.parameters(), lr=lr)\n",
        "\n",
        "# デバイスの指定\n",
        "device = torch.device('cuda')\n",
        "\n",
        "# モデルの学習\n",
        "log = train_model(dataset_train, dataset_valid, batch_size, \n",
        "                  model, criterion, optimizer, num_epochs, collate_fn=Padsequence(PADDING_IDX), device=device)"
      ],
      "metadata": {
        "colab": {
          "base_uri": "https://localhost:8080/"
        },
        "id": "sYnHvDDDpzVT",
        "outputId": "b843d25e-d7bc-4a62-9a61-50373eb184fe"
      },
      "execution_count": 58,
      "outputs": [
        {
          "output_type": "stream",
          "name": "stdout",
          "text": [
            "epoch: 1, loss_train: 0.6991, accuracy_train: 0.7699, loss_valid: 0.7811, accuracy_valid: 0.7301, 7.6650sec\n",
            "epoch: 2, loss_train: 0.4597, accuracy_train: 0.8486, loss_valid: 0.6303, accuracy_valid: 0.7699, 7.6136sec\n",
            "epoch: 3, loss_train: 0.3162, accuracy_train: 0.8912, loss_valid: 0.5436, accuracy_valid: 0.7909, 8.1508sec\n",
            "epoch: 4, loss_train: 0.2222, accuracy_train: 0.9418, loss_valid: 0.4994, accuracy_valid: 0.8171, 9.1750sec\n",
            "epoch: 5, loss_train: 0.1704, accuracy_train: 0.9635, loss_valid: 0.4909, accuracy_valid: 0.8238, 7.9408sec\n",
            "epoch: 6, loss_train: 0.1362, accuracy_train: 0.9746, loss_valid: 0.4702, accuracy_valid: 0.8298, 8.8787sec\n",
            "epoch: 7, loss_train: 0.1176, accuracy_train: 0.9773, loss_valid: 0.4598, accuracy_valid: 0.8336, 8.5543sec\n",
            "epoch: 8, loss_train: 0.1043, accuracy_train: 0.9852, loss_valid: 0.4586, accuracy_valid: 0.8351, 7.6342sec\n",
            "epoch: 9, loss_train: 0.0991, accuracy_train: 0.9871, loss_valid: 0.4576, accuracy_valid: 0.8388, 7.6012sec\n",
            "epoch: 10, loss_train: 0.0982, accuracy_train: 0.9867, loss_valid: 0.4570, accuracy_valid: 0.8373, 7.6178sec\n"
          ]
        }
      ]
    },
    {
      "cell_type": "code",
      "source": [
        "visualize_logs(log)\n",
        "\n",
        "# 正解率の算出\n",
        "_, acc_train = calculate_loss_and_accuracy(model, dataset_train, device=device)\n",
        "_, acc_test = calculate_loss_and_accuracy(model, dataset_test, device=device)\n",
        "print(f'acc_train：{acc_train:.3f}')\n",
        "print(f'acc_test：{acc_test:.3f}')"
      ],
      "metadata": {
        "colab": {
          "base_uri": "https://localhost:8080/",
          "height": 364
        },
        "id": "U1T4I5G8-X36",
        "outputId": "d7799d81-d871-43f7-cbe0-cb0f227ceca4"
      },
      "execution_count": 59,
      "outputs": [
        {
          "output_type": "display_data",
          "data": {
            "text/plain": [
              "<Figure size 1080x360 with 2 Axes>"
            ],
            "image/png": "[encoded data removed]"
          },
          "metadata": {
            "needs_background": "light"
          }
        },
        {
          "output_type": "stream",
          "name": "stdout",
          "text": [
            "acc_train：0.987\n",
            "acc_test：0.857\n"
          ]
        }
      ]
    },
    {
      "cell_type": "markdown",
      "metadata": {
        "id": "dy1jd_Masq6r"
      },
      "source": [
        "### 88. パラメータチューニング\n",
        "問題85や問題87のコードを改変し，ニューラルネットワークの形状やハイパーパラメータを調整しながら，高性能なカテゴリ分類器を構築せよ．\n",
        "\n"
      ]
    },
    {
      "cell_type": "code",
      "source": [
        "class textCNN(nn.Module):\n",
        "  def __init__(self, vocab_size, emb_size, padding_idx, output_size, out_channels, conv_params, drop_rate, emb_weights=None):\n",
        "    super().__init__()\n",
        "    if emb_weights != None:  \n",
        "      self.emb = nn.Embedding.from_pretrained(emb_weights, padding_idx=padding_idx)\n",
        "    else:\n",
        "      self.emb = nn.Embedding(vocab_size, emb_size, padding_idx=padding_idx)\n",
        "    self.convs = nn.ModuleList([nn.Conv2d(1, out_channels, \n",
        "                                          (kernel_height, emb_size), padding=(padding, 0)) for kernel_height, padding in conv_params])\n",
        "    self.drop = nn.Dropout(drop_rate)\n",
        "    self.fc = nn.Linear(len(conv_params) * out_channels, output_size)\n",
        "    \n",
        "  def forward(self, x):\n",
        "    # x.size() = (batch_size, seq_len)\n",
        "    emb = self.emb(x).unsqueeze(1)\n",
        "    # emb.size() = (batch_size, 1, seq_len, emb_size)\n",
        "    conv = [F.relu(conv(emb)).squeeze(3) for i, conv in enumerate(self.convs)]\n",
        "    # conv[i].size() = (batch_size, out_channels, seq_len + padding * 2 - kernel_height + 1)\n",
        "    max_pool = [F.max_pool1d(i, i.size(2)) for i in conv]\n",
        "    # max_pool[i].size() = (batch_size, out_channels, 1) -> seq_len方向に最大値を取得\n",
        "    max_pool_cat = torch.cat(max_pool, 1)\n",
        "    # max_pool_cat.size() = (batch_size, len(conv_params) * out_channels, 1)  -> フィルター別の結果を結合\n",
        "    out = self.fc(self.drop(max_pool_cat.squeeze(2)))\n",
        "    # out.size() = (batch_size, output_size)\n",
        "    return out"
      ],
      "metadata": {
        "id": "yffJ-sLVqFYW"
      },
      "execution_count": 48,
      "outputs": []
    },
    {
      "cell_type": "code",
      "source": [
        "!pip install optuna"
      ],
      "metadata": {
        "colab": {
          "base_uri": "https://localhost:8080/"
        },
        "id": "Trm8oeNruFgz",
        "outputId": "8fec891b-8172-4d35-fa64-7a621cd10c01"
      },
      "execution_count": 49,
      "outputs": [
        {
          "output_type": "stream",
          "name": "stdout",
          "text": [
            "Looking in indexes: https://pypi.org/simple, https://us-python.pkg.dev/colab-wheels/public/simple/\n",
            "Requirement already satisfied: optuna in /usr/local/lib/python3.8/dist-packages (3.0.5)\n",
            "Requirement already satisfied: importlib-metadata<5.0.0 in /usr/local/lib/python3.8/dist-packages (from optuna) (4.13.0)\n",
            "Requirement already satisfied: numpy in /usr/local/lib/python3.8/dist-packages (from optuna) (1.21.6)\n",
            "Requirement already satisfied: cliff in /usr/local/lib/python3.8/dist-packages (from optuna) (4.1.0)\n",
            "Requirement already satisfied: cmaes>=0.8.2 in /usr/local/lib/python3.8/dist-packages (from optuna) (0.9.1)\n",
            "Requirement already satisfied: tqdm in /usr/local/lib/python3.8/dist-packages (from optuna) (4.64.1)\n",
            "Requirement already satisfied: colorlog in /usr/local/lib/python3.8/dist-packages (from optuna) (6.7.0)\n",
            "Requirement already satisfied: packaging>=20.0 in /usr/local/lib/python3.8/dist-packages (from optuna) (21.3)\n",
            "Requirement already satisfied: scipy<1.9.0,>=1.7.0 in /usr/local/lib/python3.8/dist-packages (from optuna) (1.7.3)\n",
            "Requirement already satisfied: alembic>=1.5.0 in /usr/local/lib/python3.8/dist-packages (from optuna) (1.9.1)\n",
            "Requirement already satisfied: PyYAML in /usr/local/lib/python3.8/dist-packages (from optuna) (6.0)\n",
            "Requirement already satisfied: sqlalchemy>=1.3.0 in /usr/local/lib/python3.8/dist-packages (from optuna) (1.4.46)\n",
            "Requirement already satisfied: Mako in /usr/local/lib/python3.8/dist-packages (from alembic>=1.5.0->optuna) (1.2.4)\n",
            "Requirement already satisfied: importlib-resources in /usr/local/lib/python3.8/dist-packages (from alembic>=1.5.0->optuna) (5.10.2)\n",
            "Requirement already satisfied: zipp>=0.5 in /usr/local/lib/python3.8/dist-packages (from importlib-metadata<5.0.0->optuna) (3.11.0)\n",
            "Requirement already satisfied: pyparsing!=3.0.5,>=2.0.2 in /usr/local/lib/python3.8/dist-packages (from packaging>=20.0->optuna) (3.0.9)\n",
            "Requirement already satisfied: greenlet!=0.4.17 in /usr/local/lib/python3.8/dist-packages (from sqlalchemy>=1.3.0->optuna) (2.0.1)\n",
            "Requirement already satisfied: autopage>=0.4.0 in /usr/local/lib/python3.8/dist-packages (from cliff->optuna) (0.5.1)\n",
            "Requirement already satisfied: stevedore>=2.0.1 in /usr/local/lib/python3.8/dist-packages (from cliff->optuna) (4.1.1)\n",
            "Requirement already satisfied: PrettyTable>=0.7.2 in /usr/local/lib/python3.8/dist-packages (from cliff->optuna) (3.6.0)\n",
            "Requirement already satisfied: cmd2>=1.0.0 in /usr/local/lib/python3.8/dist-packages (from cliff->optuna) (2.4.2)\n",
            "Requirement already satisfied: pyperclip>=1.6 in /usr/local/lib/python3.8/dist-packages (from cmd2>=1.0.0->cliff->optuna) (1.8.2)\n",
            "Requirement already satisfied: wcwidth>=0.1.7 in /usr/local/lib/python3.8/dist-packages (from cmd2>=1.0.0->cliff->optuna) (0.2.5)\n",
            "Requirement already satisfied: attrs>=16.3.0 in /usr/local/lib/python3.8/dist-packages (from cmd2>=1.0.0->cliff->optuna) (22.2.0)\n",
            "Requirement already satisfied: pbr!=2.1.0,>=2.0.0 in /usr/local/lib/python3.8/dist-packages (from stevedore>=2.0.1->cliff->optuna) (5.11.1)\n",
            "Requirement already satisfied: MarkupSafe>=0.9.2 in /usr/local/lib/python3.8/dist-packages (from Mako->alembic>=1.5.0->optuna) (2.0.1)\n"
          ]
        }
      ]
    },
    {
      "cell_type": "code",
      "source": [
        "import optuna\n",
        "\n",
        "def objective(trial):\n",
        "    emb_size = int(trial.suggest_discrete_uniform('emb_size', 100, 400, 100))\n",
        "    out_channels = int(trial.suggest_discrete_uniform('out_channels', 50, 200, 50))\n",
        "    drop_rate = trial.suggest_discrete_uniform('drop_rate', 0.0, 0.5, 0.1)\n",
        "    learning_rate = trial.suggest_loguniform('learning_rate', 5e-4, 5e-2)\n",
        "    momentum = trial.suggest_discrete_uniform('momentum', 0.5, 0.9, 0.1)\n",
        "    batch_size = int(trial.suggest_discrete_uniform('batch_size', 16, 128, 16))\n",
        "\n",
        "    vocab_size = len(set(word2id.values())) + 1\n",
        "    PADDING_IDX = len(set(word2id.values()))\n",
        "    OUTPUT_SIZE = 4\n",
        "    CONV_PARAMS = [[2, 0], [3, 1], [4, 2]]\n",
        "    NUM_EPOCHS = 30\n",
        "\n",
        "    model = textCNN(vocab_size, emb_size, PADDING_IDX, OUTPUT_SIZE, out_channels, CONV_PARAMS, drop_rate, )#emb_weights=weights)\n",
        "    loss_fn = nn.CrossEntropyLoss()\n",
        "    optimizer = torch.optim.SGD(model.parameters(), lr=learning_rate, momentum=momentum)\n",
        "    device = torch.cuda.set_device(0)\n",
        "    log = train_model(dataset_train, dataset_valid, batch_size, model, loss_fn, optimizer, NUM_EPOCHS, collate_fn=Padsequence(PADDING_IDX), device=device)\n",
        "    loss_valid, _ = calculate_loss_and_accuracy(model, dataset_valid, device, loss_fn=loss_fn) \n",
        "\n",
        "    return loss_valid "
      ],
      "metadata": {
        "id": "z7YKgE2QuJyr"
      },
      "execution_count": 50,
      "outputs": []
    },
    {
      "cell_type": "code",
      "source": [
        "study = optuna.create_study()\n",
        "study.optimize(objective, timeout=7200)\n",
        "\n",
        "print('Best trial:')\n",
        "trial = study.best_trial\n",
        "print('  Value: {:.3f}'.format(trial.value))\n",
        "print('  Params: ')\n",
        "for key, value in trial.params.items():\n",
        "    print('    {}: {}'.format(key, value))"
      ],
      "metadata": {
        "colab": {
          "base_uri": "https://localhost:8080/",
          "height": 1000
        },
        "id": "LZZXfsk9vQsi",
        "outputId": "d1fe633a-655f-45f2-a782-4298b2a6a1c8"
      },
      "execution_count": 51,
      "outputs": [
        {
          "output_type": "stream",
          "name": "stderr",
          "text": [
            "\u001b[32m[I 2023-01-13 06:32:14,887]\u001b[0m A new study created in memory with name: no-name-761f02a5-f172-43ea-a29d-e8c683a46167\u001b[0m\n",
            "<ipython-input-50-9633017da695>:4: FutureWarning: suggest_discrete_uniform has been deprecated in v3.0.0. This feature will be removed in v6.0.0. See https://github.com/optuna/optuna/releases/tag/v3.0.0. Use :func:`~optuna.trial.Trial.suggest_float` instead.\n",
            "  emb_size = int(trial.suggest_discrete_uniform('emb_size', 100, 400, 100))\n",
            "<ipython-input-50-9633017da695>:5: FutureWarning: suggest_discrete_uniform has been deprecated in v3.0.0. This feature will be removed in v6.0.0. See https://github.com/optuna/optuna/releases/tag/v3.0.0. Use :func:`~optuna.trial.Trial.suggest_float` instead.\n",
            "  out_channels = int(trial.suggest_discrete_uniform('out_channels', 50, 200, 50))\n",
            "<ipython-input-50-9633017da695>:6: FutureWarning: suggest_discrete_uniform has been deprecated in v3.0.0. This feature will be removed in v6.0.0. See https://github.com/optuna/optuna/releases/tag/v3.0.0. Use :func:`~optuna.trial.Trial.suggest_float` instead.\n",
            "  drop_rate = trial.suggest_discrete_uniform('drop_rate', 0.0, 0.5, 0.1)\n",
            "<ipython-input-50-9633017da695>:7: FutureWarning: suggest_loguniform has been deprecated in v3.0.0. This feature will be removed in v6.0.0. See https://github.com/optuna/optuna/releases/tag/v3.0.0. Use :func:`~optuna.trial.Trial.suggest_float` instead.\n",
            "  learning_rate = trial.suggest_loguniform('learning_rate', 5e-4, 5e-2)\n",
            "<ipython-input-50-9633017da695>:8: FutureWarning: suggest_discrete_uniform has been deprecated in v3.0.0. This feature will be removed in v6.0.0. See https://github.com/optuna/optuna/releases/tag/v3.0.0. Use :func:`~optuna.trial.Trial.suggest_float` instead.\n",
            "  momentum = trial.suggest_discrete_uniform('momentum', 0.5, 0.9, 0.1)\n",
            "<ipython-input-50-9633017da695>:9: FutureWarning: suggest_discrete_uniform has been deprecated in v3.0.0. This feature will be removed in v6.0.0. See https://github.com/optuna/optuna/releases/tag/v3.0.0. Use :func:`~optuna.trial.Trial.suggest_float` instead.\n",
            "  batch_size = int(trial.suggest_discrete_uniform('batch_size', 16, 128, 16))\n"
          ]
        },
        {
          "output_type": "stream",
          "name": "stdout",
          "text": [
            "epoch: 1, loss_train: 0.9141, accuracy_train: 0.6845, loss_valid: 0.9413, accuracy_valid: 0.6694, 41.0510sec\n",
            "epoch: 2, loss_train: 0.7248, accuracy_train: 0.7450, loss_valid: 0.8055, accuracy_valid: 0.7099, 34.0753sec\n",
            "epoch: 3, loss_train: 0.6059, accuracy_train: 0.7850, loss_valid: 0.7239, accuracy_valid: 0.7294, 38.7667sec\n",
            "epoch: 4, loss_train: 0.4962, accuracy_train: 0.8153, loss_valid: 0.6604, accuracy_valid: 0.7601, 33.3378sec\n",
            "epoch: 5, loss_train: 0.4062, accuracy_train: 0.8556, loss_valid: 0.6154, accuracy_valid: 0.7774, 34.0289sec\n",
            "epoch: 6, loss_train: 0.3242, accuracy_train: 0.9071, loss_valid: 0.5702, accuracy_valid: 0.8006, 33.8380sec\n",
            "epoch: 7, loss_train: 0.2774, accuracy_train: 0.9140, loss_valid: 0.5544, accuracy_valid: 0.8058, 33.1143sec\n",
            "epoch: 8, loss_train: 0.2187, accuracy_train: 0.9573, loss_valid: 0.5244, accuracy_valid: 0.8111, 34.8841sec\n",
            "epoch: 9, loss_train: 0.1809, accuracy_train: 0.9665, loss_valid: 0.5064, accuracy_valid: 0.8111, 32.9212sec\n",
            "epoch: 10, loss_train: 0.1523, accuracy_train: 0.9803, loss_valid: 0.4967, accuracy_valid: 0.8261, 33.5879sec\n",
            "epoch: 11, loss_train: 0.1296, accuracy_train: 0.9832, loss_valid: 0.4842, accuracy_valid: 0.8261, 33.0611sec\n",
            "epoch: 12, loss_train: 0.1107, accuracy_train: 0.9882, loss_valid: 0.4776, accuracy_valid: 0.8268, 33.9569sec\n",
            "epoch: 13, loss_train: 0.0979, accuracy_train: 0.9890, loss_valid: 0.4745, accuracy_valid: 0.8283, 33.7333sec\n",
            "epoch: 14, loss_train: 0.0849, accuracy_train: 0.9939, loss_valid: 0.4695, accuracy_valid: 0.8313, 33.6690sec\n",
            "epoch: 15, loss_train: 0.0770, accuracy_train: 0.9935, loss_valid: 0.4673, accuracy_valid: 0.8343, 33.3989sec\n",
            "epoch: 16, loss_train: 0.0684, accuracy_train: 0.9965, loss_valid: 0.4624, accuracy_valid: 0.8298, 32.6662sec\n",
            "epoch: 17, loss_train: 0.0631, accuracy_train: 0.9964, loss_valid: 0.4638, accuracy_valid: 0.8313, 33.7838sec\n",
            "epoch: 18, loss_train: 0.0580, accuracy_train: 0.9973, loss_valid: 0.4614, accuracy_valid: 0.8321, 33.8507sec\n",
            "epoch: 19, loss_train: 0.0548, accuracy_train: 0.9973, loss_valid: 0.4605, accuracy_valid: 0.8328, 33.5969sec\n",
            "epoch: 20, loss_train: 0.0512, accuracy_train: 0.9976, loss_valid: 0.4591, accuracy_valid: 0.8336, 33.9092sec\n",
            "epoch: 21, loss_train: 0.0495, accuracy_train: 0.9976, loss_valid: 0.4583, accuracy_valid: 0.8343, 33.8851sec\n",
            "epoch: 22, loss_train: 0.0471, accuracy_train: 0.9978, loss_valid: 0.4585, accuracy_valid: 0.8343, 34.1138sec\n",
            "epoch: 23, loss_train: 0.0459, accuracy_train: 0.9978, loss_valid: 0.4586, accuracy_valid: 0.8358, 33.0911sec\n",
            "epoch: 24, loss_train: 0.0446, accuracy_train: 0.9980, loss_valid: 0.4586, accuracy_valid: 0.8358, 32.9899sec\n"
          ]
        },
        {
          "output_type": "stream",
          "name": "stderr",
          "text": [
            "\u001b[32m[I 2023-01-13 06:45:55,859]\u001b[0m Trial 0 finished with value: 0.4586099451224317 and parameters: {'emb_size': 300.0, 'out_channels': 150.0, 'drop_rate': 0.30000000000000004, 'learning_rate': 0.0032723394358432772, 'momentum': 0.8, 'batch_size': 64.0}. Best is trial 0 with value: 0.4586099451224317.\u001b[0m\n"
          ]
        },
        {
          "output_type": "stream",
          "name": "stdout",
          "text": [
            "epoch: 1, loss_train: 0.7414, accuracy_train: 0.7365, loss_valid: 0.8071, accuracy_valid: 0.7031, 27.8203sec\n",
            "epoch: 2, loss_train: 0.5133, accuracy_train: 0.8230, loss_valid: 0.6615, accuracy_valid: 0.7526, 26.5311sec\n",
            "epoch: 3, loss_train: 0.3495, accuracy_train: 0.9100, loss_valid: 0.5815, accuracy_valid: 0.7991, 26.5935sec\n",
            "epoch: 4, loss_train: 0.2352, accuracy_train: 0.9501, loss_valid: 0.5181, accuracy_valid: 0.8216, 27.7589sec\n",
            "epoch: 5, loss_train: 0.1631, accuracy_train: 0.9817, loss_valid: 0.4900, accuracy_valid: 0.8231, 26.8286sec\n",
            "epoch: 6, loss_train: 0.1152, accuracy_train: 0.9902, loss_valid: 0.4681, accuracy_valid: 0.8253, 27.2707sec\n",
            "epoch: 7, loss_train: 0.0858, accuracy_train: 0.9963, loss_valid: 0.4638, accuracy_valid: 0.8336, 27.6523sec\n",
            "epoch: 8, loss_train: 0.0657, accuracy_train: 0.9979, loss_valid: 0.4599, accuracy_valid: 0.8373, 27.5309sec\n",
            "epoch: 9, loss_train: 0.0535, accuracy_train: 0.9986, loss_valid: 0.4586, accuracy_valid: 0.8433, 27.0144sec\n",
            "epoch: 10, loss_train: 0.0441, accuracy_train: 0.9986, loss_valid: 0.4504, accuracy_valid: 0.8388, 27.7280sec\n",
            "epoch: 11, loss_train: 0.0380, accuracy_train: 0.9987, loss_valid: 0.4513, accuracy_valid: 0.8448, 26.6888sec\n",
            "epoch: 12, loss_train: 0.0336, accuracy_train: 0.9988, loss_valid: 0.4516, accuracy_valid: 0.8448, 26.8786sec\n",
            "epoch: 13, loss_train: 0.0301, accuracy_train: 0.9989, loss_valid: 0.4515, accuracy_valid: 0.8441, 27.0345sec\n",
            "epoch: 14, loss_train: 0.0276, accuracy_train: 0.9989, loss_valid: 0.4527, accuracy_valid: 0.8463, 26.3647sec\n",
            "epoch: 15, loss_train: 0.0255, accuracy_train: 0.9989, loss_valid: 0.4523, accuracy_valid: 0.8456, 26.8062sec\n",
            "epoch: 16, loss_train: 0.0239, accuracy_train: 0.9989, loss_valid: 0.4509, accuracy_valid: 0.8433, 26.7844sec\n",
            "epoch: 17, loss_train: 0.0226, accuracy_train: 0.9989, loss_valid: 0.4521, accuracy_valid: 0.8441, 27.3296sec\n",
            "epoch: 18, loss_train: 0.0215, accuracy_train: 0.9989, loss_valid: 0.4526, accuracy_valid: 0.8456, 26.5832sec\n",
            "epoch: 19, loss_train: 0.0207, accuracy_train: 0.9989, loss_valid: 0.4530, accuracy_valid: 0.8448, 26.4938sec\n"
          ]
        },
        {
          "output_type": "stream",
          "name": "stderr",
          "text": [
            "\u001b[32m[I 2023-01-13 06:54:31,012]\u001b[0m Trial 1 finished with value: 0.4529925961678792 and parameters: {'emb_size': 400.0, 'out_channels': 50.0, 'drop_rate': 0.0, 'learning_rate': 0.0033894131743360807, 'momentum': 0.8, 'batch_size': 48.0}. Best is trial 1 with value: 0.4529925961678792.\u001b[0m\n"
          ]
        },
        {
          "output_type": "stream",
          "name": "stdout",
          "text": [
            "epoch: 1, loss_train: 0.5802, accuracy_train: 0.8079, loss_valid: 0.7152, accuracy_valid: 0.7466, 41.5309sec\n",
            "epoch: 2, loss_train: 0.3036, accuracy_train: 0.9170, loss_valid: 0.5732, accuracy_valid: 0.7901, 42.1773sec\n",
            "epoch: 3, loss_train: 0.1438, accuracy_train: 0.9813, loss_valid: 0.4803, accuracy_valid: 0.8373, 42.7928sec\n",
            "epoch: 4, loss_train: 0.0781, accuracy_train: 0.9929, loss_valid: 0.4590, accuracy_valid: 0.8418, 42.6364sec\n",
            "epoch: 5, loss_train: 0.0442, accuracy_train: 0.9950, loss_valid: 0.4544, accuracy_valid: 0.8501, 43.2018sec\n",
            "epoch: 6, loss_train: 0.0299, accuracy_train: 0.9978, loss_valid: 0.4612, accuracy_valid: 0.8501, 43.1492sec\n",
            "epoch: 7, loss_train: 0.0225, accuracy_train: 0.9984, loss_valid: 0.4631, accuracy_valid: 0.8471, 42.7823sec\n",
            "epoch: 8, loss_train: 0.0149, accuracy_train: 0.9989, loss_valid: 0.4597, accuracy_valid: 0.8568, 42.7510sec\n",
            "epoch: 9, loss_train: 0.0120, accuracy_train: 0.9991, loss_valid: 0.4774, accuracy_valid: 0.8463, 42.0383sec\n",
            "epoch: 10, loss_train: 0.0094, accuracy_train: 0.9990, loss_valid: 0.4573, accuracy_valid: 0.8538, 42.2619sec\n",
            "epoch: 11, loss_train: 0.0077, accuracy_train: 0.9992, loss_valid: 0.4668, accuracy_valid: 0.8546, 43.1593sec\n",
            "epoch: 12, loss_train: 0.0072, accuracy_train: 0.9992, loss_valid: 0.4628, accuracy_valid: 0.8538, 42.3561sec\n"
          ]
        },
        {
          "output_type": "stream",
          "name": "stderr",
          "text": [
            "\u001b[33m[W 2023-01-13 07:03:43,833]\u001b[0m Trial 2 failed because of the following error: KeyboardInterrupt()\u001b[0m\n",
            "Traceback (most recent call last):\n",
            "  File \"/usr/local/lib/python3.8/dist-packages/optuna/study/_optimize.py\", line 196, in _run_trial\n",
            "    value_or_values = func(trial)\n",
            "  File \"<ipython-input-50-9633017da695>\", line 21, in objective\n",
            "    log = train_model(dataset_train, dataset_valid, batch_size, model, loss_fn, optimizer, NUM_EPOCHS, collate_fn=Padsequence(PADDING_IDX), device=device)\n",
            "  File \"<ipython-input-9-455194217bee>\", line 53, in train_model\n",
            "    torch.save({'epoch': epoch, 'model_state_dict': model.state_dict(), 'optimizer_state_dict': optimizer.state_dict()}, f'checkpoint{epoch + 1}.pt')\n",
            "  File \"/usr/local/lib/python3.8/dist-packages/torch/serialization.py\", line 423, in save\n",
            "    _save(obj, opened_zipfile, pickle_module, pickle_protocol)\n",
            "  File \"/usr/local/lib/python3.8/dist-packages/torch/serialization.py\", line 650, in _save\n",
            "    zip_file.write_record(name, storage.data_ptr(), num_bytes)\n",
            "KeyboardInterrupt\n"
          ]
        },
        {
          "output_type": "error",
          "ename": "KeyboardInterrupt",
          "evalue": "ignored",
          "traceback": [
            "\u001b[0;31m---------------------------------------------------------------------------\u001b[0m",
            "\u001b[0;31mKeyboardInterrupt\u001b[0m                         Traceback (most recent call last)",
            "\u001b[0;32m<ipython-input-51-e710ec2b26f3>\u001b[0m in \u001b[0;36m<module>\u001b[0;34m\u001b[0m\n\u001b[1;32m      1\u001b[0m \u001b[0mstudy\u001b[0m \u001b[0;34m=\u001b[0m \u001b[0moptuna\u001b[0m\u001b[0;34m.\u001b[0m\u001b[0mcreate_study\u001b[0m\u001b[0;34m(\u001b[0m\u001b[0;34m)\u001b[0m\u001b[0;34m\u001b[0m\u001b[0;34m\u001b[0m\u001b[0m\n\u001b[0;32m----> 2\u001b[0;31m \u001b[0mstudy\u001b[0m\u001b[0;34m.\u001b[0m\u001b[0moptimize\u001b[0m\u001b[0;34m(\u001b[0m\u001b[0mobjective\u001b[0m\u001b[0;34m,\u001b[0m \u001b[0mtimeout\u001b[0m\u001b[0;34m=\u001b[0m\u001b[0;36m7200\u001b[0m\u001b[0;34m)\u001b[0m\u001b[0;34m\u001b[0m\u001b[0;34m\u001b[0m\u001b[0m\n\u001b[0m\u001b[1;32m      3\u001b[0m \u001b[0;34m\u001b[0m\u001b[0m\n\u001b[1;32m      4\u001b[0m \u001b[0mprint\u001b[0m\u001b[0;34m(\u001b[0m\u001b[0;34m'Best trial:'\u001b[0m\u001b[0;34m)\u001b[0m\u001b[0;34m\u001b[0m\u001b[0;34m\u001b[0m\u001b[0m\n\u001b[1;32m      5\u001b[0m \u001b[0mtrial\u001b[0m \u001b[0;34m=\u001b[0m \u001b[0mstudy\u001b[0m\u001b[0;34m.\u001b[0m\u001b[0mbest_trial\u001b[0m\u001b[0;34m\u001b[0m\u001b[0;34m\u001b[0m\u001b[0m\n",
            "\u001b[0;32m/usr/local/lib/python3.8/dist-packages/optuna/study/study.py\u001b[0m in \u001b[0;36moptimize\u001b[0;34m(self, func, n_trials, timeout, n_jobs, catch, callbacks, gc_after_trial, show_progress_bar)\u001b[0m\n\u001b[1;32m    417\u001b[0m         \"\"\"\n\u001b[1;32m    418\u001b[0m \u001b[0;34m\u001b[0m\u001b[0m\n\u001b[0;32m--> 419\u001b[0;31m         _optimize(\n\u001b[0m\u001b[1;32m    420\u001b[0m             \u001b[0mstudy\u001b[0m\u001b[0;34m=\u001b[0m\u001b[0mself\u001b[0m\u001b[0;34m,\u001b[0m\u001b[0;34m\u001b[0m\u001b[0;34m\u001b[0m\u001b[0m\n\u001b[1;32m    421\u001b[0m             \u001b[0mfunc\u001b[0m\u001b[0;34m=\u001b[0m\u001b[0mfunc\u001b[0m\u001b[0;34m,\u001b[0m\u001b[0;34m\u001b[0m\u001b[0;34m\u001b[0m\u001b[0m\n",
            "\u001b[0;32m/usr/local/lib/python3.8/dist-packages/optuna/study/_optimize.py\u001b[0m in \u001b[0;36m_optimize\u001b[0;34m(study, func, n_trials, timeout, n_jobs, catch, callbacks, gc_after_trial, show_progress_bar)\u001b[0m\n\u001b[1;32m     64\u001b[0m     \u001b[0;32mtry\u001b[0m\u001b[0;34m:\u001b[0m\u001b[0;34m\u001b[0m\u001b[0;34m\u001b[0m\u001b[0m\n\u001b[1;32m     65\u001b[0m         \u001b[0;32mif\u001b[0m \u001b[0mn_jobs\u001b[0m \u001b[0;34m==\u001b[0m \u001b[0;36m1\u001b[0m\u001b[0;34m:\u001b[0m\u001b[0;34m\u001b[0m\u001b[0;34m\u001b[0m\u001b[0m\n\u001b[0;32m---> 66\u001b[0;31m             _optimize_sequential(\n\u001b[0m\u001b[1;32m     67\u001b[0m                 \u001b[0mstudy\u001b[0m\u001b[0;34m,\u001b[0m\u001b[0;34m\u001b[0m\u001b[0;34m\u001b[0m\u001b[0m\n\u001b[1;32m     68\u001b[0m                 \u001b[0mfunc\u001b[0m\u001b[0;34m,\u001b[0m\u001b[0;34m\u001b[0m\u001b[0;34m\u001b[0m\u001b[0m\n",
            "\u001b[0;32m/usr/local/lib/python3.8/dist-packages/optuna/study/_optimize.py\u001b[0m in \u001b[0;36m_optimize_sequential\u001b[0;34m(study, func, n_trials, timeout, catch, callbacks, gc_after_trial, reseed_sampler_rng, time_start, progress_bar)\u001b[0m\n\u001b[1;32m    158\u001b[0m \u001b[0;34m\u001b[0m\u001b[0m\n\u001b[1;32m    159\u001b[0m         \u001b[0;32mtry\u001b[0m\u001b[0;34m:\u001b[0m\u001b[0;34m\u001b[0m\u001b[0;34m\u001b[0m\u001b[0m\n\u001b[0;32m--> 160\u001b[0;31m             \u001b[0mfrozen_trial\u001b[0m \u001b[0;34m=\u001b[0m \u001b[0m_run_trial\u001b[0m\u001b[0;34m(\u001b[0m\u001b[0mstudy\u001b[0m\u001b[0;34m,\u001b[0m \u001b[0mfunc\u001b[0m\u001b[0;34m,\u001b[0m \u001b[0mcatch\u001b[0m\u001b[0;34m)\u001b[0m\u001b[0;34m\u001b[0m\u001b[0;34m\u001b[0m\u001b[0m\n\u001b[0m\u001b[1;32m    161\u001b[0m         \u001b[0;32mfinally\u001b[0m\u001b[0;34m:\u001b[0m\u001b[0;34m\u001b[0m\u001b[0;34m\u001b[0m\u001b[0m\n\u001b[1;32m    162\u001b[0m             \u001b[0;31m# The following line mitigates memory problems that can be occurred in some\u001b[0m\u001b[0;34m\u001b[0m\u001b[0;34m\u001b[0m\u001b[0;34m\u001b[0m\u001b[0m\n",
            "\u001b[0;32m/usr/local/lib/python3.8/dist-packages/optuna/study/_optimize.py\u001b[0m in \u001b[0;36m_run_trial\u001b[0;34m(study, func, catch)\u001b[0m\n\u001b[1;32m    232\u001b[0m         \u001b[0;32mand\u001b[0m \u001b[0;32mnot\u001b[0m \u001b[0misinstance\u001b[0m\u001b[0;34m(\u001b[0m\u001b[0mfunc_err\u001b[0m\u001b[0;34m,\u001b[0m \u001b[0mcatch\u001b[0m\u001b[0;34m)\u001b[0m\u001b[0;34m\u001b[0m\u001b[0;34m\u001b[0m\u001b[0m\n\u001b[1;32m    233\u001b[0m     ):\n\u001b[0;32m--> 234\u001b[0;31m         \u001b[0;32mraise\u001b[0m \u001b[0mfunc_err\u001b[0m\u001b[0;34m\u001b[0m\u001b[0;34m\u001b[0m\u001b[0m\n\u001b[0m\u001b[1;32m    235\u001b[0m     \u001b[0;32mreturn\u001b[0m \u001b[0mfrozen_trial\u001b[0m\u001b[0;34m\u001b[0m\u001b[0;34m\u001b[0m\u001b[0m\n\u001b[1;32m    236\u001b[0m \u001b[0;34m\u001b[0m\u001b[0m\n",
            "\u001b[0;32m/usr/local/lib/python3.8/dist-packages/optuna/study/_optimize.py\u001b[0m in \u001b[0;36m_run_trial\u001b[0;34m(study, func, catch)\u001b[0m\n\u001b[1;32m    194\u001b[0m     \u001b[0;32mwith\u001b[0m \u001b[0mget_heartbeat_thread\u001b[0m\u001b[0;34m(\u001b[0m\u001b[0mtrial\u001b[0m\u001b[0;34m.\u001b[0m\u001b[0m_trial_id\u001b[0m\u001b[0;34m,\u001b[0m \u001b[0mstudy\u001b[0m\u001b[0;34m.\u001b[0m\u001b[0m_storage\u001b[0m\u001b[0;34m)\u001b[0m\u001b[0;34m:\u001b[0m\u001b[0;34m\u001b[0m\u001b[0;34m\u001b[0m\u001b[0m\n\u001b[1;32m    195\u001b[0m         \u001b[0;32mtry\u001b[0m\u001b[0;34m:\u001b[0m\u001b[0;34m\u001b[0m\u001b[0;34m\u001b[0m\u001b[0m\n\u001b[0;32m--> 196\u001b[0;31m             \u001b[0mvalue_or_values\u001b[0m \u001b[0;34m=\u001b[0m \u001b[0mfunc\u001b[0m\u001b[0;34m(\u001b[0m\u001b[0mtrial\u001b[0m\u001b[0;34m)\u001b[0m\u001b[0;34m\u001b[0m\u001b[0;34m\u001b[0m\u001b[0m\n\u001b[0m\u001b[1;32m    197\u001b[0m         \u001b[0;32mexcept\u001b[0m \u001b[0mexceptions\u001b[0m\u001b[0;34m.\u001b[0m\u001b[0mTrialPruned\u001b[0m \u001b[0;32mas\u001b[0m \u001b[0me\u001b[0m\u001b[0;34m:\u001b[0m\u001b[0;34m\u001b[0m\u001b[0;34m\u001b[0m\u001b[0m\n\u001b[1;32m    198\u001b[0m             \u001b[0;31m# TODO(mamu): Handle multi-objective cases.\u001b[0m\u001b[0;34m\u001b[0m\u001b[0;34m\u001b[0m\u001b[0;34m\u001b[0m\u001b[0m\n",
            "\u001b[0;32m<ipython-input-50-9633017da695>\u001b[0m in \u001b[0;36mobjective\u001b[0;34m(trial)\u001b[0m\n\u001b[1;32m     19\u001b[0m     \u001b[0moptimizer\u001b[0m \u001b[0;34m=\u001b[0m \u001b[0mtorch\u001b[0m\u001b[0;34m.\u001b[0m\u001b[0moptim\u001b[0m\u001b[0;34m.\u001b[0m\u001b[0mSGD\u001b[0m\u001b[0;34m(\u001b[0m\u001b[0mmodel\u001b[0m\u001b[0;34m.\u001b[0m\u001b[0mparameters\u001b[0m\u001b[0;34m(\u001b[0m\u001b[0;34m)\u001b[0m\u001b[0;34m,\u001b[0m \u001b[0mlr\u001b[0m\u001b[0;34m=\u001b[0m\u001b[0mlearning_rate\u001b[0m\u001b[0;34m,\u001b[0m \u001b[0mmomentum\u001b[0m\u001b[0;34m=\u001b[0m\u001b[0mmomentum\u001b[0m\u001b[0;34m)\u001b[0m\u001b[0;34m\u001b[0m\u001b[0;34m\u001b[0m\u001b[0m\n\u001b[1;32m     20\u001b[0m     \u001b[0mdevice\u001b[0m \u001b[0;34m=\u001b[0m \u001b[0mtorch\u001b[0m\u001b[0;34m.\u001b[0m\u001b[0mcuda\u001b[0m\u001b[0;34m.\u001b[0m\u001b[0mset_device\u001b[0m\u001b[0;34m(\u001b[0m\u001b[0;36m0\u001b[0m\u001b[0;34m)\u001b[0m\u001b[0;34m\u001b[0m\u001b[0;34m\u001b[0m\u001b[0m\n\u001b[0;32m---> 21\u001b[0;31m     \u001b[0mlog\u001b[0m \u001b[0;34m=\u001b[0m \u001b[0mtrain_model\u001b[0m\u001b[0;34m(\u001b[0m\u001b[0mdataset_train\u001b[0m\u001b[0;34m,\u001b[0m \u001b[0mdataset_valid\u001b[0m\u001b[0;34m,\u001b[0m \u001b[0mbatch_size\u001b[0m\u001b[0;34m,\u001b[0m \u001b[0mmodel\u001b[0m\u001b[0;34m,\u001b[0m \u001b[0mloss_fn\u001b[0m\u001b[0;34m,\u001b[0m \u001b[0moptimizer\u001b[0m\u001b[0;34m,\u001b[0m \u001b[0mNUM_EPOCHS\u001b[0m\u001b[0;34m,\u001b[0m \u001b[0mcollate_fn\u001b[0m\u001b[0;34m=\u001b[0m\u001b[0mPadsequence\u001b[0m\u001b[0;34m(\u001b[0m\u001b[0mPADDING_IDX\u001b[0m\u001b[0;34m)\u001b[0m\u001b[0;34m,\u001b[0m \u001b[0mdevice\u001b[0m\u001b[0;34m=\u001b[0m\u001b[0mdevice\u001b[0m\u001b[0;34m)\u001b[0m\u001b[0;34m\u001b[0m\u001b[0;34m\u001b[0m\u001b[0m\n\u001b[0m\u001b[1;32m     22\u001b[0m     \u001b[0mloss_valid\u001b[0m\u001b[0;34m,\u001b[0m \u001b[0m_\u001b[0m \u001b[0;34m=\u001b[0m \u001b[0mcalculate_loss_and_accuracy\u001b[0m\u001b[0;34m(\u001b[0m\u001b[0mmodel\u001b[0m\u001b[0;34m,\u001b[0m \u001b[0mdataset_valid\u001b[0m\u001b[0;34m,\u001b[0m \u001b[0mdevice\u001b[0m\u001b[0;34m,\u001b[0m \u001b[0mloss_fn\u001b[0m\u001b[0;34m=\u001b[0m\u001b[0mloss_fn\u001b[0m\u001b[0;34m)\u001b[0m\u001b[0;34m\u001b[0m\u001b[0;34m\u001b[0m\u001b[0m\n\u001b[1;32m     23\u001b[0m \u001b[0;34m\u001b[0m\u001b[0m\n",
            "\u001b[0;32m<ipython-input-9-455194217bee>\u001b[0m in \u001b[0;36mtrain_model\u001b[0;34m(dataset_train, dataset_valid, batch_size, model, loss_fn, optimizer, num_epochs, collate_fn, device)\u001b[0m\n\u001b[1;32m     51\u001b[0m         \u001b[0mlog_valid\u001b[0m\u001b[0;34m.\u001b[0m\u001b[0mappend\u001b[0m\u001b[0;34m(\u001b[0m\u001b[0;34m[\u001b[0m\u001b[0mloss_valid\u001b[0m\u001b[0;34m,\u001b[0m \u001b[0macc_valid\u001b[0m\u001b[0;34m]\u001b[0m\u001b[0;34m)\u001b[0m\u001b[0;34m\u001b[0m\u001b[0;34m\u001b[0m\u001b[0m\n\u001b[1;32m     52\u001b[0m \u001b[0;34m\u001b[0m\u001b[0m\n\u001b[0;32m---> 53\u001b[0;31m         \u001b[0mtorch\u001b[0m\u001b[0;34m.\u001b[0m\u001b[0msave\u001b[0m\u001b[0;34m(\u001b[0m\u001b[0;34m{\u001b[0m\u001b[0;34m'epoch'\u001b[0m\u001b[0;34m:\u001b[0m \u001b[0mepoch\u001b[0m\u001b[0;34m,\u001b[0m \u001b[0;34m'model_state_dict'\u001b[0m\u001b[0;34m:\u001b[0m \u001b[0mmodel\u001b[0m\u001b[0;34m.\u001b[0m\u001b[0mstate_dict\u001b[0m\u001b[0;34m(\u001b[0m\u001b[0;34m)\u001b[0m\u001b[0;34m,\u001b[0m \u001b[0;34m'optimizer_state_dict'\u001b[0m\u001b[0;34m:\u001b[0m \u001b[0moptimizer\u001b[0m\u001b[0;34m.\u001b[0m\u001b[0mstate_dict\u001b[0m\u001b[0;34m(\u001b[0m\u001b[0;34m)\u001b[0m\u001b[0;34m}\u001b[0m\u001b[0;34m,\u001b[0m \u001b[0;34mf'checkpoint{epoch + 1}.pt'\u001b[0m\u001b[0;34m)\u001b[0m\u001b[0;34m\u001b[0m\u001b[0;34m\u001b[0m\u001b[0m\n\u001b[0m\u001b[1;32m     54\u001b[0m \u001b[0;34m\u001b[0m\u001b[0m\n\u001b[1;32m     55\u001b[0m         \u001b[0me_time\u001b[0m \u001b[0;34m=\u001b[0m \u001b[0mtime\u001b[0m\u001b[0;34m.\u001b[0m\u001b[0mtime\u001b[0m\u001b[0;34m(\u001b[0m\u001b[0;34m)\u001b[0m\u001b[0;34m\u001b[0m\u001b[0;34m\u001b[0m\u001b[0m\n",
            "\u001b[0;32m/usr/local/lib/python3.8/dist-packages/torch/serialization.py\u001b[0m in \u001b[0;36msave\u001b[0;34m(obj, f, pickle_module, pickle_protocol, _use_new_zipfile_serialization)\u001b[0m\n\u001b[1;32m    421\u001b[0m     \u001b[0;32mif\u001b[0m \u001b[0m_use_new_zipfile_serialization\u001b[0m\u001b[0;34m:\u001b[0m\u001b[0;34m\u001b[0m\u001b[0;34m\u001b[0m\u001b[0m\n\u001b[1;32m    422\u001b[0m         \u001b[0;32mwith\u001b[0m \u001b[0m_open_zipfile_writer\u001b[0m\u001b[0;34m(\u001b[0m\u001b[0mf\u001b[0m\u001b[0;34m)\u001b[0m \u001b[0;32mas\u001b[0m \u001b[0mopened_zipfile\u001b[0m\u001b[0;34m:\u001b[0m\u001b[0;34m\u001b[0m\u001b[0;34m\u001b[0m\u001b[0m\n\u001b[0;32m--> 423\u001b[0;31m             \u001b[0m_save\u001b[0m\u001b[0;34m(\u001b[0m\u001b[0mobj\u001b[0m\u001b[0;34m,\u001b[0m \u001b[0mopened_zipfile\u001b[0m\u001b[0;34m,\u001b[0m \u001b[0mpickle_module\u001b[0m\u001b[0;34m,\u001b[0m \u001b[0mpickle_protocol\u001b[0m\u001b[0;34m)\u001b[0m\u001b[0;34m\u001b[0m\u001b[0;34m\u001b[0m\u001b[0m\n\u001b[0m\u001b[1;32m    424\u001b[0m             \u001b[0;32mreturn\u001b[0m\u001b[0;34m\u001b[0m\u001b[0;34m\u001b[0m\u001b[0m\n\u001b[1;32m    425\u001b[0m     \u001b[0;32melse\u001b[0m\u001b[0;34m:\u001b[0m\u001b[0;34m\u001b[0m\u001b[0;34m\u001b[0m\u001b[0m\n",
            "\u001b[0;32m/usr/local/lib/python3.8/dist-packages/torch/serialization.py\u001b[0m in \u001b[0;36m_save\u001b[0;34m(obj, zip_file, pickle_module, pickle_protocol)\u001b[0m\n\u001b[1;32m    648\u001b[0m         \u001b[0;31m# Now that it is on the CPU we can directly copy it into the zip file\u001b[0m\u001b[0;34m\u001b[0m\u001b[0;34m\u001b[0m\u001b[0;34m\u001b[0m\u001b[0m\n\u001b[1;32m    649\u001b[0m         \u001b[0mnum_bytes\u001b[0m \u001b[0;34m=\u001b[0m \u001b[0mstorage\u001b[0m\u001b[0;34m.\u001b[0m\u001b[0mnbytes\u001b[0m\u001b[0;34m(\u001b[0m\u001b[0;34m)\u001b[0m\u001b[0;34m\u001b[0m\u001b[0;34m\u001b[0m\u001b[0m\n\u001b[0;32m--> 650\u001b[0;31m         \u001b[0mzip_file\u001b[0m\u001b[0;34m.\u001b[0m\u001b[0mwrite_record\u001b[0m\u001b[0;34m(\u001b[0m\u001b[0mname\u001b[0m\u001b[0;34m,\u001b[0m \u001b[0mstorage\u001b[0m\u001b[0;34m.\u001b[0m\u001b[0mdata_ptr\u001b[0m\u001b[0;34m(\u001b[0m\u001b[0;34m)\u001b[0m\u001b[0;34m,\u001b[0m \u001b[0mnum_bytes\u001b[0m\u001b[0;34m)\u001b[0m\u001b[0;34m\u001b[0m\u001b[0;34m\u001b[0m\u001b[0m\n\u001b[0m\u001b[1;32m    651\u001b[0m \u001b[0;34m\u001b[0m\u001b[0m\n\u001b[1;32m    652\u001b[0m \u001b[0;34m\u001b[0m\u001b[0m\n",
            "\u001b[0;31mKeyboardInterrupt\u001b[0m: "
          ]
        }
      ]
    },
    {
      "cell_type": "code",
      "execution_count": null,
      "metadata": {
        "id": "sNjt6dXFsq6s"
      },
      "outputs": [],
      "source": [
        "vocab_size = len(set(word2id.values())) + 1\n",
        "EMB_SIZE = int(trial.params['emb_size'])\n",
        "PADDING_IDX = len(set(word2id.values()))\n",
        "OUTPUT_SIZE = 4\n",
        "OUT_CHANNELS = int(trial.params['out_channels'])\n",
        "CONV_PARAMS = [[2, 0], [3, 1], [4, 2]]\n",
        "DROP_RATE = trial.params['drop_rate']\n",
        "LEARNING_RATE = trial.params['learning_rate']\n",
        "BATCH_SIZE = int(trial.params['batch_size'])\n",
        "NUM_EPOCHS = 30"
      ]
    },
    {
      "cell_type": "code",
      "source": [
        "model = textCNN(vocab_size, EMB_SIZE, PADDING_IDX, OUTPUT_SIZE, OUT_CHANNELS, CONV_PARAMS, DROP_RATE)#, emb_weights=weights)\n",
        "print(model)\n",
        "loss_fn = nn.CrossEntropyLoss()\n",
        "optimizer = torch.optim.SGD(model.parameters(), lr=LEARNING_RATE, momentum=0.9)\n",
        "device = torch.cuda.set_device(0)\n",
        "log = train_model(dataset_train, dataset_valid, BATCH_SIZE, model, loss_fn,\n",
        "                  optimizer, NUM_EPOCHS, collate_fn=Padsequence(PADDING_IDX), device=device)"
      ],
      "metadata": {
        "id": "XbqFCGo-v4mA"
      },
      "execution_count": null,
      "outputs": []
    },
    {
      "cell_type": "code",
      "source": [
        "visualize_logs(log)\n",
        "\n",
        "# 正解率の算出\n",
        "_, acc_train = calculate_loss_and_accuracy(model, dataset_train, device=device)\n",
        "_, acc_test = calculate_loss_and_accuracy(model, dataset_test, device=device)\n",
        "print(f'acc_train：{acc_train:.3f}')\n",
        "print(f'acc_test：{acc_test:.3f}')"
      ],
      "metadata": {
        "id": "9FbAw9OgwIBL"
      },
      "execution_count": null,
      "outputs": []
    },
    {
      "cell_type": "markdown",
      "metadata": {
        "id": "w4Vmf_Whsq6s"
      },
      "source": [
        "### 89. 事前学習済み言語モデルからの転移学習\n",
        "事前学習済み言語モデル（例えば[BERT](https://github.com/google-research/bert)など）を出発点として，ニュース記事見出しをカテゴリに分類するモデルを構築せよ．"
      ]
    },
    {
      "cell_type": "code",
      "source": [
        "!pip install transformers"
      ],
      "metadata": {
        "id": "_SPagKMPwg1D"
      },
      "execution_count": null,
      "outputs": []
    },
    {
      "cell_type": "code",
      "source": [
        "import transformers\n",
        "from transformers import BertTokenizer, BertModel\n",
        "from torch import optim\n",
        "from torch import cuda"
      ],
      "metadata": {
        "id": "Pt2Qemmnwmj2"
      },
      "execution_count": null,
      "outputs": []
    },
    {
      "cell_type": "markdown",
      "source": [
        "https://amaru-ai.com/entry/2022/10/15/202442#%E7%92%B0%E5%A2%83%E8%A8%AD%E5%AE%9A"
      ],
      "metadata": {
        "id": "TrefS69fyMHz"
      }
    },
    {
      "cell_type": "code",
      "source": [],
      "metadata": {
        "id": "4yTwkL7-yMWj"
      },
      "execution_count": null,
      "outputs": []
    }
  ],
  "metadata": {
    "kernelspec": {
      "display_name": "Python 3",
      "language": "python",
      "name": "python3"
    },
    "language_info": {
      "name": "python",
      "version": "3.10.9 (main, Dec 15 2022, 17:11:09) [Clang 14.0.0 (clang-1400.0.29.202)]"
    },
    "orig_nbformat": 4,
    "vscode": {
      "interpreter": {
        "hash": "b0fa6594d8f4cbf19f97940f81e996739fb7646882a419484c72d19e05852a7e"
      }
    },
    "colab": {
      "provenance": [],
      "include_colab_link": true
    },
    "accelerator": "GPU",
    "gpuClass": "standard"
  },
  "nbformat": 4,
  "nbformat_minor": 0
}